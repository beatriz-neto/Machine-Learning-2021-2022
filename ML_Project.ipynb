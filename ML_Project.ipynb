{
 "cells": [
  {
   "cell_type": "markdown",
   "id": "4061ee4f",
   "metadata": {},
   "source": [
    "<div class=\"alert alert-block alert-info\">\n",
    "<center> <h1> MACHINE LEARNING MDSAA-BA </h1> </center> <br>\n",
    "<center> PROJECT 2021/2022 </center>"
   ]
  },
  {
   "cell_type": "markdown",
   "id": "081d24d0",
   "metadata": {},
   "source": [
    "**GROUP 39:** <br>\n",
    "- Beatriz Ferreia (20210630) <br>\n",
    "- Beatriz Neto (20210608) <br>\n",
    "- Diogo Marques (20210605)\n",
    "- Sara Silva (20210619)"
   ]
  },
  {
   "cell_type": "markdown",
   "id": "e354891b",
   "metadata": {},
   "source": [
    "\n",
    "    \n",
    "# 1. Imports\n"
   ]
  },
  {
   "cell_type": "markdown",
   "id": "8a3ea472",
   "metadata": {},
   "source": [
    "\n",
    "## 1.1. Import the Needed Libraries\n"
   ]
  },
  {
   "cell_type": "code",
   "execution_count": 1,
   "id": "f4fb7487",
   "metadata": {},
   "outputs": [],
   "source": [
    "import numpy as np\n",
    "import pandas as pd\n",
    "import matplotlib.pyplot as plt\n",
    "import seaborn as sns\n",
    "import scipy.stats as stats\n",
    "import math\n",
    "import os\n",
    "\n",
    "\n",
    "from sklearn.model_selection import train_test_split, KFold\n",
    "from sklearn.preprocessing import MinMaxScaler, OrdinalEncoder, OneHotEncoder, StandardScaler, RobustScaler\n",
    "\n",
    "\n",
    "import scipy.stats as stats\n",
    "from scipy.stats import chi2_contingency\n",
    "\n",
    "\n",
    "from sklearn.linear_model import LogisticRegression, LassoCV , RidgeCV, RidgeClassifier, PassiveAggressiveClassifier\n",
    "from sklearn.feature_selection import RFE, RFECV, SelectKBest, f_classif\n",
    "\n",
    "from sklearn.naive_bayes import GaussianNB\n",
    "\n",
    "from sklearn.impute import KNNImputer\n",
    "\n",
    "import warnings\n",
    "warnings.filterwarnings('ignore')\n",
    "\n",
    "from sklearn.model_selection import KFold, RepeatedKFold\n",
    "\n",
    "from sklearn.metrics import f1_score, confusion_matrix, classification_report, accuracy_score, mean_absolute_error, roc_auc_score\n",
    "\n",
    "from sklearn.tree import DecisionTreeClassifier, DecisionTreeRegressor, export_graphviz\n",
    "\n",
    "import graphviz\n",
    "\n",
    "import pydotplus\n",
    "\n",
    "from sklearn.ensemble import ExtraTreesClassifier, AdaBoostClassifier, RandomForestClassifier, GradientBoostingClassifier, BaggingClassifier, StackingClassifier, VotingClassifier\n",
    "\n",
    "from sklearn.decomposition import PCA\n",
    "\n",
    "from sklearn.neural_network import MLPClassifier\n",
    "\n",
    "from sklearn.model_selection import GridSearchCV\n",
    "\n",
    "from sklearn.neighbors import KNeighborsClassifier, KNeighborsRegressor\n",
    "\n",
    "from sklearn.svm import SVC\n",
    "\n",
    "import matplotlib.pyplot as plt\n",
    "\n",
    "from matplotlib.legend_handler import HandlerLine2D\n",
    "\n",
    "#!pip install pydotplus\n",
    "\n",
    "%matplotlib inline"
   ]
  },
  {
   "cell_type": "markdown",
   "id": "5e5fdc4b",
   "metadata": {},
   "source": [
    "\n",
    "\n",
    "## 1.2. Import Datasets\n",
    "\n"
   ]
  },
  {
   "cell_type": "code",
   "execution_count": 2,
   "id": "764eefa0",
   "metadata": {},
   "outputs": [
    {
     "data": {
      "text/html": [
       "<div>\n",
       "<style scoped>\n",
       "    .dataframe tbody tr th:only-of-type {\n",
       "        vertical-align: middle;\n",
       "    }\n",
       "\n",
       "    .dataframe tbody tr th {\n",
       "        vertical-align: top;\n",
       "    }\n",
       "\n",
       "    .dataframe thead th {\n",
       "        text-align: right;\n",
       "    }\n",
       "</style>\n",
       "<table border=\"1\" class=\"dataframe\">\n",
       "  <thead>\n",
       "    <tr style=\"text-align: right;\">\n",
       "      <th></th>\n",
       "      <th>Date</th>\n",
       "      <th>AccountMng_Pages</th>\n",
       "      <th>AccountMng_Duration</th>\n",
       "      <th>FAQ_Pages</th>\n",
       "      <th>FAQ_Duration</th>\n",
       "      <th>Product_Pages</th>\n",
       "      <th>Product_Duration</th>\n",
       "      <th>GoogleAnalytics_BounceRate</th>\n",
       "      <th>GoogleAnalytics_ExitRate</th>\n",
       "      <th>GoogleAnalytics_PageValue</th>\n",
       "      <th>OS</th>\n",
       "      <th>Browser</th>\n",
       "      <th>Country</th>\n",
       "      <th>Type_of_Traffic</th>\n",
       "      <th>Type_of_Visitor</th>\n",
       "      <th>Buy</th>\n",
       "    </tr>\n",
       "    <tr>\n",
       "      <th>Access_ID</th>\n",
       "      <th></th>\n",
       "      <th></th>\n",
       "      <th></th>\n",
       "      <th></th>\n",
       "      <th></th>\n",
       "      <th></th>\n",
       "      <th></th>\n",
       "      <th></th>\n",
       "      <th></th>\n",
       "      <th></th>\n",
       "      <th></th>\n",
       "      <th></th>\n",
       "      <th></th>\n",
       "      <th></th>\n",
       "      <th></th>\n",
       "      <th></th>\n",
       "    </tr>\n",
       "  </thead>\n",
       "  <tbody>\n",
       "    <tr>\n",
       "      <th>102863333</th>\n",
       "      <td>21-Mar-20</td>\n",
       "      <td>0</td>\n",
       "      <td>0.0</td>\n",
       "      <td>0</td>\n",
       "      <td>0.0</td>\n",
       "      <td>3</td>\n",
       "      <td>64.0000</td>\n",
       "      <td>0.0000</td>\n",
       "      <td>0.0667</td>\n",
       "      <td>0.0000</td>\n",
       "      <td>MacOSX</td>\n",
       "      <td>2</td>\n",
       "      <td>Portugal</td>\n",
       "      <td>1</td>\n",
       "      <td>Returner</td>\n",
       "      <td>0</td>\n",
       "    </tr>\n",
       "    <tr>\n",
       "      <th>103117814</th>\n",
       "      <td>20-May-20</td>\n",
       "      <td>0</td>\n",
       "      <td>0.0</td>\n",
       "      <td>0</td>\n",
       "      <td>0.0</td>\n",
       "      <td>23</td>\n",
       "      <td>684.5000</td>\n",
       "      <td>0.0217</td>\n",
       "      <td>0.0449</td>\n",
       "      <td>0.0000</td>\n",
       "      <td>Windows</td>\n",
       "      <td>2</td>\n",
       "      <td>France</td>\n",
       "      <td>6</td>\n",
       "      <td>Returner</td>\n",
       "      <td>0</td>\n",
       "    </tr>\n",
       "    <tr>\n",
       "      <th>103201891</th>\n",
       "      <td>4-Dec-20</td>\n",
       "      <td>0</td>\n",
       "      <td>0.0</td>\n",
       "      <td>0</td>\n",
       "      <td>0.0</td>\n",
       "      <td>8</td>\n",
       "      <td>95.0000</td>\n",
       "      <td>0.0250</td>\n",
       "      <td>0.0583</td>\n",
       "      <td>0.0000</td>\n",
       "      <td>Windows</td>\n",
       "      <td>4</td>\n",
       "      <td>Italy</td>\n",
       "      <td>1</td>\n",
       "      <td>Returner</td>\n",
       "      <td>0</td>\n",
       "    </tr>\n",
       "    <tr>\n",
       "      <th>103226087</th>\n",
       "      <td>22-Dec-20</td>\n",
       "      <td>0</td>\n",
       "      <td>0.0</td>\n",
       "      <td>0</td>\n",
       "      <td>0.0</td>\n",
       "      <td>9</td>\n",
       "      <td>608.7500</td>\n",
       "      <td>0.0000</td>\n",
       "      <td>0.0250</td>\n",
       "      <td>42.4225</td>\n",
       "      <td>Windows</td>\n",
       "      <td>2</td>\n",
       "      <td>United Kingdom</td>\n",
       "      <td>2</td>\n",
       "      <td>Returner</td>\n",
       "      <td>1</td>\n",
       "    </tr>\n",
       "    <tr>\n",
       "      <th>103234445</th>\n",
       "      <td>24-Nov-20</td>\n",
       "      <td>0</td>\n",
       "      <td>0.0</td>\n",
       "      <td>2</td>\n",
       "      <td>386.0</td>\n",
       "      <td>36</td>\n",
       "      <td>1609.9397</td>\n",
       "      <td>0.0000</td>\n",
       "      <td>0.0093</td>\n",
       "      <td>12.5033</td>\n",
       "      <td>Windows</td>\n",
       "      <td>2</td>\n",
       "      <td>Spain</td>\n",
       "      <td>3</td>\n",
       "      <td>Returner</td>\n",
       "      <td>1</td>\n",
       "    </tr>\n",
       "  </tbody>\n",
       "</table>\n",
       "</div>"
      ],
      "text/plain": [
       "                Date  AccountMng_Pages  AccountMng_Duration  FAQ_Pages  \\\n",
       "Access_ID                                                                \n",
       "102863333  21-Mar-20                 0                  0.0          0   \n",
       "103117814  20-May-20                 0                  0.0          0   \n",
       "103201891   4-Dec-20                 0                  0.0          0   \n",
       "103226087  22-Dec-20                 0                  0.0          0   \n",
       "103234445  24-Nov-20                 0                  0.0          2   \n",
       "\n",
       "           FAQ_Duration  Product_Pages  Product_Duration  \\\n",
       "Access_ID                                                  \n",
       "102863333           0.0              3           64.0000   \n",
       "103117814           0.0             23          684.5000   \n",
       "103201891           0.0              8           95.0000   \n",
       "103226087           0.0              9          608.7500   \n",
       "103234445         386.0             36         1609.9397   \n",
       "\n",
       "           GoogleAnalytics_BounceRate  GoogleAnalytics_ExitRate  \\\n",
       "Access_ID                                                         \n",
       "102863333                      0.0000                    0.0667   \n",
       "103117814                      0.0217                    0.0449   \n",
       "103201891                      0.0250                    0.0583   \n",
       "103226087                      0.0000                    0.0250   \n",
       "103234445                      0.0000                    0.0093   \n",
       "\n",
       "           GoogleAnalytics_PageValue       OS  Browser         Country  \\\n",
       "Access_ID                                                                \n",
       "102863333                     0.0000   MacOSX        2        Portugal   \n",
       "103117814                     0.0000  Windows        2          France   \n",
       "103201891                     0.0000  Windows        4           Italy   \n",
       "103226087                    42.4225  Windows        2  United Kingdom   \n",
       "103234445                    12.5033  Windows        2           Spain   \n",
       "\n",
       "           Type_of_Traffic Type_of_Visitor  Buy  \n",
       "Access_ID                                        \n",
       "102863333                1        Returner    0  \n",
       "103117814                6        Returner    0  \n",
       "103201891                1        Returner    0  \n",
       "103226087                2        Returner    1  \n",
       "103234445                3        Returner    1  "
      ]
     },
     "execution_count": 2,
     "metadata": {},
     "output_type": "execute_result"
    }
   ],
   "source": [
    "path = 'https://raw.githubusercontent.com/beatriz-neto/Machine-Learning-2021-2022/main/data/'\n",
    "\n",
    "website_train = pd.read_csv(path + 'train.csv')\n",
    "website_train.set_index(\"Access_ID\", inplace = True)\n",
    "website_train.head()"
   ]
  },
  {
   "cell_type": "code",
   "execution_count": 3,
   "id": "803a8289",
   "metadata": {},
   "outputs": [
    {
     "data": {
      "text/html": [
       "<div>\n",
       "<style scoped>\n",
       "    .dataframe tbody tr th:only-of-type {\n",
       "        vertical-align: middle;\n",
       "    }\n",
       "\n",
       "    .dataframe tbody tr th {\n",
       "        vertical-align: top;\n",
       "    }\n",
       "\n",
       "    .dataframe thead th {\n",
       "        text-align: right;\n",
       "    }\n",
       "</style>\n",
       "<table border=\"1\" class=\"dataframe\">\n",
       "  <thead>\n",
       "    <tr style=\"text-align: right;\">\n",
       "      <th></th>\n",
       "      <th>Date</th>\n",
       "      <th>AccountMng_Pages</th>\n",
       "      <th>AccountMng_Duration</th>\n",
       "      <th>FAQ_Pages</th>\n",
       "      <th>FAQ_Duration</th>\n",
       "      <th>Product_Pages</th>\n",
       "      <th>Product_Duration</th>\n",
       "      <th>GoogleAnalytics_BounceRate</th>\n",
       "      <th>GoogleAnalytics_ExitRate</th>\n",
       "      <th>GoogleAnalytics_PageValue</th>\n",
       "      <th>OS</th>\n",
       "      <th>Browser</th>\n",
       "      <th>Country</th>\n",
       "      <th>Type_of_Traffic</th>\n",
       "      <th>Type_of_Visitor</th>\n",
       "    </tr>\n",
       "    <tr>\n",
       "      <th>Access_ID</th>\n",
       "      <th></th>\n",
       "      <th></th>\n",
       "      <th></th>\n",
       "      <th></th>\n",
       "      <th></th>\n",
       "      <th></th>\n",
       "      <th></th>\n",
       "      <th></th>\n",
       "      <th></th>\n",
       "      <th></th>\n",
       "      <th></th>\n",
       "      <th></th>\n",
       "      <th></th>\n",
       "      <th></th>\n",
       "      <th></th>\n",
       "    </tr>\n",
       "  </thead>\n",
       "  <tbody>\n",
       "    <tr>\n",
       "      <th>798519314</th>\n",
       "      <td>24-Aug-20</td>\n",
       "      <td>0</td>\n",
       "      <td>0.00</td>\n",
       "      <td>0</td>\n",
       "      <td>0.0</td>\n",
       "      <td>86</td>\n",
       "      <td>5332.5478</td>\n",
       "      <td>0.0139</td>\n",
       "      <td>0.0654</td>\n",
       "      <td>0.0000</td>\n",
       "      <td>Windows</td>\n",
       "      <td>2</td>\n",
       "      <td>Brazil</td>\n",
       "      <td>1</td>\n",
       "      <td>Returner</td>\n",
       "    </tr>\n",
       "    <tr>\n",
       "      <th>798663101</th>\n",
       "      <td>25-May-20</td>\n",
       "      <td>2</td>\n",
       "      <td>37.50</td>\n",
       "      <td>0</td>\n",
       "      <td>0.0</td>\n",
       "      <td>55</td>\n",
       "      <td>1420.4725</td>\n",
       "      <td>0.0012</td>\n",
       "      <td>0.0058</td>\n",
       "      <td>0.0000</td>\n",
       "      <td>Android</td>\n",
       "      <td>1</td>\n",
       "      <td>Spain</td>\n",
       "      <td>4</td>\n",
       "      <td>Returner</td>\n",
       "    </tr>\n",
       "    <tr>\n",
       "      <th>798663221</th>\n",
       "      <td>2-Nov-20</td>\n",
       "      <td>0</td>\n",
       "      <td>0.00</td>\n",
       "      <td>0</td>\n",
       "      <td>0.0</td>\n",
       "      <td>36</td>\n",
       "      <td>788.5000</td>\n",
       "      <td>0.0000</td>\n",
       "      <td>0.0250</td>\n",
       "      <td>0.0000</td>\n",
       "      <td>Windows</td>\n",
       "      <td>6</td>\n",
       "      <td>Spain</td>\n",
       "      <td>3</td>\n",
       "      <td>Returner</td>\n",
       "    </tr>\n",
       "    <tr>\n",
       "      <th>798760918</th>\n",
       "      <td>14-May-20</td>\n",
       "      <td>0</td>\n",
       "      <td>0.00</td>\n",
       "      <td>0</td>\n",
       "      <td>0.0</td>\n",
       "      <td>2</td>\n",
       "      <td>689.0000</td>\n",
       "      <td>0.0000</td>\n",
       "      <td>0.1000</td>\n",
       "      <td>0.0000</td>\n",
       "      <td>Windows</td>\n",
       "      <td>2</td>\n",
       "      <td>Spain</td>\n",
       "      <td>2</td>\n",
       "      <td>New_Access</td>\n",
       "    </tr>\n",
       "    <tr>\n",
       "      <th>798856982</th>\n",
       "      <td>5-Nov-20</td>\n",
       "      <td>12</td>\n",
       "      <td>225.25</td>\n",
       "      <td>1</td>\n",
       "      <td>0.0</td>\n",
       "      <td>129</td>\n",
       "      <td>3367.0413</td>\n",
       "      <td>0.0014</td>\n",
       "      <td>0.0185</td>\n",
       "      <td>1.0353</td>\n",
       "      <td>Windows</td>\n",
       "      <td>4</td>\n",
       "      <td>Portugal</td>\n",
       "      <td>10</td>\n",
       "      <td>Returner</td>\n",
       "    </tr>\n",
       "  </tbody>\n",
       "</table>\n",
       "</div>"
      ],
      "text/plain": [
       "                Date  AccountMng_Pages  AccountMng_Duration  FAQ_Pages  \\\n",
       "Access_ID                                                                \n",
       "798519314  24-Aug-20                 0                 0.00          0   \n",
       "798663101  25-May-20                 2                37.50          0   \n",
       "798663221   2-Nov-20                 0                 0.00          0   \n",
       "798760918  14-May-20                 0                 0.00          0   \n",
       "798856982   5-Nov-20                12               225.25          1   \n",
       "\n",
       "           FAQ_Duration  Product_Pages  Product_Duration  \\\n",
       "Access_ID                                                  \n",
       "798519314           0.0             86         5332.5478   \n",
       "798663101           0.0             55         1420.4725   \n",
       "798663221           0.0             36          788.5000   \n",
       "798760918           0.0              2          689.0000   \n",
       "798856982           0.0            129         3367.0413   \n",
       "\n",
       "           GoogleAnalytics_BounceRate  GoogleAnalytics_ExitRate  \\\n",
       "Access_ID                                                         \n",
       "798519314                      0.0139                    0.0654   \n",
       "798663101                      0.0012                    0.0058   \n",
       "798663221                      0.0000                    0.0250   \n",
       "798760918                      0.0000                    0.1000   \n",
       "798856982                      0.0014                    0.0185   \n",
       "\n",
       "           GoogleAnalytics_PageValue       OS  Browser   Country  \\\n",
       "Access_ID                                                          \n",
       "798519314                     0.0000  Windows        2    Brazil   \n",
       "798663101                     0.0000  Android        1     Spain   \n",
       "798663221                     0.0000  Windows        6     Spain   \n",
       "798760918                     0.0000  Windows        2     Spain   \n",
       "798856982                     1.0353  Windows        4  Portugal   \n",
       "\n",
       "           Type_of_Traffic Type_of_Visitor  \n",
       "Access_ID                                   \n",
       "798519314                1        Returner  \n",
       "798663101                4        Returner  \n",
       "798663221                3        Returner  \n",
       "798760918                2      New_Access  \n",
       "798856982               10        Returner  "
      ]
     },
     "execution_count": 3,
     "metadata": {},
     "output_type": "execute_result"
    }
   ],
   "source": [
    "website_test = pd.read_csv(path + 'test.csv')\n",
    "website_test.set_index(\"Access_ID\", inplace = True)\n",
    "website_test.head()"
   ]
  },
  {
   "cell_type": "markdown",
   "id": "9126f5bd",
   "metadata": {},
   "source": [
    "\n",
    "    \n",
    "# 2. Explore Data\n",
    "    \n"
   ]
  },
  {
   "cell_type": "markdown",
   "id": "e878ba59",
   "metadata": {},
   "source": [
    "## 2.1. Check datatypes and missing values\n"
   ]
  },
  {
   "cell_type": "code",
   "execution_count": 4,
   "id": "11c68c4b",
   "metadata": {},
   "outputs": [
    {
     "name": "stdout",
     "output_type": "stream",
     "text": [
      "<class 'pandas.core.frame.DataFrame'>\n",
      "Int64Index: 9999 entries, 102863333 to 798444008\n",
      "Data columns (total 16 columns):\n",
      " #   Column                      Non-Null Count  Dtype  \n",
      "---  ------                      --------------  -----  \n",
      " 0   Date                        9999 non-null   object \n",
      " 1   AccountMng_Pages            9999 non-null   int64  \n",
      " 2   AccountMng_Duration         9999 non-null   float64\n",
      " 3   FAQ_Pages                   9999 non-null   int64  \n",
      " 4   FAQ_Duration                9999 non-null   float64\n",
      " 5   Product_Pages               9999 non-null   int64  \n",
      " 6   Product_Duration            9999 non-null   float64\n",
      " 7   GoogleAnalytics_BounceRate  9999 non-null   float64\n",
      " 8   GoogleAnalytics_ExitRate    9999 non-null   float64\n",
      " 9   GoogleAnalytics_PageValue   9999 non-null   float64\n",
      " 10  OS                          9999 non-null   object \n",
      " 11  Browser                     9999 non-null   int64  \n",
      " 12  Country                     9999 non-null   object \n",
      " 13  Type_of_Traffic             9999 non-null   int64  \n",
      " 14  Type_of_Visitor             9999 non-null   object \n",
      " 15  Buy                         9999 non-null   int64  \n",
      "dtypes: float64(6), int64(6), object(4)\n",
      "memory usage: 1.3+ MB\n"
     ]
    }
   ],
   "source": [
    "# There are no missing values in the train dataset\n",
    "website_train.info()"
   ]
  },
  {
   "cell_type": "code",
   "execution_count": 5,
   "id": "824d5ee0",
   "metadata": {},
   "outputs": [
    {
     "name": "stdout",
     "output_type": "stream",
     "text": [
      "<class 'pandas.core.frame.DataFrame'>\n",
      "Int64Index: 2300 entries, 798519314 to 962218682\n",
      "Data columns (total 15 columns):\n",
      " #   Column                      Non-Null Count  Dtype  \n",
      "---  ------                      --------------  -----  \n",
      " 0   Date                        2300 non-null   object \n",
      " 1   AccountMng_Pages            2300 non-null   int64  \n",
      " 2   AccountMng_Duration         2300 non-null   float64\n",
      " 3   FAQ_Pages                   2300 non-null   int64  \n",
      " 4   FAQ_Duration                2300 non-null   float64\n",
      " 5   Product_Pages               2300 non-null   int64  \n",
      " 6   Product_Duration            2300 non-null   float64\n",
      " 7   GoogleAnalytics_BounceRate  2300 non-null   float64\n",
      " 8   GoogleAnalytics_ExitRate    2300 non-null   float64\n",
      " 9   GoogleAnalytics_PageValue   2300 non-null   float64\n",
      " 10  OS                          2300 non-null   object \n",
      " 11  Browser                     2300 non-null   int64  \n",
      " 12  Country                     2300 non-null   object \n",
      " 13  Type_of_Traffic             2300 non-null   int64  \n",
      " 14  Type_of_Visitor             2300 non-null   object \n",
      "dtypes: float64(6), int64(5), object(4)\n",
      "memory usage: 287.5+ KB\n"
     ]
    }
   ],
   "source": [
    "# There are no missing values in the test dataset\n",
    "website_test.info()"
   ]
  },
  {
   "cell_type": "markdown",
   "id": "fa8ff537",
   "metadata": {},
   "source": [
    "## 2.2. Descriptive statistics for all variables\n"
   ]
  },
  {
   "cell_type": "code",
   "execution_count": 6,
   "id": "8b2c9558",
   "metadata": {},
   "outputs": [
    {
     "data": {
      "text/html": [
       "<div>\n",
       "<style scoped>\n",
       "    .dataframe tbody tr th:only-of-type {\n",
       "        vertical-align: middle;\n",
       "    }\n",
       "\n",
       "    .dataframe tbody tr th {\n",
       "        vertical-align: top;\n",
       "    }\n",
       "\n",
       "    .dataframe thead th {\n",
       "        text-align: right;\n",
       "    }\n",
       "</style>\n",
       "<table border=\"1\" class=\"dataframe\">\n",
       "  <thead>\n",
       "    <tr style=\"text-align: right;\">\n",
       "      <th></th>\n",
       "      <th>Date</th>\n",
       "      <th>AccountMng_Pages</th>\n",
       "      <th>AccountMng_Duration</th>\n",
       "      <th>FAQ_Pages</th>\n",
       "      <th>FAQ_Duration</th>\n",
       "      <th>Product_Pages</th>\n",
       "      <th>Product_Duration</th>\n",
       "      <th>GoogleAnalytics_BounceRate</th>\n",
       "      <th>GoogleAnalytics_ExitRate</th>\n",
       "      <th>GoogleAnalytics_PageValue</th>\n",
       "      <th>OS</th>\n",
       "      <th>Browser</th>\n",
       "      <th>Country</th>\n",
       "      <th>Type_of_Traffic</th>\n",
       "      <th>Type_of_Visitor</th>\n",
       "      <th>Buy</th>\n",
       "    </tr>\n",
       "  </thead>\n",
       "  <tbody>\n",
       "    <tr>\n",
       "      <th>count</th>\n",
       "      <td>9999</td>\n",
       "      <td>9999.000000</td>\n",
       "      <td>9999.000000</td>\n",
       "      <td>9999.000000</td>\n",
       "      <td>9999.000000</td>\n",
       "      <td>9999.000000</td>\n",
       "      <td>9999.000000</td>\n",
       "      <td>9999.000000</td>\n",
       "      <td>9999.000000</td>\n",
       "      <td>9999.000000</td>\n",
       "      <td>9999</td>\n",
       "      <td>9999.000000</td>\n",
       "      <td>9999</td>\n",
       "      <td>9999.000000</td>\n",
       "      <td>9999</td>\n",
       "      <td>9999.000000</td>\n",
       "    </tr>\n",
       "    <tr>\n",
       "      <th>unique</th>\n",
       "      <td>305</td>\n",
       "      <td>NaN</td>\n",
       "      <td>NaN</td>\n",
       "      <td>NaN</td>\n",
       "      <td>NaN</td>\n",
       "      <td>NaN</td>\n",
       "      <td>NaN</td>\n",
       "      <td>NaN</td>\n",
       "      <td>NaN</td>\n",
       "      <td>NaN</td>\n",
       "      <td>8</td>\n",
       "      <td>NaN</td>\n",
       "      <td>9</td>\n",
       "      <td>NaN</td>\n",
       "      <td>3</td>\n",
       "      <td>NaN</td>\n",
       "    </tr>\n",
       "    <tr>\n",
       "      <th>top</th>\n",
       "      <td>25-May-20</td>\n",
       "      <td>NaN</td>\n",
       "      <td>NaN</td>\n",
       "      <td>NaN</td>\n",
       "      <td>NaN</td>\n",
       "      <td>NaN</td>\n",
       "      <td>NaN</td>\n",
       "      <td>NaN</td>\n",
       "      <td>NaN</td>\n",
       "      <td>NaN</td>\n",
       "      <td>Windows</td>\n",
       "      <td>NaN</td>\n",
       "      <td>Portugal</td>\n",
       "      <td>NaN</td>\n",
       "      <td>Returner</td>\n",
       "      <td>NaN</td>\n",
       "    </tr>\n",
       "    <tr>\n",
       "      <th>freq</th>\n",
       "      <td>120</td>\n",
       "      <td>NaN</td>\n",
       "      <td>NaN</td>\n",
       "      <td>NaN</td>\n",
       "      <td>NaN</td>\n",
       "      <td>NaN</td>\n",
       "      <td>NaN</td>\n",
       "      <td>NaN</td>\n",
       "      <td>NaN</td>\n",
       "      <td>NaN</td>\n",
       "      <td>5361</td>\n",
       "      <td>NaN</td>\n",
       "      <td>3870</td>\n",
       "      <td>NaN</td>\n",
       "      <td>8534</td>\n",
       "      <td>NaN</td>\n",
       "    </tr>\n",
       "    <tr>\n",
       "      <th>mean</th>\n",
       "      <td>NaN</td>\n",
       "      <td>2.324232</td>\n",
       "      <td>81.205854</td>\n",
       "      <td>0.508051</td>\n",
       "      <td>34.559101</td>\n",
       "      <td>31.685869</td>\n",
       "      <td>1199.769430</td>\n",
       "      <td>0.022305</td>\n",
       "      <td>0.043181</td>\n",
       "      <td>5.963120</td>\n",
       "      <td>NaN</td>\n",
       "      <td>2.352535</td>\n",
       "      <td>NaN</td>\n",
       "      <td>3.957496</td>\n",
       "      <td>NaN</td>\n",
       "      <td>0.155216</td>\n",
       "    </tr>\n",
       "    <tr>\n",
       "      <th>std</th>\n",
       "      <td>NaN</td>\n",
       "      <td>3.340676</td>\n",
       "      <td>179.715545</td>\n",
       "      <td>1.279390</td>\n",
       "      <td>139.796989</td>\n",
       "      <td>44.550277</td>\n",
       "      <td>1958.276304</td>\n",
       "      <td>0.048776</td>\n",
       "      <td>0.048845</td>\n",
       "      <td>18.753626</td>\n",
       "      <td>NaN</td>\n",
       "      <td>1.715698</td>\n",
       "      <td>NaN</td>\n",
       "      <td>3.675159</td>\n",
       "      <td>NaN</td>\n",
       "      <td>0.362128</td>\n",
       "    </tr>\n",
       "    <tr>\n",
       "      <th>min</th>\n",
       "      <td>NaN</td>\n",
       "      <td>0.000000</td>\n",
       "      <td>0.000000</td>\n",
       "      <td>0.000000</td>\n",
       "      <td>0.000000</td>\n",
       "      <td>0.000000</td>\n",
       "      <td>0.000000</td>\n",
       "      <td>0.000000</td>\n",
       "      <td>0.000000</td>\n",
       "      <td>0.000000</td>\n",
       "      <td>NaN</td>\n",
       "      <td>1.000000</td>\n",
       "      <td>NaN</td>\n",
       "      <td>1.000000</td>\n",
       "      <td>NaN</td>\n",
       "      <td>0.000000</td>\n",
       "    </tr>\n",
       "    <tr>\n",
       "      <th>25%</th>\n",
       "      <td>NaN</td>\n",
       "      <td>0.000000</td>\n",
       "      <td>0.000000</td>\n",
       "      <td>0.000000</td>\n",
       "      <td>0.000000</td>\n",
       "      <td>7.000000</td>\n",
       "      <td>183.562500</td>\n",
       "      <td>0.000000</td>\n",
       "      <td>0.014300</td>\n",
       "      <td>0.000000</td>\n",
       "      <td>NaN</td>\n",
       "      <td>2.000000</td>\n",
       "      <td>NaN</td>\n",
       "      <td>2.000000</td>\n",
       "      <td>NaN</td>\n",
       "      <td>0.000000</td>\n",
       "    </tr>\n",
       "    <tr>\n",
       "      <th>50%</th>\n",
       "      <td>NaN</td>\n",
       "      <td>1.000000</td>\n",
       "      <td>7.500000</td>\n",
       "      <td>0.000000</td>\n",
       "      <td>0.000000</td>\n",
       "      <td>18.000000</td>\n",
       "      <td>599.000000</td>\n",
       "      <td>0.003200</td>\n",
       "      <td>0.025100</td>\n",
       "      <td>0.000000</td>\n",
       "      <td>NaN</td>\n",
       "      <td>2.000000</td>\n",
       "      <td>NaN</td>\n",
       "      <td>2.000000</td>\n",
       "      <td>NaN</td>\n",
       "      <td>0.000000</td>\n",
       "    </tr>\n",
       "    <tr>\n",
       "      <th>75%</th>\n",
       "      <td>NaN</td>\n",
       "      <td>4.000000</td>\n",
       "      <td>92.208350</td>\n",
       "      <td>0.000000</td>\n",
       "      <td>0.000000</td>\n",
       "      <td>38.000000</td>\n",
       "      <td>1470.270800</td>\n",
       "      <td>0.016800</td>\n",
       "      <td>0.050000</td>\n",
       "      <td>0.000000</td>\n",
       "      <td>NaN</td>\n",
       "      <td>2.000000</td>\n",
       "      <td>NaN</td>\n",
       "      <td>4.000000</td>\n",
       "      <td>NaN</td>\n",
       "      <td>0.000000</td>\n",
       "    </tr>\n",
       "    <tr>\n",
       "      <th>max</th>\n",
       "      <td>NaN</td>\n",
       "      <td>27.000000</td>\n",
       "      <td>3398.750000</td>\n",
       "      <td>24.000000</td>\n",
       "      <td>2549.375000</td>\n",
       "      <td>705.000000</td>\n",
       "      <td>63973.522200</td>\n",
       "      <td>0.200000</td>\n",
       "      <td>0.200000</td>\n",
       "      <td>361.763700</td>\n",
       "      <td>NaN</td>\n",
       "      <td>13.000000</td>\n",
       "      <td>NaN</td>\n",
       "      <td>15.000000</td>\n",
       "      <td>NaN</td>\n",
       "      <td>1.000000</td>\n",
       "    </tr>\n",
       "  </tbody>\n",
       "</table>\n",
       "</div>"
      ],
      "text/plain": [
       "             Date  AccountMng_Pages  AccountMng_Duration    FAQ_Pages  \\\n",
       "count        9999       9999.000000          9999.000000  9999.000000   \n",
       "unique        305               NaN                  NaN          NaN   \n",
       "top     25-May-20               NaN                  NaN          NaN   \n",
       "freq          120               NaN                  NaN          NaN   \n",
       "mean          NaN          2.324232            81.205854     0.508051   \n",
       "std           NaN          3.340676           179.715545     1.279390   \n",
       "min           NaN          0.000000             0.000000     0.000000   \n",
       "25%           NaN          0.000000             0.000000     0.000000   \n",
       "50%           NaN          1.000000             7.500000     0.000000   \n",
       "75%           NaN          4.000000            92.208350     0.000000   \n",
       "max           NaN         27.000000          3398.750000    24.000000   \n",
       "\n",
       "        FAQ_Duration  Product_Pages  Product_Duration  \\\n",
       "count    9999.000000    9999.000000       9999.000000   \n",
       "unique           NaN            NaN               NaN   \n",
       "top              NaN            NaN               NaN   \n",
       "freq             NaN            NaN               NaN   \n",
       "mean       34.559101      31.685869       1199.769430   \n",
       "std       139.796989      44.550277       1958.276304   \n",
       "min         0.000000       0.000000          0.000000   \n",
       "25%         0.000000       7.000000        183.562500   \n",
       "50%         0.000000      18.000000        599.000000   \n",
       "75%         0.000000      38.000000       1470.270800   \n",
       "max      2549.375000     705.000000      63973.522200   \n",
       "\n",
       "        GoogleAnalytics_BounceRate  GoogleAnalytics_ExitRate  \\\n",
       "count                  9999.000000               9999.000000   \n",
       "unique                         NaN                       NaN   \n",
       "top                            NaN                       NaN   \n",
       "freq                           NaN                       NaN   \n",
       "mean                      0.022305                  0.043181   \n",
       "std                       0.048776                  0.048845   \n",
       "min                       0.000000                  0.000000   \n",
       "25%                       0.000000                  0.014300   \n",
       "50%                       0.003200                  0.025100   \n",
       "75%                       0.016800                  0.050000   \n",
       "max                       0.200000                  0.200000   \n",
       "\n",
       "        GoogleAnalytics_PageValue       OS      Browser   Country  \\\n",
       "count                 9999.000000     9999  9999.000000      9999   \n",
       "unique                        NaN        8          NaN         9   \n",
       "top                           NaN  Windows          NaN  Portugal   \n",
       "freq                          NaN     5361          NaN      3870   \n",
       "mean                     5.963120      NaN     2.352535       NaN   \n",
       "std                     18.753626      NaN     1.715698       NaN   \n",
       "min                      0.000000      NaN     1.000000       NaN   \n",
       "25%                      0.000000      NaN     2.000000       NaN   \n",
       "50%                      0.000000      NaN     2.000000       NaN   \n",
       "75%                      0.000000      NaN     2.000000       NaN   \n",
       "max                    361.763700      NaN    13.000000       NaN   \n",
       "\n",
       "        Type_of_Traffic Type_of_Visitor          Buy  \n",
       "count       9999.000000            9999  9999.000000  \n",
       "unique              NaN               3          NaN  \n",
       "top                 NaN        Returner          NaN  \n",
       "freq                NaN            8534          NaN  \n",
       "mean           3.957496             NaN     0.155216  \n",
       "std            3.675159             NaN     0.362128  \n",
       "min            1.000000             NaN     0.000000  \n",
       "25%            2.000000             NaN     0.000000  \n",
       "50%            2.000000             NaN     0.000000  \n",
       "75%            4.000000             NaN     0.000000  \n",
       "max           15.000000             NaN     1.000000  "
      ]
     },
     "execution_count": 6,
     "metadata": {},
     "output_type": "execute_result"
    }
   ],
   "source": [
    "## Using .describe() get the descriptive statistics for all variables \n",
    "\n",
    "#for the Train\n",
    "\n",
    "website_train.describe(include='all')"
   ]
  },
  {
   "cell_type": "code",
   "execution_count": 7,
   "id": "6c66661f",
   "metadata": {
    "scrolled": true
   },
   "outputs": [
    {
     "data": {
      "text/html": [
       "<div>\n",
       "<style scoped>\n",
       "    .dataframe tbody tr th:only-of-type {\n",
       "        vertical-align: middle;\n",
       "    }\n",
       "\n",
       "    .dataframe tbody tr th {\n",
       "        vertical-align: top;\n",
       "    }\n",
       "\n",
       "    .dataframe thead th {\n",
       "        text-align: right;\n",
       "    }\n",
       "</style>\n",
       "<table border=\"1\" class=\"dataframe\">\n",
       "  <thead>\n",
       "    <tr style=\"text-align: right;\">\n",
       "      <th></th>\n",
       "      <th>Date</th>\n",
       "      <th>AccountMng_Pages</th>\n",
       "      <th>AccountMng_Duration</th>\n",
       "      <th>FAQ_Pages</th>\n",
       "      <th>FAQ_Duration</th>\n",
       "      <th>Product_Pages</th>\n",
       "      <th>Product_Duration</th>\n",
       "      <th>GoogleAnalytics_BounceRate</th>\n",
       "      <th>GoogleAnalytics_ExitRate</th>\n",
       "      <th>GoogleAnalytics_PageValue</th>\n",
       "      <th>OS</th>\n",
       "      <th>Browser</th>\n",
       "      <th>Country</th>\n",
       "      <th>Type_of_Traffic</th>\n",
       "      <th>Type_of_Visitor</th>\n",
       "    </tr>\n",
       "  </thead>\n",
       "  <tbody>\n",
       "    <tr>\n",
       "      <th>count</th>\n",
       "      <td>2300</td>\n",
       "      <td>2300.0000</td>\n",
       "      <td>2300.000000</td>\n",
       "      <td>2300.000000</td>\n",
       "      <td>2300.000000</td>\n",
       "      <td>2300.000000</td>\n",
       "      <td>2300.000000</td>\n",
       "      <td>2300.000000</td>\n",
       "      <td>2300.000000</td>\n",
       "      <td>2300.000000</td>\n",
       "      <td>2300</td>\n",
       "      <td>2300.000000</td>\n",
       "      <td>2300</td>\n",
       "      <td>2300.000000</td>\n",
       "      <td>2300</td>\n",
       "    </tr>\n",
       "    <tr>\n",
       "      <th>unique</th>\n",
       "      <td>287</td>\n",
       "      <td>NaN</td>\n",
       "      <td>NaN</td>\n",
       "      <td>NaN</td>\n",
       "      <td>NaN</td>\n",
       "      <td>NaN</td>\n",
       "      <td>NaN</td>\n",
       "      <td>NaN</td>\n",
       "      <td>NaN</td>\n",
       "      <td>NaN</td>\n",
       "      <td>8</td>\n",
       "      <td>NaN</td>\n",
       "      <td>9</td>\n",
       "      <td>NaN</td>\n",
       "      <td>3</td>\n",
       "    </tr>\n",
       "    <tr>\n",
       "      <th>top</th>\n",
       "      <td>5-May-20</td>\n",
       "      <td>NaN</td>\n",
       "      <td>NaN</td>\n",
       "      <td>NaN</td>\n",
       "      <td>NaN</td>\n",
       "      <td>NaN</td>\n",
       "      <td>NaN</td>\n",
       "      <td>NaN</td>\n",
       "      <td>NaN</td>\n",
       "      <td>NaN</td>\n",
       "      <td>Windows</td>\n",
       "      <td>NaN</td>\n",
       "      <td>Portugal</td>\n",
       "      <td>NaN</td>\n",
       "      <td>Returner</td>\n",
       "    </tr>\n",
       "    <tr>\n",
       "      <th>freq</th>\n",
       "      <td>35</td>\n",
       "      <td>NaN</td>\n",
       "      <td>NaN</td>\n",
       "      <td>NaN</td>\n",
       "      <td>NaN</td>\n",
       "      <td>NaN</td>\n",
       "      <td>NaN</td>\n",
       "      <td>NaN</td>\n",
       "      <td>NaN</td>\n",
       "      <td>NaN</td>\n",
       "      <td>1224</td>\n",
       "      <td>NaN</td>\n",
       "      <td>895</td>\n",
       "      <td>NaN</td>\n",
       "      <td>1988</td>\n",
       "    </tr>\n",
       "    <tr>\n",
       "      <th>mean</th>\n",
       "      <td>NaN</td>\n",
       "      <td>2.2900</td>\n",
       "      <td>79.780933</td>\n",
       "      <td>0.486522</td>\n",
       "      <td>34.266832</td>\n",
       "      <td>31.928696</td>\n",
       "      <td>1172.039254</td>\n",
       "      <td>0.021702</td>\n",
       "      <td>0.042565</td>\n",
       "      <td>5.588465</td>\n",
       "      <td>NaN</td>\n",
       "      <td>2.366087</td>\n",
       "      <td>NaN</td>\n",
       "      <td>4.012609</td>\n",
       "      <td>NaN</td>\n",
       "    </tr>\n",
       "    <tr>\n",
       "      <th>std</th>\n",
       "      <td>NaN</td>\n",
       "      <td>3.2523</td>\n",
       "      <td>164.447609</td>\n",
       "      <td>1.234311</td>\n",
       "      <td>145.500683</td>\n",
       "      <td>44.150226</td>\n",
       "      <td>1702.730695</td>\n",
       "      <td>0.047214</td>\n",
       "      <td>0.047539</td>\n",
       "      <td>17.781708</td>\n",
       "      <td>NaN</td>\n",
       "      <td>1.701233</td>\n",
       "      <td>NaN</td>\n",
       "      <td>3.710291</td>\n",
       "      <td>NaN</td>\n",
       "    </tr>\n",
       "    <tr>\n",
       "      <th>min</th>\n",
       "      <td>NaN</td>\n",
       "      <td>0.0000</td>\n",
       "      <td>0.000000</td>\n",
       "      <td>0.000000</td>\n",
       "      <td>0.000000</td>\n",
       "      <td>0.000000</td>\n",
       "      <td>0.000000</td>\n",
       "      <td>0.000000</td>\n",
       "      <td>0.000000</td>\n",
       "      <td>0.000000</td>\n",
       "      <td>NaN</td>\n",
       "      <td>1.000000</td>\n",
       "      <td>NaN</td>\n",
       "      <td>1.000000</td>\n",
       "      <td>NaN</td>\n",
       "    </tr>\n",
       "    <tr>\n",
       "      <th>25%</th>\n",
       "      <td>NaN</td>\n",
       "      <td>0.0000</td>\n",
       "      <td>0.000000</td>\n",
       "      <td>0.000000</td>\n",
       "      <td>0.000000</td>\n",
       "      <td>8.000000</td>\n",
       "      <td>186.875000</td>\n",
       "      <td>0.000000</td>\n",
       "      <td>0.014275</td>\n",
       "      <td>0.000000</td>\n",
       "      <td>NaN</td>\n",
       "      <td>2.000000</td>\n",
       "      <td>NaN</td>\n",
       "      <td>2.000000</td>\n",
       "      <td>NaN</td>\n",
       "    </tr>\n",
       "    <tr>\n",
       "      <th>50%</th>\n",
       "      <td>NaN</td>\n",
       "      <td>1.0000</td>\n",
       "      <td>8.550000</td>\n",
       "      <td>0.000000</td>\n",
       "      <td>0.000000</td>\n",
       "      <td>18.000000</td>\n",
       "      <td>598.689300</td>\n",
       "      <td>0.002900</td>\n",
       "      <td>0.025200</td>\n",
       "      <td>0.000000</td>\n",
       "      <td>NaN</td>\n",
       "      <td>2.000000</td>\n",
       "      <td>NaN</td>\n",
       "      <td>2.000000</td>\n",
       "      <td>NaN</td>\n",
       "    </tr>\n",
       "    <tr>\n",
       "      <th>75%</th>\n",
       "      <td>NaN</td>\n",
       "      <td>4.0000</td>\n",
       "      <td>97.850000</td>\n",
       "      <td>0.000000</td>\n",
       "      <td>0.000000</td>\n",
       "      <td>38.000000</td>\n",
       "      <td>1439.535275</td>\n",
       "      <td>0.016750</td>\n",
       "      <td>0.050000</td>\n",
       "      <td>0.000000</td>\n",
       "      <td>NaN</td>\n",
       "      <td>2.000000</td>\n",
       "      <td>NaN</td>\n",
       "      <td>4.000000</td>\n",
       "      <td>NaN</td>\n",
       "    </tr>\n",
       "    <tr>\n",
       "      <th>max</th>\n",
       "      <td>NaN</td>\n",
       "      <td>23.0000</td>\n",
       "      <td>2720.500000</td>\n",
       "      <td>12.000000</td>\n",
       "      <td>2252.033300</td>\n",
       "      <td>534.000000</td>\n",
       "      <td>18504.126200</td>\n",
       "      <td>0.200000</td>\n",
       "      <td>0.200000</td>\n",
       "      <td>258.549900</td>\n",
       "      <td>NaN</td>\n",
       "      <td>13.000000</td>\n",
       "      <td>NaN</td>\n",
       "      <td>15.000000</td>\n",
       "      <td>NaN</td>\n",
       "    </tr>\n",
       "  </tbody>\n",
       "</table>\n",
       "</div>"
      ],
      "text/plain": [
       "            Date  AccountMng_Pages  AccountMng_Duration    FAQ_Pages  \\\n",
       "count       2300         2300.0000          2300.000000  2300.000000   \n",
       "unique       287               NaN                  NaN          NaN   \n",
       "top     5-May-20               NaN                  NaN          NaN   \n",
       "freq          35               NaN                  NaN          NaN   \n",
       "mean         NaN            2.2900            79.780933     0.486522   \n",
       "std          NaN            3.2523           164.447609     1.234311   \n",
       "min          NaN            0.0000             0.000000     0.000000   \n",
       "25%          NaN            0.0000             0.000000     0.000000   \n",
       "50%          NaN            1.0000             8.550000     0.000000   \n",
       "75%          NaN            4.0000            97.850000     0.000000   \n",
       "max          NaN           23.0000          2720.500000    12.000000   \n",
       "\n",
       "        FAQ_Duration  Product_Pages  Product_Duration  \\\n",
       "count    2300.000000    2300.000000       2300.000000   \n",
       "unique           NaN            NaN               NaN   \n",
       "top              NaN            NaN               NaN   \n",
       "freq             NaN            NaN               NaN   \n",
       "mean       34.266832      31.928696       1172.039254   \n",
       "std       145.500683      44.150226       1702.730695   \n",
       "min         0.000000       0.000000          0.000000   \n",
       "25%         0.000000       8.000000        186.875000   \n",
       "50%         0.000000      18.000000        598.689300   \n",
       "75%         0.000000      38.000000       1439.535275   \n",
       "max      2252.033300     534.000000      18504.126200   \n",
       "\n",
       "        GoogleAnalytics_BounceRate  GoogleAnalytics_ExitRate  \\\n",
       "count                  2300.000000               2300.000000   \n",
       "unique                         NaN                       NaN   \n",
       "top                            NaN                       NaN   \n",
       "freq                           NaN                       NaN   \n",
       "mean                      0.021702                  0.042565   \n",
       "std                       0.047214                  0.047539   \n",
       "min                       0.000000                  0.000000   \n",
       "25%                       0.000000                  0.014275   \n",
       "50%                       0.002900                  0.025200   \n",
       "75%                       0.016750                  0.050000   \n",
       "max                       0.200000                  0.200000   \n",
       "\n",
       "        GoogleAnalytics_PageValue       OS      Browser   Country  \\\n",
       "count                 2300.000000     2300  2300.000000      2300   \n",
       "unique                        NaN        8          NaN         9   \n",
       "top                           NaN  Windows          NaN  Portugal   \n",
       "freq                          NaN     1224          NaN       895   \n",
       "mean                     5.588465      NaN     2.366087       NaN   \n",
       "std                     17.781708      NaN     1.701233       NaN   \n",
       "min                      0.000000      NaN     1.000000       NaN   \n",
       "25%                      0.000000      NaN     2.000000       NaN   \n",
       "50%                      0.000000      NaN     2.000000       NaN   \n",
       "75%                      0.000000      NaN     2.000000       NaN   \n",
       "max                    258.549900      NaN    13.000000       NaN   \n",
       "\n",
       "        Type_of_Traffic Type_of_Visitor  \n",
       "count       2300.000000            2300  \n",
       "unique              NaN               3  \n",
       "top                 NaN        Returner  \n",
       "freq                NaN            1988  \n",
       "mean           4.012609             NaN  \n",
       "std            3.710291             NaN  \n",
       "min            1.000000             NaN  \n",
       "25%            2.000000             NaN  \n",
       "50%            2.000000             NaN  \n",
       "75%            4.000000             NaN  \n",
       "max           15.000000             NaN  "
      ]
     },
     "execution_count": 7,
     "metadata": {},
     "output_type": "execute_result"
    }
   ],
   "source": [
    "## Using .describe() get the descriptive statistics for all variables \n",
    "\n",
    "#for the test\n",
    "\n",
    "website_test.describe(include='all')"
   ]
  },
  {
   "cell_type": "markdown",
   "id": "15ce6fb4",
   "metadata": {},
   "source": [
    "  \n",
    "## 2.3. Coherence checking\n",
    "    \n",
    "\n",
    "    \n"
   ]
  },
  {
   "cell_type": "code",
   "execution_count": 8,
   "id": "e4b2750c",
   "metadata": {},
   "outputs": [],
   "source": [
    "website_train_cohe = website_train.copy()\n",
    "website_test_cohe = website_test.copy()"
   ]
  },
  {
   "cell_type": "code",
   "execution_count": 9,
   "id": "4af25394",
   "metadata": {},
   "outputs": [],
   "source": [
    "website_train_cohe['Incoherent']=0\n",
    "website_test_cohe['Incoherent_t'] = 0"
   ]
  },
  {
   "cell_type": "markdown",
   "id": "711d6eb5",
   "metadata": {},
   "source": [
    "##### it doesn't make sense having a number of accounting management pages with duration zero"
   ]
  },
  {
   "cell_type": "code",
   "execution_count": 10,
   "id": "646e312f",
   "metadata": {},
   "outputs": [],
   "source": [
    "#Train\n",
    "website_train_cohe.loc[(website_train_cohe[\"AccountMng_Pages\"] != 0) & (website_train_cohe[\"AccountMng_Duration\"] == 0) \\\n",
    "                       , 'Incoherent'] = 1\n",
    "\n",
    "#Test\n",
    "website_test_cohe.loc[(website_test_cohe[\"AccountMng_Pages\"] != 0) & (website_test_cohe[\"AccountMng_Duration\"] == 0) \\\n",
    "                       , 'Incoherent_t'] = 1"
   ]
  },
  {
   "cell_type": "code",
   "execution_count": 11,
   "id": "62200a0c",
   "metadata": {},
   "outputs": [
    {
     "name": "stdout",
     "output_type": "stream",
     "text": [
      "0    9886\n",
      "1     113\n",
      "Name: Incoherent, dtype: int64\n",
      "\n",
      "\n",
      "0    2279\n",
      "1      21\n",
      "Name: Incoherent_t, dtype: int64\n"
     ]
    }
   ],
   "source": [
    "print(website_train_cohe['Incoherent'].value_counts())\n",
    "print('\\n')\n",
    "print(website_test_cohe['Incoherent_t'].value_counts())"
   ]
  },
  {
   "cell_type": "code",
   "execution_count": 12,
   "id": "d4864ad4",
   "metadata": {},
   "outputs": [],
   "source": [
    "#Train\n",
    "condition1 = ((website_train_cohe[\"AccountMng_Pages\"] != 0) & (website_train_cohe[\"AccountMng_Duration\"] == 0))\n",
    "website_train_cohe[\"AccountMng_Duration\"] = website_train_cohe[\"AccountMng_Duration\"].where(~condition1)\n",
    "\n",
    "#Test\n",
    "condition4 = ((website_test_cohe[\"AccountMng_Pages\"] != 0) & (website_test_cohe[\"AccountMng_Duration\"] == 0))\n",
    "website_test_cohe[\"AccountMng_Duration\"] = website_test_cohe[\"AccountMng_Duration\"].where(~condition4)"
   ]
  },
  {
   "cell_type": "code",
   "execution_count": 13,
   "id": "7bc73883",
   "metadata": {},
   "outputs": [],
   "source": [
    "#Train\n",
    "website_train_cohe['Incoherent']=0\n",
    "\n",
    "#test\n",
    "website_test_cohe['Incoherent_t']=0"
   ]
  },
  {
   "cell_type": "markdown",
   "id": "79610a09",
   "metadata": {},
   "source": [
    "##### it doesn't make sense having a number of FAQ pages with duration zero"
   ]
  },
  {
   "cell_type": "code",
   "execution_count": 14,
   "id": "e00f301c",
   "metadata": {},
   "outputs": [],
   "source": [
    "#train\n",
    "website_train_cohe.loc[(website_train_cohe[\"FAQ_Pages\"] != 0) & (website_train_cohe[\"FAQ_Duration\"] == 0) , 'Incoherent'] = 1\n",
    "\n",
    "#test\n",
    "website_test_cohe.loc[(website_test_cohe[\"FAQ_Pages\"] != 0) & (website_test_cohe[\"FAQ_Duration\"] == 0) , 'Incoherent_t'] = 1"
   ]
  },
  {
   "cell_type": "code",
   "execution_count": 15,
   "id": "6c9a93be",
   "metadata": {},
   "outputs": [
    {
     "name": "stdout",
     "output_type": "stream",
     "text": [
      "0    9823\n",
      "1     176\n",
      "Name: Incoherent, dtype: int64\n",
      "\n",
      "\n",
      "0    2251\n",
      "1      49\n",
      "Name: Incoherent_t, dtype: int64\n"
     ]
    }
   ],
   "source": [
    "print(website_train_cohe['Incoherent'].value_counts())\n",
    "print('\\n')\n",
    "print(website_test_cohe['Incoherent_t'].value_counts())"
   ]
  },
  {
   "cell_type": "code",
   "execution_count": 16,
   "id": "eddc448c",
   "metadata": {},
   "outputs": [],
   "source": [
    "#TRain\n",
    "condition2 = ((website_train_cohe[\"FAQ_Pages\"] != 0) & (website_train_cohe[\"FAQ_Duration\"] == 0))\n",
    "website_train_cohe[\"FAQ_Duration\"] = website_train_cohe[\"FAQ_Duration\"].where(~condition2)\n",
    "\n",
    "#Test\n",
    "condition5 = ((website_test_cohe[\"FAQ_Pages\"] != 0) & (website_test_cohe[\"FAQ_Duration\"] == 0))\n",
    "website_test_cohe[\"FAQ_Duration\"] = website_test_cohe[\"FAQ_Duration\"].where(~condition5)"
   ]
  },
  {
   "cell_type": "code",
   "execution_count": 17,
   "id": "ee7998fd",
   "metadata": {},
   "outputs": [],
   "source": [
    "#train\n",
    "website_train_cohe['Incoherent']=0\n",
    "\n",
    "#test\n",
    "website_test_cohe['Incoherent_t']=0"
   ]
  },
  {
   "cell_type": "markdown",
   "id": "f5f84b9a",
   "metadata": {},
   "source": [
    "##### it doesn't make sense having a number of Product pages with duration zero"
   ]
  },
  {
   "cell_type": "code",
   "execution_count": 18,
   "id": "ab013266",
   "metadata": {},
   "outputs": [],
   "source": [
    "#train\n",
    "website_train_cohe.loc[(website_train_cohe[\"Product_Pages\"] != 0) & (website_train_cohe[\"Product_Duration\"] == 0)\\\n",
    "                       , 'Incoherent'] = 1\n",
    "\n",
    "#test\n",
    "website_test_cohe.loc[(website_test_cohe[\"Product_Pages\"] != 0) & (website_test_cohe[\"Product_Duration\"] == 0)\\\n",
    "                       , 'Incoherent_t'] = 1"
   ]
  },
  {
   "cell_type": "code",
   "execution_count": 19,
   "id": "badec647",
   "metadata": {},
   "outputs": [
    {
     "name": "stdout",
     "output_type": "stream",
     "text": [
      "0    9404\n",
      "1     595\n",
      "Name: Incoherent, dtype: int64\n",
      "\n",
      "\n",
      "0    2180\n",
      "1     120\n",
      "Name: Incoherent_t, dtype: int64\n"
     ]
    }
   ],
   "source": [
    "print(website_train_cohe['Incoherent'].value_counts())\n",
    "print('\\n')\n",
    "print(website_test_cohe['Incoherent_t'].value_counts())"
   ]
  },
  {
   "cell_type": "code",
   "execution_count": 20,
   "id": "71d4db95",
   "metadata": {},
   "outputs": [],
   "source": [
    "#TRain\n",
    "condition3 = ((website_train_cohe[\"Product_Pages\"] != 0) & (website_train_cohe[\"Product_Duration\"] == 0))\n",
    "\n",
    "website_train_cohe[\"Product_Duration\"] = website_train_cohe[\"Product_Duration\"].where(~condition3)\n",
    "\n",
    "#test\n",
    "condition6 = ((website_test_cohe[\"Product_Pages\"] != 0) & (website_test_cohe[\"Product_Duration\"] == 0))\n",
    "website_test_cohe[\"Product_Duration\"] = website_test[\"Product_Duration\"].where(~condition6)"
   ]
  },
  {
   "cell_type": "code",
   "execution_count": 21,
   "id": "9e49c014",
   "metadata": {},
   "outputs": [],
   "source": [
    "#train\n",
    "website_train_cohe['Incoherent']=0\n",
    "\n",
    "#test\n",
    "website_test_cohe['Incoherent_t']=0"
   ]
  },
  {
   "cell_type": "markdown",
   "id": "9bd2b11d",
   "metadata": {},
   "source": [
    "#####  we cannot have an Average bounce rate value of the pages visited by the user, provided by google analytics and have number of pages about account managament, 'FAQ_pages',  and products and services"
   ]
  },
  {
   "cell_type": "code",
   "execution_count": 22,
   "id": "ef3587c1",
   "metadata": {},
   "outputs": [],
   "source": [
    "#Train\n",
    "website_train_cohe.loc[(website_train_cohe['AccountMng_Pages'] != 0) & (website_train_cohe['GoogleAnalytics_BounceRate'] == 0) \\\n",
    "                 & (website_train_cohe['FAQ_Pages'] != 0)  & (website_train_cohe['Product_Pages'] != 0), 'Incoherent'] = 1\n",
    "\n",
    "#Test\n",
    "website_test_cohe.loc[(website_test_cohe['AccountMng_Pages'] != 0) & (website_test_cohe['GoogleAnalytics_BounceRate'] == 0) \\\n",
    "                 & (website_test_cohe['FAQ_Pages'] != 0)  & (website_test_cohe['Product_Pages'] != 0), 'Incoherent_t'] = 1"
   ]
  },
  {
   "cell_type": "code",
   "execution_count": 23,
   "id": "9a986685",
   "metadata": {},
   "outputs": [
    {
     "name": "stdout",
     "output_type": "stream",
     "text": [
      "0    9430\n",
      "1     569\n",
      "Name: Incoherent, dtype: int64\n",
      "\n",
      "\n",
      "0    2172\n",
      "1     128\n",
      "Name: Incoherent_t, dtype: int64\n"
     ]
    }
   ],
   "source": [
    "print(website_train_cohe['Incoherent'].value_counts())\n",
    "print('\\n')\n",
    "print(website_test_cohe['Incoherent_t'].value_counts())"
   ]
  },
  {
   "cell_type": "code",
   "execution_count": 24,
   "id": "5c43fe48",
   "metadata": {},
   "outputs": [],
   "source": [
    "#Train\n",
    "condition7 = (website_train_cohe['AccountMng_Pages'] != 0) & (website_train_cohe['GoogleAnalytics_BounceRate'] == 0) \\\n",
    "                 & (website_train_cohe['FAQ_Pages'] != 0)  & (website_train_cohe['Product_Pages'] != 0)\n",
    "\n",
    "website_train_cohe[\"GoogleAnalytics_BounceRate\"] = website_train_cohe[\"GoogleAnalytics_BounceRate\"].where(~condition7)\n",
    "\n",
    "#Test\n",
    "condition8 = (website_test_cohe['AccountMng_Pages'] != 0) & (website_test_cohe['GoogleAnalytics_BounceRate'] == 0) \\\n",
    "                 & (website_test_cohe['FAQ_Pages'] != 0)  & (website_test_cohe['Product_Pages'] != 0)\n",
    "\n",
    "website_test_cohe[\"GoogleAnalytics_BounceRate\"] = website_test_cohe[\"GoogleAnalytics_BounceRate\"].where(~condition8)\n"
   ]
  },
  {
   "cell_type": "code",
   "execution_count": 25,
   "id": "4b098176",
   "metadata": {},
   "outputs": [],
   "source": [
    "#train\n",
    "website_train_cohe['Incoherent']=0\n",
    "\n",
    "#test\n",
    "website_test_cohe['Incoherent_t']=0"
   ]
  },
  {
   "cell_type": "markdown",
   "id": "e561ff86",
   "metadata": {},
   "source": [
    "#####  we cannot have an Average exit rate value of the pages visited by the user, provided by google analytics and have number of pages about account managament, 'FAQ_pages',  and products and services"
   ]
  },
  {
   "cell_type": "code",
   "execution_count": 26,
   "id": "e7d8f89d",
   "metadata": {},
   "outputs": [],
   "source": [
    "#Train\n",
    "website_train_cohe.loc[(website_train_cohe['AccountMng_Pages'] != 0) & (website_train_cohe['GoogleAnalytics_ExitRate'] == 0) \\\n",
    "                 & (website_train_cohe['FAQ_Pages'] != 0)  & (website_train_cohe['Product_Pages'] != 0), 'Incoherent'] = 1\n",
    "\n",
    "#Test\n",
    "website_test_cohe.loc[(website_test_cohe['AccountMng_Pages'] != 0) & (website_test_cohe['GoogleAnalytics_ExitRate'] == 0) \\\n",
    "                 & (website_test_cohe['FAQ_Pages'] != 0)  & (website_test_cohe['Product_Pages'] != 0), 'Incoherent_t'] = 1"
   ]
  },
  {
   "cell_type": "code",
   "execution_count": 27,
   "id": "daf2cbf6",
   "metadata": {},
   "outputs": [
    {
     "name": "stdout",
     "output_type": "stream",
     "text": [
      "0    9993\n",
      "1       6\n",
      "Name: Incoherent, dtype: int64\n",
      "\n",
      "\n",
      "0    2299\n",
      "1       1\n",
      "Name: Incoherent_t, dtype: int64\n"
     ]
    }
   ],
   "source": [
    "print(website_train_cohe['Incoherent'].value_counts())\n",
    "print('\\n')\n",
    "print(website_test_cohe['Incoherent_t'].value_counts())"
   ]
  },
  {
   "cell_type": "code",
   "execution_count": 28,
   "id": "fdcd239f",
   "metadata": {},
   "outputs": [],
   "source": [
    "#Train\n",
    "condition9 = (website_train_cohe['AccountMng_Pages'] != 0) & (website_train_cohe['GoogleAnalytics_ExitRate'] == 0) \\\n",
    "                 & (website_train_cohe['FAQ_Pages'] != 0)  & (website_train_cohe['Product_Pages'] != 0)\n",
    "\n",
    "website_train_cohe[\"GoogleAnalytics_ExitRate\"] = website_train_cohe[\"GoogleAnalytics_ExitRate\"].where(~condition9)\n",
    "\n",
    "#Test\n",
    "condition10 = (website_test_cohe['AccountMng_Pages'] != 0) & (website_test_cohe['GoogleAnalytics_ExitRate'] == 0) \\\n",
    "                 & (website_test_cohe['FAQ_Pages'] != 0)  & (website_test_cohe['Product_Pages'] != 0)\n",
    "\n",
    "website_test_cohe[\"GoogleAnalytics_ExitRate\"] = website_test_cohe[\"GoogleAnalytics_ExitRate\"].where(~condition10)"
   ]
  },
  {
   "cell_type": "code",
   "execution_count": 29,
   "id": "fc8a8996",
   "metadata": {},
   "outputs": [
    {
     "name": "stdout",
     "output_type": "stream",
     "text": [
      "(9999, 17)\n",
      "(2300, 16)\n"
     ]
    }
   ],
   "source": [
    "print(website_train_cohe.shape)\n",
    "print(website_test_cohe.shape)"
   ]
  },
  {
   "cell_type": "code",
   "execution_count": 30,
   "id": "f6694557",
   "metadata": {},
   "outputs": [
    {
     "data": {
      "text/plain": [
       "Date                            0\n",
       "AccountMng_Pages                0\n",
       "AccountMng_Duration           113\n",
       "FAQ_Pages                       0\n",
       "FAQ_Duration                  176\n",
       "Product_Pages                   0\n",
       "Product_Duration              595\n",
       "GoogleAnalytics_BounceRate    569\n",
       "GoogleAnalytics_ExitRate        6\n",
       "GoogleAnalytics_PageValue       0\n",
       "OS                              0\n",
       "Browser                         0\n",
       "Country                         0\n",
       "Type_of_Traffic                 0\n",
       "Type_of_Visitor                 0\n",
       "Buy                             0\n",
       "Incoherent                      0\n",
       "dtype: int64"
      ]
     },
     "execution_count": 30,
     "metadata": {},
     "output_type": "execute_result"
    }
   ],
   "source": [
    "website_train_cohe.isna().sum()"
   ]
  },
  {
   "cell_type": "code",
   "execution_count": 31,
   "id": "7642f0af",
   "metadata": {},
   "outputs": [
    {
     "data": {
      "text/plain": [
       "Date                            0\n",
       "AccountMng_Pages                0\n",
       "AccountMng_Duration            21\n",
       "FAQ_Pages                       0\n",
       "FAQ_Duration                   49\n",
       "Product_Pages                   0\n",
       "Product_Duration              120\n",
       "GoogleAnalytics_BounceRate    128\n",
       "GoogleAnalytics_ExitRate        1\n",
       "GoogleAnalytics_PageValue       0\n",
       "OS                              0\n",
       "Browser                         0\n",
       "Country                         0\n",
       "Type_of_Traffic                 0\n",
       "Type_of_Visitor                 0\n",
       "Incoherent_t                    0\n",
       "dtype: int64"
      ]
     },
     "execution_count": 31,
     "metadata": {},
     "output_type": "execute_result"
    }
   ],
   "source": [
    "website_test_cohe.isna().sum()"
   ]
  },
  {
   "cell_type": "code",
   "execution_count": 32,
   "id": "7d0b5b05",
   "metadata": {},
   "outputs": [],
   "source": [
    "#train\n",
    "website_train = website_train_cohe.drop(columns=['Incoherent'])\n",
    "\n",
    "#test\n",
    "website_test = website_test_cohe.drop(columns=['Incoherent_t'])"
   ]
  },
  {
   "cell_type": "code",
   "execution_count": 33,
   "id": "07e0592e",
   "metadata": {},
   "outputs": [
    {
     "data": {
      "text/plain": [
       "Index(['Date', 'AccountMng_Pages', 'AccountMng_Duration', 'FAQ_Pages',\n",
       "       'FAQ_Duration', 'Product_Pages', 'Product_Duration',\n",
       "       'GoogleAnalytics_BounceRate', 'GoogleAnalytics_ExitRate',\n",
       "       'GoogleAnalytics_PageValue', 'OS', 'Browser', 'Country',\n",
       "       'Type_of_Traffic', 'Type_of_Visitor'],\n",
       "      dtype='object')"
      ]
     },
     "execution_count": 33,
     "metadata": {},
     "output_type": "execute_result"
    }
   ],
   "source": [
    "website_test.columns"
   ]
  },
  {
   "cell_type": "markdown",
   "id": "cae9d713",
   "metadata": {},
   "source": [
    "# 3. Pre-processing"
   ]
  },
  {
   "cell_type": "markdown",
   "id": "fc5699e2",
   "metadata": {},
   "source": [
    "## 3.1. Transform datatypes"
   ]
  },
  {
   "cell_type": "code",
   "execution_count": 34,
   "id": "bdb58f72",
   "metadata": {},
   "outputs": [
    {
     "name": "stdout",
     "output_type": "stream",
     "text": [
      "Train:\n",
      "Date                            object\n",
      "AccountMng_Pages                 int64\n",
      "AccountMng_Duration            float64\n",
      "FAQ_Pages                        int64\n",
      "FAQ_Duration                   float64\n",
      "Product_Pages                    int64\n",
      "Product_Duration               float64\n",
      "GoogleAnalytics_BounceRate     float64\n",
      "GoogleAnalytics_ExitRate       float64\n",
      "GoogleAnalytics_PageValue      float64\n",
      "OS                              object\n",
      "Browser                       category\n",
      "Country                         object\n",
      "Type_of_Traffic               category\n",
      "Type_of_Visitor                 object\n",
      "Buy                              int64\n",
      "dtype: object\n",
      "\n",
      "Test:\n",
      "Date                            object\n",
      "AccountMng_Pages                 int64\n",
      "AccountMng_Duration            float64\n",
      "FAQ_Pages                        int64\n",
      "FAQ_Duration                   float64\n",
      "Product_Pages                    int64\n",
      "Product_Duration               float64\n",
      "GoogleAnalytics_BounceRate     float64\n",
      "GoogleAnalytics_ExitRate       float64\n",
      "GoogleAnalytics_PageValue      float64\n",
      "OS                              object\n",
      "Browser                       category\n",
      "Country                         object\n",
      "Type_of_Traffic               category\n",
      "Type_of_Visitor                 object\n",
      "dtype: object\n"
     ]
    }
   ],
   "source": [
    "# Analysing the variables, we decided that it makes more sense\n",
    "# to work with the variables Browser and Type_of_Traffic as categorical\n",
    "# variables, so we need to convert them\n",
    "\n",
    "website_train['Browser'] = website_train['Browser'].astype(\"category\")\n",
    "website_test['Browser'] = website_test['Browser'].astype(\"category\")\n",
    "\n",
    "website_train['Type_of_Traffic'] = website_train['Type_of_Traffic'].astype(\"category\")\n",
    "website_test['Type_of_Traffic'] = website_test['Type_of_Traffic'].astype(\"category\")\n",
    "\n",
    "print(\"Train:\" + \"\\n\" + str(website_train.dtypes))\n",
    "print(\"\\n\" + \"Test:\" + \"\\n\" + str(website_test.dtypes))"
   ]
  },
  {
   "cell_type": "markdown",
   "id": "81b5164e",
   "metadata": {},
   "source": [
    "## 3.2.  Defining Features"
   ]
  },
  {
   "cell_type": "code",
   "execution_count": 35,
   "id": "871c2b3e",
   "metadata": {},
   "outputs": [
    {
     "data": {
      "text/plain": [
       "['AccountMng_Pages',\n",
       " 'AccountMng_Duration',\n",
       " 'FAQ_Pages',\n",
       " 'FAQ_Duration',\n",
       " 'Product_Pages',\n",
       " 'Product_Duration',\n",
       " 'GoogleAnalytics_BounceRate',\n",
       " 'GoogleAnalytics_ExitRate',\n",
       " 'GoogleAnalytics_PageValue']"
      ]
     },
     "execution_count": 35,
     "metadata": {},
     "output_type": "execute_result"
    }
   ],
   "source": [
    "categorical_features = [\"Date\", \"OS\", \"Browser\", \"Country\", \"Type_of_Traffic\", \"Type_of_Visitor\"]\n",
    "\n",
    "_list = categorical_features.copy()\n",
    "_list.append(\"Buy\")\n",
    "\n",
    "numeric_features = list(website_train.drop(_list, axis = 1).columns.values)\n",
    "numeric_features"
   ]
  },
  {
   "cell_type": "markdown",
   "id": "5a592460",
   "metadata": {},
   "source": [
    "## 3.3. Filling missing values"
   ]
  },
  {
   "cell_type": "markdown",
   "id": "f339e8b2",
   "metadata": {},
   "source": [
    "### 3.3.1. Data Scaling"
   ]
  },
  {
   "cell_type": "code",
   "execution_count": 36,
   "id": "c528e9aa",
   "metadata": {},
   "outputs": [],
   "source": [
    "website_train_scal = website_train.copy()\n",
    "website_test_scal = website_test.copy()"
   ]
  },
  {
   "cell_type": "code",
   "execution_count": 37,
   "id": "ba19df10",
   "metadata": {},
   "outputs": [],
   "source": [
    "# scaling train data\n",
    "\n",
    "scaler = MinMaxScaler()\n",
    "scaled_feat = scaler.fit_transform(website_train_scal[numeric_features]) # this will return an array\n",
    "website_train_scal[numeric_features] = scaled_feat\n"
   ]
  },
  {
   "cell_type": "code",
   "execution_count": 38,
   "id": "859abb23",
   "metadata": {},
   "outputs": [],
   "source": [
    "# scaling test data\n",
    "\n",
    "scaled_feat2 = scaler.fit_transform(website_test_scal[numeric_features]) # this will return an array\n",
    "website_test_scal[numeric_features] = scaled_feat2"
   ]
  },
  {
   "cell_type": "markdown",
   "id": "e4dc4a13",
   "metadata": {},
   "source": [
    "\n",
    "### 3.3.2.  KNN method for numerical features\n"
   ]
  },
  {
   "cell_type": "markdown",
   "id": "d94296d9",
   "metadata": {},
   "source": [
    "#### Train"
   ]
  },
  {
   "cell_type": "code",
   "execution_count": 39,
   "id": "18abdd1b",
   "metadata": {},
   "outputs": [],
   "source": [
    "KNN_imputer = KNNImputer(n_neighbors=5, weights = \"distance\")\n",
    "\n",
    "website_train_scal[numeric_features] = KNN_imputer.fit_transform(website_train_scal[numeric_features])"
   ]
  },
  {
   "cell_type": "code",
   "execution_count": 40,
   "id": "4fd0f65e",
   "metadata": {},
   "outputs": [],
   "source": [
    "# reversing data scaling\n",
    "reshaped_vals = website_train_scal[numeric_features].values.reshape(-1,1)\n",
    "\n",
    "website_train_scal[numeric_features] = scaler.inverse_transform(website_train_scal[numeric_features])"
   ]
  },
  {
   "cell_type": "markdown",
   "id": "0453a443",
   "metadata": {},
   "source": [
    "\n",
    "#### Test\n"
   ]
  },
  {
   "cell_type": "code",
   "execution_count": 41,
   "id": "4bbd3378",
   "metadata": {},
   "outputs": [],
   "source": [
    "KNN_imputer = KNNImputer(n_neighbors=5, weights = \"distance\")\n",
    "\n",
    "website_test_scal[numeric_features] = KNN_imputer.fit_transform(website_test_scal[numeric_features])"
   ]
  },
  {
   "cell_type": "code",
   "execution_count": 42,
   "id": "2175f3a0",
   "metadata": {},
   "outputs": [],
   "source": [
    "reshaped_vals = website_test_scal[numeric_features].values.reshape(-1,1)\n",
    "\n",
    "website_test_scal[numeric_features] = scaler.inverse_transform(website_test_scal[numeric_features])"
   ]
  },
  {
   "cell_type": "code",
   "execution_count": 43,
   "id": "0c8de35b",
   "metadata": {},
   "outputs": [],
   "source": [
    "website_test = website_test_scal.copy()\n",
    "website_train = website_train_scal.copy()"
   ]
  },
  {
   "cell_type": "markdown",
   "id": "22f30f7b",
   "metadata": {},
   "source": [
    "## 3.4. Feature Engineering"
   ]
  },
  {
   "cell_type": "markdown",
   "id": "19ebb4bd",
   "metadata": {},
   "source": [
    "#### Date_day and Date_month"
   ]
  },
  {
   "cell_type": "code",
   "execution_count": 44,
   "id": "479cd86f",
   "metadata": {},
   "outputs": [],
   "source": [
    "# change date\n",
    "\n",
    "#Train\n",
    "website_train['Date'] = pd.to_datetime(website_train['Date'], infer_datetime_format = True, errors = 'coerce') \n",
    "\n",
    "website_train['Date_year'] = website_train['Date'].dt.year\n",
    "website_train['Date_month'] = website_train['Date'].dt.month\n",
    "website_train['Date_day'] = website_train['Date'].dt.day\n",
    "\n",
    "website_train.drop(\"Date\", axis = 1, inplace = True)\n",
    "\n",
    "\n",
    "#Test\n",
    "website_test['Date'] = pd.to_datetime(website_test['Date'], infer_datetime_format = True, errors = 'coerce') \n",
    "\n",
    "website_test['Date_year'] = website_test['Date'].dt.year\n",
    "website_test['Date_month'] = website_test['Date'].dt.month\n",
    "website_test['Date_day'] = website_test['Date'].dt.day\n",
    "\n",
    "website_test.drop(\"Date\", axis = 1, inplace = True)"
   ]
  },
  {
   "cell_type": "code",
   "execution_count": 45,
   "id": "574fe51d",
   "metadata": {},
   "outputs": [
    {
     "data": {
      "text/plain": [
       "2020    9999\n",
       "Name: Date_year, dtype: int64"
      ]
     },
     "execution_count": 45,
     "metadata": {},
     "output_type": "execute_result"
    }
   ],
   "source": [
    "website_train['Date_year'].value_counts()"
   ]
  },
  {
   "cell_type": "code",
   "execution_count": 46,
   "id": "355cd907",
   "metadata": {},
   "outputs": [],
   "source": [
    "# doesn't make sense to keep year as feature\n",
    "\n",
    "website_train.drop('Date_year', axis = 1, inplace = True)\n",
    "website_test.drop('Date_year', axis = 1, inplace = True)"
   ]
  },
  {
   "cell_type": "markdown",
   "id": "787264f3",
   "metadata": {},
   "source": [
    "#### Total of pages "
   ]
  },
  {
   "cell_type": "code",
   "execution_count": 47,
   "id": "50107136",
   "metadata": {},
   "outputs": [],
   "source": [
    "#Train\n",
    "website_train['Total_Pages'] = (website_train['AccountMng_Pages'] + website_train['FAQ_Pages']\\\n",
    "                                + website_train['Product_Pages'] )\n",
    "\n",
    "#Test\n",
    "website_test['Total_Pages'] = (website_test['AccountMng_Pages'] + website_test['FAQ_Pages']\\\n",
    "                                + website_test['Product_Pages'] )"
   ]
  },
  {
   "cell_type": "markdown",
   "id": "ca0b2e3f",
   "metadata": {},
   "source": [
    "#### Total Duration"
   ]
  },
  {
   "cell_type": "code",
   "execution_count": 48,
   "id": "f805f577",
   "metadata": {},
   "outputs": [],
   "source": [
    "#Train\n",
    "website_train['Total_Duration'] = (website_train['Product_Duration'] + website_train['FAQ_Duration'] +\\\n",
    "                                  website_train['AccountMng_Duration'])\n",
    "\n",
    "#Test\n",
    "website_test['Total_Duration'] = (website_test['Product_Duration'] + website_test['FAQ_Duration'] +\\\n",
    "                                  website_test['AccountMng_Duration'])"
   ]
  },
  {
   "cell_type": "markdown",
   "id": "01bdbcc3",
   "metadata": {},
   "source": [
    "#### Users that only visited account management pages"
   ]
  },
  {
   "cell_type": "code",
   "execution_count": 49,
   "id": "ce7255bb",
   "metadata": {},
   "outputs": [],
   "source": [
    "#Train\n",
    "website_train['AccountMng_Pages_only'] = ((website_train['AccountMng_Pages']!=0) &\\\n",
    "                                          (website_train['FAQ_Pages']==0) & \\\n",
    "                                          (website_train['Product_Pages']==0)).astype(int)\n",
    "\n",
    "\n",
    "#Test\n",
    "website_test['AccountMng_Pages_only'] = ((website_test['AccountMng_Pages']!=0) &\\\n",
    "                                          (website_test['FAQ_Pages']==0) & \\\n",
    "                                          (website_test['Product_Pages']==0)).astype(int)\n"
   ]
  },
  {
   "cell_type": "markdown",
   "id": "11cf8fd8",
   "metadata": {},
   "source": [
    "#### Users that only visited FAQ pages"
   ]
  },
  {
   "cell_type": "code",
   "execution_count": 50,
   "id": "8c600644",
   "metadata": {},
   "outputs": [],
   "source": [
    "#Train\n",
    "website_train['FAQ_only'] = ((website_train['AccountMng_Pages']==0) &\\\n",
    "                                          (website_train['FAQ_Pages']!=0) & \\\n",
    "                                          (website_train['Product_Pages']==0)).astype(int)\n",
    "\n",
    "\n",
    "#Test\n",
    "website_test['FAQ_only'] = ((website_test['AccountMng_Pages']==0) &\\\n",
    "                                          (website_test['FAQ_Pages']!=0) & \\\n",
    "                                          (website_test['Product_Pages']==0)).astype(int)\n"
   ]
  },
  {
   "cell_type": "markdown",
   "id": "cad6e3b2",
   "metadata": {},
   "source": [
    "#### Users that only visited Products and services pages\n"
   ]
  },
  {
   "cell_type": "code",
   "execution_count": 51,
   "id": "67b130c3",
   "metadata": {},
   "outputs": [],
   "source": [
    "#Train\n",
    "website_train['Product_Pages_only'] = ((website_train['AccountMng_Pages']==0) &\\\n",
    "                                          (website_train['FAQ_Pages']==0) & \\\n",
    "                                          (website_train['Product_Pages']!=0)).astype(int)\n",
    "\n",
    "\n",
    "#Test\n",
    "website_test['Product_Pages_only'] = ((website_test['AccountMng_Pages']==0) &\\\n",
    "                                          (website_test['FAQ_Pages']==0) & \\\n",
    "                                          (website_test['Product_Pages']!=0)).astype(int)\n"
   ]
  },
  {
   "cell_type": "markdown",
   "id": "2f1947db",
   "metadata": {},
   "source": [
    "#### Users that only visited Products and services  and FAQ pages\n"
   ]
  },
  {
   "cell_type": "code",
   "execution_count": 52,
   "id": "fd14c55a",
   "metadata": {},
   "outputs": [],
   "source": [
    "#Train\n",
    "website_train['Product_FAQ_Pages'] = ((website_train['AccountMng_Pages']==0) &\\\n",
    "                                          (website_train['FAQ_Pages'] !=0) & \\\n",
    "                                          (website_train['Product_Pages']!=0)).astype(int)\n",
    "\n",
    "\n",
    "\n",
    "#Test\n",
    "website_test['Product_FAQ_Pages'] = ((website_test['AccountMng_Pages']==0) &\\\n",
    "                                          (website_test['FAQ_Pages'] !=0) & \\\n",
    "                                          (website_test['Product_Pages']!=0)).astype(int)"
   ]
  },
  {
   "cell_type": "markdown",
   "id": "af88ea61",
   "metadata": {},
   "source": [
    "#### Users that only visited Products and account management pages\n"
   ]
  },
  {
   "cell_type": "code",
   "execution_count": 53,
   "id": "f8f7027d",
   "metadata": {},
   "outputs": [],
   "source": [
    "#Train\n",
    "website_train['Product_Account_Pages'] = ((website_train['AccountMng_Pages']!=0) &\\\n",
    "                                          (website_train['FAQ_Pages']==0) & \\\n",
    "                                          (website_train['Product_Pages']!=0)).astype(int)\n",
    "\n",
    "\n",
    "#Test\n",
    "website_test['Product_Account_Pages'] = ((website_test['AccountMng_Pages']!=0) &\\\n",
    "                                          (website_test['FAQ_Pages']==0) & \\\n",
    "                                          (website_test['Product_Pages']!=0)).astype(int)"
   ]
  },
  {
   "cell_type": "markdown",
   "id": "e87e40bf",
   "metadata": {},
   "source": [
    "#### Users that only visited FAQ and account management pages"
   ]
  },
  {
   "cell_type": "code",
   "execution_count": 54,
   "id": "9f3cb218",
   "metadata": {},
   "outputs": [],
   "source": [
    "#Train\n",
    "website_train['Account_FAQ_Pages'] = ((website_train['AccountMng_Pages']!=0) &\\\n",
    "                                          (website_train['FAQ_Pages']!=0) & \\\n",
    "                                          (website_train['Product_Pages']==0)).astype(int)\n",
    "\n",
    "\n",
    "#Test\n",
    "website_test['Account_FAQ_Pages'] = ((website_test['AccountMng_Pages']!=0) &\\\n",
    "                                          (website_test['FAQ_Pages']!=0) & \\\n",
    "                                          (website_test['Product_Pages']==0)).astype(int)"
   ]
  },
  {
   "cell_type": "markdown",
   "id": "8d0c75ad",
   "metadata": {},
   "source": [
    "#### Page Value is the average value for a page that a user visited before landing on the goal page\n",
    "#### If Page Value doesn't have value 0 it means that the user landed in the goal page\n"
   ]
  },
  {
   "cell_type": "code",
   "execution_count": 55,
   "id": "18a47e39",
   "metadata": {},
   "outputs": [],
   "source": [
    "#Train\n",
    "website_train['Goal_Page'] = 0\n",
    "website_train.loc[(website_train['GoogleAnalytics_PageValue']==0), 'Goal_Page'] = 0 \n",
    "website_train.loc[(website_train['GoogleAnalytics_PageValue']!=0), 'Goal_Page'] = 1\n",
    "\n",
    "\n",
    "#Test\n",
    "website_test['Goal_Page'] = 0\n",
    "website_test.loc[(website_test['GoogleAnalytics_PageValue']==0), 'Goal_Page'] = 0 \n",
    "website_test.loc[(website_test['GoogleAnalytics_PageValue']!=0), 'Goal_Page'] = 1"
   ]
  },
  {
   "cell_type": "markdown",
   "id": "94389929",
   "metadata": {},
   "source": [
    "## 3.5. Check and remove outliers"
   ]
  },
  {
   "cell_type": "markdown",
   "id": "6f1e2641",
   "metadata": {},
   "source": [
    "   \n",
    "#### Defining Features\n"
   ]
  },
  {
   "cell_type": "code",
   "execution_count": 56,
   "id": "cdfbc3f3",
   "metadata": {},
   "outputs": [],
   "source": [
    "numeric_features.extend(['Total_Pages', 'Total_Duration', 'Date_day', 'Date_month'])\n",
    "\n",
    "\n",
    "binary_features = [\"AccountMng_Pages_only\", \"FAQ_only\", \"Product_Pages_only\", \"Product_FAQ_Pages\", \"Product_Account_Pages\",\\\n",
    "                  \"Account_FAQ_Pages\", \"Goal_Page\"]\n",
    "\n",
    "categorical_features.remove('Date')"
   ]
  },
  {
   "cell_type": "markdown",
   "id": "57987e95",
   "metadata": {},
   "source": [
    "\n",
    "### 3.5.1. Numerical Variables\n"
   ]
  },
  {
   "cell_type": "markdown",
   "id": "22af2380",
   "metadata": {},
   "source": [
    "\n",
    "### 3.5.1.1.  Variable's Histograms \n",
    "    "
   ]
  },
  {
   "cell_type": "code",
   "execution_count": 57,
   "id": "6479c782",
   "metadata": {},
   "outputs": [
    {
     "data": {
      "image/png": "[encoded data removed]",
      "text/plain": [
       "<Figure size 1440x792 with 14 Axes>"
      ]
     },
     "metadata": {},
     "output_type": "display_data"
    }
   ],
   "source": [
    "sns.set()\n",
    "\n",
    "fig, axes = plt.subplots(2, math.ceil(len(numeric_features) / 2), figsize=(20, 11))\n",
    "\n",
    "for ax, feat in zip(axes.flatten(), numeric_features): \n",
    "    ax.hist(website_train[feat])                        \n",
    "    ax.set_title(feat, y=-0.13)\n",
    "    \n",
    "title = \"TRain Numeric Variables' Histograms\"\n",
    "\n",
    "plt.suptitle(title)\n",
    "\n",
    "plt.show()"
   ]
  },
  {
   "cell_type": "markdown",
   "id": "bb58febf",
   "metadata": {},
   "source": [
    "  \n",
    "### 3.5.1.2. Filtering Numerical Variables \n",
    "    \n"
   ]
  },
  {
   "cell_type": "markdown",
   "id": "1452e6e6",
   "metadata": {},
   "source": [
    "   \n",
    "### A)  Manually \n"
   ]
  },
  {
   "cell_type": "code",
   "execution_count": 58,
   "id": "60deba63",
   "metadata": {},
   "outputs": [],
   "source": [
    "website_train_manually = website_train.copy()"
   ]
  },
  {
   "cell_type": "code",
   "execution_count": 59,
   "id": "f0302c6e",
   "metadata": {},
   "outputs": [
    {
     "name": "stdout",
     "output_type": "stream",
     "text": [
      "Percentage of train data kept after removing outliers: 0.9852\n"
     ]
    }
   ],
   "source": [
    "filters1 = (\n",
    "    (website_train_manually['AccountMng_Pages'] <= 18)\n",
    "    &\n",
    "    (website_train_manually['AccountMng_Duration'] <= 1300)\n",
    "    &\n",
    "    (website_train_manually['FAQ_Pages'] <= 8)\n",
    "    &\n",
    "    (website_train_manually['FAQ_Duration'] <= 700) \n",
    "    &\n",
    "    (website_train_manually['Product_Pages'] <= 250)\n",
    "    &\n",
    "    (website_train_manually['Product_Duration'] <= 18000)\n",
    "    &\n",
    "    (website_train_manually['GoogleAnalytics_PageValue'] <= 120))\n",
    "\n",
    "\n",
    "website_train_manually = website_train_manually[filters1]\n",
    "\n",
    "print('Percentage of train data kept after removing outliers:', np.round(website_train_manually.shape[0] / website_train.shape[0], 4))"
   ]
  },
  {
   "cell_type": "code",
   "execution_count": 60,
   "id": "8d22528b",
   "metadata": {},
   "outputs": [
    {
     "data": {
      "image/png": "[encoded data removed]",
      "text/plain": [
       "<Figure size 1440x792 with 14 Axes>"
      ]
     },
     "metadata": {},
     "output_type": "display_data"
    }
   ],
   "source": [
    "sns.set()\n",
    "\n",
    "fig, axes = plt.subplots(2, math.ceil(len(numeric_features) / 2), figsize=(20, 11))\n",
    "\n",
    "for ax, feat in zip(axes.flatten(), numeric_features): \n",
    "    ax.hist(website_train_manually[feat])                       \n",
    "    ax.set_title(feat, y=-0.13)\n",
    "    \n",
    "title = \"TRain Numeric Variables' Histograms\"\n",
    "\n",
    "plt.suptitle(title)\n",
    "\n",
    "plt.show()"
   ]
  },
  {
   "cell_type": "code",
   "execution_count": 61,
   "id": "608d889c",
   "metadata": {},
   "outputs": [
    {
     "data": {
      "image/png": "[encoded data removed]",
      "text/plain": [
       "<Figure size 1440x792 with 14 Axes>"
      ]
     },
     "metadata": {},
     "output_type": "display_data"
    }
   ],
   "source": [
    "sns.set()\n",
    "\n",
    "fig, axes = plt.subplots(2, math.ceil(len(numeric_features) / 2), figsize=(20, 11))\n",
    "\n",
    "\n",
    "for ax, feat in zip(axes.flatten(), numeric_features): \n",
    "    sns.boxplot(website_train_manually[feat], ax=ax)\n",
    "    \n",
    "title = \"Numeric Variables' Box Plots\"\n",
    "\n",
    "plt.suptitle(title)\n",
    "\n",
    "plt.show()"
   ]
  },
  {
   "cell_type": "markdown",
   "id": "e1ff4d8b",
   "metadata": {},
   "source": [
    "\n",
    "    \n",
    "### B)  IQR method\n",
    "    \n"
   ]
  },
  {
   "cell_type": "code",
   "execution_count": 62,
   "id": "0e312577",
   "metadata": {},
   "outputs": [],
   "source": [
    "website_train_iqr = website_train.copy()"
   ]
  },
  {
   "cell_type": "code",
   "execution_count": 63,
   "id": "e0d336fb",
   "metadata": {},
   "outputs": [
    {
     "name": "stdout",
     "output_type": "stream",
     "text": [
      "Percentage of train data kept after removing outliers: 0.6504\n"
     ]
    }
   ],
   "source": [
    "# lot of data lost when using iqr\n",
    "\n",
    "q25 = website_train_iqr.quantile(.25)\n",
    "q75 = website_train_iqr.quantile(.75)\n",
    "iqr = (q75 - q25)\n",
    "\n",
    "upper_lim = q75 + 20 * iqr\n",
    "lower_lim = q25 - 20 * iqr\n",
    "\n",
    "filters3 = []\n",
    "for feature in numeric_features:\n",
    "    llim = lower_lim[feature]\n",
    "    ulim = upper_lim[feature]\n",
    "    filters3.append(website_train_iqr[feature].between(llim, ulim, inclusive=True))\n",
    "\n",
    "filters3 = pd.Series(np.all(filters3, 0), index = website_train.index)\n",
    "website_train_iqr = website_train_iqr[filters3]\n",
    "print('Percentage of train data kept after removing outliers:', np.round(website_train_iqr.shape[0] / website_train.shape[0], 4))"
   ]
  },
  {
   "cell_type": "markdown",
   "id": "037b25f2",
   "metadata": {},
   "source": [
    "\n",
    "    \n",
    "### C)  IQR method and Manual\n",
    "    \n"
   ]
  },
  {
   "cell_type": "code",
   "execution_count": 64,
   "id": "1b36f31d",
   "metadata": {},
   "outputs": [],
   "source": [
    "website_train_both = website_train.copy()"
   ]
  },
  {
   "cell_type": "code",
   "execution_count": 65,
   "id": "c2f22a80",
   "metadata": {},
   "outputs": [
    {
     "name": "stdout",
     "output_type": "stream",
     "text": [
      "Percentage of train data kept after removing outliers: 0.9859\n"
     ]
    }
   ],
   "source": [
    "website_train_both = website_train_both[(filters1 | filters3)]\n",
    "print('Percentage of train data kept after removing outliers:', np.round(website_train_both.shape[0] / website_train.shape[0], 4))"
   ]
  },
  {
   "cell_type": "markdown",
   "id": "57fdba72",
   "metadata": {},
   "source": [
    "\n",
    "    \n",
    "### D) Z-score Method\n",
    "    \n"
   ]
  },
  {
   "cell_type": "code",
   "execution_count": 66,
   "id": "bbc5d0eb",
   "metadata": {},
   "outputs": [
    {
     "name": "stdout",
     "output_type": "stream",
     "text": [
      "Percentage of train data kept after removing outliers: 0.9782\n"
     ]
    }
   ],
   "source": [
    "z1 = np.abs(stats.zscore(website_train[numeric_features]))\n",
    "\n",
    "#only keep rows in dataframe with all z-scores less than absolute value of 6\n",
    "website_train_zscore = website_train[(z1 < 6).all(axis = 1)]\n",
    "\n",
    "print('Percentage of train data kept after removing outliers:', np.round(website_train_zscore.shape[0] / website_train.shape[0], 4))"
   ]
  },
  {
   "cell_type": "markdown",
   "id": "958c9ffc",
   "metadata": {},
   "source": [
    "\n",
    "    \n",
    "### 3.5.2. Categorical variables\n",
    "    \n"
   ]
  },
  {
   "cell_type": "markdown",
   "id": "d343560d",
   "metadata": {},
   "source": [
    " \n",
    "### 3.5.2.1. Analysing the variables values\n",
    "    \n"
   ]
  },
  {
   "cell_type": "markdown",
   "id": "18449891",
   "metadata": {},
   "source": [
    "We're going to use the dataset filtered by the IQR and Manual method because it has the highest percentage of data kept after removing outliers."
   ]
  },
  {
   "cell_type": "code",
   "execution_count": 67,
   "id": "807d3310",
   "metadata": {},
   "outputs": [],
   "source": [
    "website_train = website_train_both.copy()"
   ]
  },
  {
   "cell_type": "markdown",
   "id": "f3821820",
   "metadata": {},
   "source": [
    "#### OS variable"
   ]
  },
  {
   "cell_type": "code",
   "execution_count": 68,
   "id": "422bc8d4",
   "metadata": {},
   "outputs": [
    {
     "name": "stdout",
     "output_type": "stream",
     "text": [
      "Train:\n",
      "Windows      5261\n",
      "Android      2090\n",
      "MacOSX       2046\n",
      "iOS           372\n",
      "Ubuntu         66\n",
      "Chrome OS      15\n",
      "Other           5\n",
      "Fedora          3\n",
      "Name: OS, dtype: int64\n",
      "\n",
      "Test:\n",
      "Windows      1224\n",
      "MacOSX        483\n",
      "Android       477\n",
      "iOS            97\n",
      "Ubuntu         11\n",
      "Chrome OS       4\n",
      "Fedora          2\n",
      "Other           2\n",
      "Name: OS, dtype: int64\n"
     ]
    }
   ],
   "source": [
    "# Chrome Os, Other, Fedora seems to be outliers, so we\n",
    "# will remove the rows with these values\n",
    "\n",
    "print(\"Train:\" + \"\\n\" + str(website_train[\"OS\"].value_counts()))\n",
    "\n",
    "print(\"\\n\" + \"Test:\" + \"\\n\" + str(website_test[\"OS\"].value_counts()))"
   ]
  },
  {
   "cell_type": "markdown",
   "id": "7afb5a90",
   "metadata": {},
   "source": [
    "#### Browser variable"
   ]
  },
  {
   "cell_type": "code",
   "execution_count": 69,
   "id": "5e9c1ce1",
   "metadata": {},
   "outputs": [
    {
     "name": "stdout",
     "output_type": "stream",
     "text": [
      "Train:\n",
      "2     6376\n",
      "1     1974\n",
      "4      593\n",
      "5      356\n",
      "6      135\n",
      "10     129\n",
      "8      113\n",
      "3       81\n",
      "13      50\n",
      "7       40\n",
      "12       8\n",
      "11       3\n",
      "Name: Browser, dtype: int64\n",
      "\n",
      "Test:\n",
      "2     1457\n",
      "1      468\n",
      "4      138\n",
      "5      104\n",
      "6       35\n",
      "10      33\n",
      "3       24\n",
      "8       21\n",
      "13       8\n",
      "7        7\n",
      "11       2\n",
      "12       2\n",
      "9        1\n",
      "Name: Browser, dtype: int64\n"
     ]
    }
   ],
   "source": [
    "# 9, 11, 12 seems to be outliers, so we\n",
    "# will remove the rows with these values\n",
    "\n",
    "print(\"Train:\" + \"\\n\" + str(website_train[\"Browser\"].value_counts()))\n",
    "\n",
    "print(\"\\n\" + \"Test:\" + \"\\n\" + str(website_test[\"Browser\"].value_counts()))"
   ]
  },
  {
   "cell_type": "markdown",
   "id": "54168e42",
   "metadata": {},
   "source": [
    "#### Country Variable"
   ]
  },
  {
   "cell_type": "code",
   "execution_count": 70,
   "id": "9e79cf0d",
   "metadata": {},
   "outputs": [
    {
     "name": "stdout",
     "output_type": "stream",
     "text": [
      "Train:\n",
      "Portugal          3810\n",
      "Spain             1920\n",
      "Brazil             932\n",
      "France             908\n",
      "Other              652\n",
      "Italy              608\n",
      "United Kingdom     421\n",
      "Germany            349\n",
      "Switzerland        258\n",
      "Name: Country, dtype: int64\n",
      "\n",
      "Test:\n",
      "Portugal          895\n",
      "Spain             451\n",
      "Brazil            229\n",
      "France            213\n",
      "Italy             147\n",
      "Other             146\n",
      "Germany            84\n",
      "United Kingdom     81\n",
      "Switzerland        54\n",
      "Name: Country, dtype: int64\n"
     ]
    }
   ],
   "source": [
    "# Seems to have no outliers\n",
    "\n",
    "print(\"Train:\" + \"\\n\" + str(website_train[\"Country\"].value_counts()))\n",
    "\n",
    "print(\"\\n\" + \"Test:\" + \"\\n\" + str(website_test[\"Country\"].value_counts()))"
   ]
  },
  {
   "cell_type": "markdown",
   "id": "dff40a65",
   "metadata": {},
   "source": [
    "#### Type_of_Traffic variable"
   ]
  },
  {
   "cell_type": "code",
   "execution_count": 71,
   "id": "496f7a10",
   "metadata": {},
   "outputs": [
    {
     "name": "stdout",
     "output_type": "stream",
     "text": [
      "Train:\n",
      "2     3084\n",
      "1     1991\n",
      "3     1660\n",
      "4      861\n",
      "13     590\n",
      "6      351\n",
      "10     349\n",
      "8      276\n",
      "5      209\n",
      "11     202\n",
      "15     152\n",
      "12      44\n",
      "9       33\n",
      "7       31\n",
      "14      25\n",
      "Name: Type_of_Traffic, dtype: int64\n",
      "\n",
      "Test:\n",
      "2     751\n",
      "1     433\n",
      "3     374\n",
      "4     199\n",
      "13    142\n",
      "10     93\n",
      "6      90\n",
      "8      58\n",
      "5      50\n",
      "15     41\n",
      "11     40\n",
      "7       9\n",
      "9       8\n",
      "12      6\n",
      "14      6\n",
      "Name: Type_of_Traffic, dtype: int64\n"
     ]
    }
   ],
   "source": [
    "# 7,9,12, 14 seems to be outliers\n",
    "\n",
    "print(\"Train:\" + \"\\n\" + str(website_train[\"Type_of_Traffic\"].value_counts()))\n",
    "\n",
    "print(\"\\n\" + \"Test:\" + \"\\n\" + str(website_test[\"Type_of_Traffic\"].value_counts()))"
   ]
  },
  {
   "cell_type": "markdown",
   "id": "57dbeeb0",
   "metadata": {},
   "source": [
    "#### Type_of_Visitor variable"
   ]
  },
  {
   "cell_type": "code",
   "execution_count": 72,
   "id": "6664691b",
   "metadata": {},
   "outputs": [
    {
     "name": "stdout",
     "output_type": "stream",
     "text": [
      "Train:\n",
      "Returner      8407\n",
      "New_Access    1379\n",
      "Other           72\n",
      "Name: Type_of_Visitor, dtype: int64\n",
      "\n",
      "Test:\n",
      "Returner      1988\n",
      "New_Access     301\n",
      "Other           11\n",
      "Name: Type_of_Visitor, dtype: int64\n"
     ]
    }
   ],
   "source": [
    "# Other seems to be outlier\n",
    "\n",
    "print(\"Train:\" + \"\\n\" + str(website_train[\"Type_of_Visitor\"].value_counts()))\n",
    "\n",
    "print(\"\\n\" + \"Test:\" + \"\\n\" + str(website_test[\"Type_of_Visitor\"].value_counts()))"
   ]
  },
  {
   "cell_type": "markdown",
   "id": "6d32ae5c",
   "metadata": {},
   "source": [
    "### 3.5.2.2. Passing outliers to Nans\n",
    "    \n"
   ]
  },
  {
   "cell_type": "markdown",
   "id": "37e29fb3",
   "metadata": {},
   "source": [
    "#### OS Variables"
   ]
  },
  {
   "cell_type": "code",
   "execution_count": 73,
   "id": "aab3c1cb",
   "metadata": {},
   "outputs": [],
   "source": [
    "website_train[\"OS\"] = website_train[\"OS\"].replace([\"Ubuntu\", \"Chrome OS\", \"Other\", \"Fedora\"], np.nan)\n",
    "\n",
    "website_test[\"OS\"] = website_test[\"OS\"].replace([\"Ubuntu\", \"Chrome OS\", \"Other\", \"Fedora\"], np.nan)"
   ]
  },
  {
   "cell_type": "markdown",
   "id": "415c3ac7",
   "metadata": {},
   "source": [
    "#### Browser Variable"
   ]
  },
  {
   "cell_type": "code",
   "execution_count": 74,
   "id": "200bf7aa",
   "metadata": {},
   "outputs": [],
   "source": [
    "website_train[\"Browser\"] = website_train[\"Browser\"].replace([11, 12], np.nan)\n",
    "website_test[\"Browser\"] = website_test[\"Browser\"].replace([9, 11, 12], np.nan)"
   ]
  },
  {
   "cell_type": "markdown",
   "id": "ca512770",
   "metadata": {},
   "source": [
    "#### Type_of_Traffic Variable"
   ]
  },
  {
   "cell_type": "code",
   "execution_count": 75,
   "id": "70c1a31a",
   "metadata": {},
   "outputs": [],
   "source": [
    "website_train[\"Type_of_Traffic\"] = website_train[\"Type_of_Traffic\"].replace([7, 9, 12, 14], np.nan)\n",
    "\n",
    "website_test[\"Type_of_Traffic\"] = website_test[\"Type_of_Traffic\"].replace([7, 9, 12, 14], np.nan)"
   ]
  },
  {
   "cell_type": "markdown",
   "id": "1dffa406",
   "metadata": {},
   "source": [
    "#### Type_of_Visitor Variable"
   ]
  },
  {
   "cell_type": "code",
   "execution_count": 76,
   "id": "0e4bc5b0",
   "metadata": {},
   "outputs": [],
   "source": [
    "website_train[\"Type_of_Visitor\"] = website_train[\"Type_of_Visitor\"].replace(\"Other\", np.nan)\n",
    "\n",
    "website_test[\"Type_of_Visitor\"] = website_test[\"Type_of_Visitor\"].replace(\"Other\", np.nan)"
   ]
  },
  {
   "cell_type": "markdown",
   "id": "05cb584d",
   "metadata": {},
   "source": [
    "\n",
    "    \n",
    "### 3.5.2.3. Mode Method (filling missing values)\n",
    "    \n"
   ]
  },
  {
   "cell_type": "code",
   "execution_count": 77,
   "id": "3a7524ec",
   "metadata": {},
   "outputs": [],
   "source": [
    "# train\n",
    "modes1 = website_train[categorical_features].mode().loc[0]\n",
    "website_train.fillna(modes1, inplace=True)"
   ]
  },
  {
   "cell_type": "code",
   "execution_count": 78,
   "id": "b757df29",
   "metadata": {},
   "outputs": [],
   "source": [
    "# test\n",
    "modes2 = website_test[categorical_features].mode().loc[0]\n",
    "website_test.fillna(modes2, inplace=True)"
   ]
  },
  {
   "cell_type": "markdown",
   "id": "3bdea480",
   "metadata": {},
   "source": [
    "# 4. Feature Selection"
   ]
  },
  {
   "cell_type": "markdown",
   "id": "16db6ade",
   "metadata": {},
   "source": [
    "\n",
    "    \n",
    "### Data Partition\n",
    "    \n",
    "\n"
   ]
  },
  {
   "cell_type": "code",
   "execution_count": 79,
   "id": "94c07dfb",
   "metadata": {},
   "outputs": [],
   "source": [
    "data = website_train.copy()"
   ]
  },
  {
   "cell_type": "code",
   "execution_count": 80,
   "id": "2b557838",
   "metadata": {},
   "outputs": [],
   "source": [
    "# Define X matrix and target (y)\n",
    "X = data.drop(\"Buy\", axis = 1)\n",
    "y = data[\"Buy\"]\n",
    "\n",
    "X_train, X_val, y_train, y_val = train_test_split(X, y, test_size = 0.3, random_state = 0, stratify = y, shuffle = True)"
   ]
  },
  {
   "cell_type": "code",
   "execution_count": 81,
   "id": "545508be",
   "metadata": {},
   "outputs": [],
   "source": [
    "# Define a new object named a X_train_num_bin where only the numerical and binary variables are mantained, \n",
    "# a object named as X_train_cat with all the categorical independent variables\n",
    "# The same for the test data\n",
    "\n",
    "X_train_num_bin = X_train[binary_features + numeric_features]\n",
    "X_val_num_bin = X_val[binary_features + numeric_features]\n",
    "\n",
    "X_train_cat = X_train[categorical_features]\n",
    "X_val_cat = X_val[categorical_features]\n",
    "\n"
   ]
  },
  {
   "cell_type": "markdown",
   "id": "cbe9f848",
   "metadata": {},
   "source": [
    "### Data Scaling"
   ]
  },
  {
   "cell_type": "code",
   "execution_count": 82,
   "id": "afc4fe49",
   "metadata": {},
   "outputs": [],
   "source": [
    "# scaling train data\n",
    "\n",
    "scaler = MinMaxScaler()\n",
    "X_train_num_scaled = scaler.fit_transform(X_train_num_bin)# this will return an array\n",
    "\n",
    "# Convert the array to a pandas dataframe\n",
    "X_train_num_scaled = pd.DataFrame(X_train_num_scaled, columns = X_train_num_bin.columns).set_index(X_train.index)"
   ]
  },
  {
   "cell_type": "code",
   "execution_count": 83,
   "id": "4a439ae1",
   "metadata": {},
   "outputs": [],
   "source": [
    "# scaling val data\n",
    "\n",
    "X_val_num_scaled = scaler.fit_transform(X_val_num_bin)\n",
    "\n",
    "X_val_num_scaled = pd.DataFrame(X_val_num_scaled, columns = X_val_num_bin.columns).set_index(X_val.index)"
   ]
  },
  {
   "cell_type": "markdown",
   "id": "635afa77",
   "metadata": {},
   "source": [
    "\n",
    "## 4.1. Filter methods\n",
    "    \n"
   ]
  },
  {
   "cell_type": "markdown",
   "id": "c7396f5e",
   "metadata": {},
   "source": [
    "\n",
    "### 4.1.1. Univariate variables\n",
    "    \n"
   ]
  },
  {
   "cell_type": "code",
   "execution_count": 84,
   "id": "fd2705ee",
   "metadata": {},
   "outputs": [
    {
     "data": {
      "text/plain": [
       "AccountMng_Pages_only         0.001881\n",
       "FAQ_only                      0.000724\n",
       "Product_Pages_only            0.245216\n",
       "Product_FAQ_Pages             0.032633\n",
       "Product_Account_Pages         0.230797\n",
       "Account_FAQ_Pages             0.000000\n",
       "Goal_Page                     0.171544\n",
       "AccountMng_Pages              0.023373\n",
       "AccountMng_Duration           0.006760\n",
       "FAQ_Pages                     0.006690\n",
       "FAQ_Duration                  0.011154\n",
       "Product_Pages                 0.005423\n",
       "Product_Duration              0.010184\n",
       "GoogleAnalytics_BounceRate    0.061900\n",
       "GoogleAnalytics_ExitRate      0.061813\n",
       "GoogleAnalytics_PageValue     0.009326\n",
       "Total_Pages                   0.005775\n",
       "Total_Duration                0.011068\n",
       "Date_day                      0.085597\n",
       "Date_month                    0.115288\n",
       "dtype: float64"
      ]
     },
     "execution_count": 84,
     "metadata": {},
     "output_type": "execute_result"
    }
   ],
   "source": [
    "# check if any of the numerical variables is univariate (variance is equal to 0)\n",
    "# It's not the case so we don't need to drop any variable\n",
    "\n",
    "X_train_num_scaled.var()"
   ]
  },
  {
   "cell_type": "markdown",
   "id": "cfb860e0",
   "metadata": {},
   "source": [
    "\n",
    "\n",
    "### 4.1.2. Spearman Correlation\n",
    "    \n"
   ]
  },
  {
   "cell_type": "code",
   "execution_count": 85,
   "id": "50565da7",
   "metadata": {},
   "outputs": [
    {
     "data": {
      "text/html": [
       "<div>\n",
       "<style scoped>\n",
       "    .dataframe tbody tr th:only-of-type {\n",
       "        vertical-align: middle;\n",
       "    }\n",
       "\n",
       "    .dataframe tbody tr th {\n",
       "        vertical-align: top;\n",
       "    }\n",
       "\n",
       "    .dataframe thead th {\n",
       "        text-align: right;\n",
       "    }\n",
       "</style>\n",
       "<table border=\"1\" class=\"dataframe\">\n",
       "  <thead>\n",
       "    <tr style=\"text-align: right;\">\n",
       "      <th></th>\n",
       "      <th>AccountMng_Pages_only</th>\n",
       "      <th>FAQ_only</th>\n",
       "      <th>Product_Pages_only</th>\n",
       "      <th>Product_FAQ_Pages</th>\n",
       "      <th>Product_Account_Pages</th>\n",
       "      <th>Account_FAQ_Pages</th>\n",
       "      <th>Goal_Page</th>\n",
       "      <th>AccountMng_Pages</th>\n",
       "      <th>AccountMng_Duration</th>\n",
       "      <th>FAQ_Pages</th>\n",
       "      <th>...</th>\n",
       "      <th>Product_Pages</th>\n",
       "      <th>Product_Duration</th>\n",
       "      <th>GoogleAnalytics_BounceRate</th>\n",
       "      <th>GoogleAnalytics_ExitRate</th>\n",
       "      <th>GoogleAnalytics_PageValue</th>\n",
       "      <th>Total_Pages</th>\n",
       "      <th>Total_Duration</th>\n",
       "      <th>Date_day</th>\n",
       "      <th>Date_month</th>\n",
       "      <th>Buy</th>\n",
       "    </tr>\n",
       "    <tr>\n",
       "      <th>Access_ID</th>\n",
       "      <th></th>\n",
       "      <th></th>\n",
       "      <th></th>\n",
       "      <th></th>\n",
       "      <th></th>\n",
       "      <th></th>\n",
       "      <th></th>\n",
       "      <th></th>\n",
       "      <th></th>\n",
       "      <th></th>\n",
       "      <th></th>\n",
       "      <th></th>\n",
       "      <th></th>\n",
       "      <th></th>\n",
       "      <th></th>\n",
       "      <th></th>\n",
       "      <th></th>\n",
       "      <th></th>\n",
       "      <th></th>\n",
       "      <th></th>\n",
       "      <th></th>\n",
       "    </tr>\n",
       "  </thead>\n",
       "  <tbody>\n",
       "    <tr>\n",
       "      <th>396223475</th>\n",
       "      <td>0.0</td>\n",
       "      <td>0.0</td>\n",
       "      <td>0.0</td>\n",
       "      <td>0.0</td>\n",
       "      <td>0.0</td>\n",
       "      <td>0.0</td>\n",
       "      <td>1.0</td>\n",
       "      <td>0.047619</td>\n",
       "      <td>0.014257</td>\n",
       "      <td>0.071429</td>\n",
       "      <td>...</td>\n",
       "      <td>0.088803</td>\n",
       "      <td>0.067224</td>\n",
       "      <td>0.106500</td>\n",
       "      <td>0.1950</td>\n",
       "      <td>0.078355</td>\n",
       "      <td>0.090674</td>\n",
       "      <td>0.075126</td>\n",
       "      <td>0.333333</td>\n",
       "      <td>0.1</td>\n",
       "      <td>1</td>\n",
       "    </tr>\n",
       "    <tr>\n",
       "      <th>335994847</th>\n",
       "      <td>0.0</td>\n",
       "      <td>0.0</td>\n",
       "      <td>1.0</td>\n",
       "      <td>0.0</td>\n",
       "      <td>0.0</td>\n",
       "      <td>0.0</td>\n",
       "      <td>1.0</td>\n",
       "      <td>0.000000</td>\n",
       "      <td>0.000000</td>\n",
       "      <td>0.000000</td>\n",
       "      <td>...</td>\n",
       "      <td>0.019305</td>\n",
       "      <td>0.028713</td>\n",
       "      <td>0.300000</td>\n",
       "      <td>0.3500</td>\n",
       "      <td>0.228381</td>\n",
       "      <td>0.018975</td>\n",
       "      <td>0.025653</td>\n",
       "      <td>0.766667</td>\n",
       "      <td>0.9</td>\n",
       "      <td>1</td>\n",
       "    </tr>\n",
       "    <tr>\n",
       "      <th>212328506</th>\n",
       "      <td>0.0</td>\n",
       "      <td>0.0</td>\n",
       "      <td>0.0</td>\n",
       "      <td>0.0</td>\n",
       "      <td>1.0</td>\n",
       "      <td>0.0</td>\n",
       "      <td>0.0</td>\n",
       "      <td>0.190476</td>\n",
       "      <td>0.062799</td>\n",
       "      <td>0.000000</td>\n",
       "      <td>...</td>\n",
       "      <td>0.009653</td>\n",
       "      <td>0.004814</td>\n",
       "      <td>0.000000</td>\n",
       "      <td>0.1110</td>\n",
       "      <td>0.000000</td>\n",
       "      <td>0.018024</td>\n",
       "      <td>0.023611</td>\n",
       "      <td>0.733333</td>\n",
       "      <td>0.8</td>\n",
       "      <td>0</td>\n",
       "    </tr>\n",
       "    <tr>\n",
       "      <th>259127877</th>\n",
       "      <td>0.0</td>\n",
       "      <td>0.0</td>\n",
       "      <td>0.0</td>\n",
       "      <td>0.0</td>\n",
       "      <td>0.0</td>\n",
       "      <td>0.0</td>\n",
       "      <td>1.0</td>\n",
       "      <td>0.380952</td>\n",
       "      <td>0.095213</td>\n",
       "      <td>0.285714</td>\n",
       "      <td>...</td>\n",
       "      <td>0.027027</td>\n",
       "      <td>0.021586</td>\n",
       "      <td>0.016011</td>\n",
       "      <td>0.0500</td>\n",
       "      <td>0.092288</td>\n",
       "      <td>0.048648</td>\n",
       "      <td>0.149463</td>\n",
       "      <td>0.666667</td>\n",
       "      <td>0.1</td>\n",
       "      <td>1</td>\n",
       "    </tr>\n",
       "    <tr>\n",
       "      <th>220174692</th>\n",
       "      <td>0.0</td>\n",
       "      <td>0.0</td>\n",
       "      <td>0.0</td>\n",
       "      <td>0.0</td>\n",
       "      <td>1.0</td>\n",
       "      <td>0.0</td>\n",
       "      <td>0.0</td>\n",
       "      <td>0.095238</td>\n",
       "      <td>0.018314</td>\n",
       "      <td>0.000000</td>\n",
       "      <td>...</td>\n",
       "      <td>0.028958</td>\n",
       "      <td>0.033768</td>\n",
       "      <td>0.000000</td>\n",
       "      <td>0.0315</td>\n",
       "      <td>0.000000</td>\n",
       "      <td>0.032731</td>\n",
       "      <td>0.035801</td>\n",
       "      <td>0.800000</td>\n",
       "      <td>0.4</td>\n",
       "      <td>0</td>\n",
       "    </tr>\n",
       "  </tbody>\n",
       "</table>\n",
       "<p>5 rows × 21 columns</p>\n",
       "</div>"
      ],
      "text/plain": [
       "           AccountMng_Pages_only  FAQ_only  Product_Pages_only  \\\n",
       "Access_ID                                                        \n",
       "396223475                    0.0       0.0                 0.0   \n",
       "335994847                    0.0       0.0                 1.0   \n",
       "212328506                    0.0       0.0                 0.0   \n",
       "259127877                    0.0       0.0                 0.0   \n",
       "220174692                    0.0       0.0                 0.0   \n",
       "\n",
       "           Product_FAQ_Pages  Product_Account_Pages  Account_FAQ_Pages  \\\n",
       "Access_ID                                                                \n",
       "396223475                0.0                    0.0                0.0   \n",
       "335994847                0.0                    0.0                0.0   \n",
       "212328506                0.0                    1.0                0.0   \n",
       "259127877                0.0                    0.0                0.0   \n",
       "220174692                0.0                    1.0                0.0   \n",
       "\n",
       "           Goal_Page  AccountMng_Pages  AccountMng_Duration  FAQ_Pages  ...  \\\n",
       "Access_ID                                                               ...   \n",
       "396223475        1.0          0.047619             0.014257   0.071429  ...   \n",
       "335994847        1.0          0.000000             0.000000   0.000000  ...   \n",
       "212328506        0.0          0.190476             0.062799   0.000000  ...   \n",
       "259127877        1.0          0.380952             0.095213   0.285714  ...   \n",
       "220174692        0.0          0.095238             0.018314   0.000000  ...   \n",
       "\n",
       "           Product_Pages  Product_Duration  GoogleAnalytics_BounceRate  \\\n",
       "Access_ID                                                                \n",
       "396223475       0.088803          0.067224                    0.106500   \n",
       "335994847       0.019305          0.028713                    0.300000   \n",
       "212328506       0.009653          0.004814                    0.000000   \n",
       "259127877       0.027027          0.021586                    0.016011   \n",
       "220174692       0.028958          0.033768                    0.000000   \n",
       "\n",
       "           GoogleAnalytics_ExitRate  GoogleAnalytics_PageValue  Total_Pages  \\\n",
       "Access_ID                                                                     \n",
       "396223475                    0.1950                   0.078355     0.090674   \n",
       "335994847                    0.3500                   0.228381     0.018975   \n",
       "212328506                    0.1110                   0.000000     0.018024   \n",
       "259127877                    0.0500                   0.092288     0.048648   \n",
       "220174692                    0.0315                   0.000000     0.032731   \n",
       "\n",
       "           Total_Duration  Date_day  Date_month  Buy  \n",
       "Access_ID                                             \n",
       "396223475        0.075126  0.333333         0.1    1  \n",
       "335994847        0.025653  0.766667         0.9    1  \n",
       "212328506        0.023611  0.733333         0.8    0  \n",
       "259127877        0.149463  0.666667         0.1    1  \n",
       "220174692        0.035801  0.800000         0.4    0  \n",
       "\n",
       "[5 rows x 21 columns]"
      ]
     },
     "execution_count": 85,
     "metadata": {},
     "output_type": "execute_result"
    }
   ],
   "source": [
    "# We are going to check now the spearman correlation between the variables. \n",
    "# First we need to create a new dataframe with all the training data, but containing \n",
    "#also the dependent variable, so we can check if any of the independent variables are \n",
    "# correlated with the target\n",
    "\n",
    "all_train_num = X_train_num_scaled.join(y_train)\n",
    "all_train_num.head()"
   ]
  },
  {
   "cell_type": "code",
   "execution_count": 86,
   "id": "fab3fb4f",
   "metadata": {},
   "outputs": [],
   "source": [
    "# Create a function to plot the correlation between the variables named cor_heatmap()\n",
    "# that should take as parameters the correlation table cor\n",
    "\n",
    "def cor_heatmap(cor):\n",
    "    plt.figure(figsize=(12,10))\n",
    "    matrix = np.triu(cor)\n",
    "    sns.heatmap(data = cor, annot = True, cmap = plt.cm.Reds, fmt='.1', mask = matrix)\n",
    "    plt.show()"
   ]
  },
  {
   "cell_type": "code",
   "execution_count": 87,
   "id": "1c18dd60",
   "metadata": {},
   "outputs": [
    {
     "data": {
      "image/png": "[encoded data removed]",
      "text/plain": [
       "<Figure size 864x720 with 2 Axes>"
      ]
     },
     "metadata": {},
     "output_type": "display_data"
    }
   ],
   "source": [
    "# analysing the histograms above the variables don't follow a normal distribution\n",
    "# so we are going to use the spearman method for the correlation\n",
    "\n",
    "cor_spearman = all_train_num.corr(method ='spearman')\n",
    "cor_heatmap(cor_spearman)"
   ]
  },
  {
   "cell_type": "markdown",
   "id": "59d36468",
   "metadata": {},
   "source": [
    "\n",
    "\n",
    "### 4.1.3. ANOVA\n",
    "    \n"
   ]
  },
  {
   "cell_type": "code",
   "execution_count": 88,
   "id": "fff591a2",
   "metadata": {},
   "outputs": [],
   "source": [
    "# Create an SelectKBest object to select features with best ANOVA F-Values\n",
    "fvalue_selector = SelectKBest(f_classif)\n",
    "\n",
    "# Apply the SelectKBest object to the features and target\n",
    "X_kbest = fvalue_selector.fit_transform(X_train_num_scaled, y_train)"
   ]
  },
  {
   "cell_type": "code",
   "execution_count": 89,
   "id": "9fce8cda",
   "metadata": {},
   "outputs": [
    {
     "name": "stdout",
     "output_type": "stream",
     "text": [
      "Original number of features: 20\n",
      "Reduced number of features: 10\n"
     ]
    }
   ],
   "source": [
    "# Show results\n",
    "print('Original number of features:', X_train_num_scaled.shape[1])\n",
    "print('Reduced number of features:', X_kbest.shape[1])"
   ]
  },
  {
   "cell_type": "code",
   "execution_count": 90,
   "id": "0e892614",
   "metadata": {},
   "outputs": [
    {
     "data": {
      "text/plain": [
       "Index(['Product_Pages_only', 'Goal_Page', 'AccountMng_Pages', 'Product_Pages',\n",
       "       'Product_Duration', 'GoogleAnalytics_BounceRate',\n",
       "       'GoogleAnalytics_ExitRate', 'GoogleAnalytics_PageValue', 'Total_Pages',\n",
       "       'Total_Duration'],\n",
       "      dtype='object')"
      ]
     },
     "execution_count": 90,
     "metadata": {},
     "output_type": "execute_result"
    }
   ],
   "source": [
    "# Get columns to keep and create new dataframe with those only\n",
    "cols = fvalue_selector.get_support(indices=True)\n",
    "features_to_keep = X_train_num_scaled.iloc[:,cols]\n",
    "features_to_keep.columns"
   ]
  },
  {
   "cell_type": "markdown",
   "id": "d5b96c5d",
   "metadata": {},
   "source": [
    "\n",
    "### 4.1.4. Chi-Square for categorical data\n",
    "\n"
   ]
  },
  {
   "cell_type": "code",
   "execution_count": 91,
   "id": "97c84057",
   "metadata": {},
   "outputs": [],
   "source": [
    "def TestIndependence(X,y,var,alpha=0.05):        \n",
    "    dfObserved = pd.crosstab(y,X) \n",
    "    chi2, p, dof, expected = stats.chi2_contingency(dfObserved.values)\n",
    "    dfExpected = pd.DataFrame(expected, columns=dfObserved.columns, index = dfObserved.index)\n",
    "    if p<alpha:\n",
    "        result=\"{0} is IMPORTANT for Prediction\".format(var)\n",
    "    else:\n",
    "        result=\"{0} is NOT an important predictor. (Discard {0} from model)\".format(var)\n",
    "    print(result)"
   ]
  },
  {
   "cell_type": "code",
   "execution_count": 92,
   "id": "2cd5a801",
   "metadata": {},
   "outputs": [
    {
     "name": "stdout",
     "output_type": "stream",
     "text": [
      "OS is IMPORTANT for Prediction\n",
      "Browser is NOT an important predictor. (Discard Browser from model)\n",
      "Country is NOT an important predictor. (Discard Country from model)\n",
      "Type_of_Traffic is IMPORTANT for Prediction\n",
      "Type_of_Visitor is IMPORTANT for Prediction\n"
     ]
    }
   ],
   "source": [
    "for var in X_train_cat:\n",
    "    TestIndependence(X_train_cat[var], y_train, var)"
   ]
  },
  {
   "cell_type": "markdown",
   "id": "eab0067b",
   "metadata": {},
   "source": [
    "\n",
    "## 4.2. Wrapper Methods\n"
   ]
  },
  {
   "cell_type": "markdown",
   "id": "5af32701",
   "metadata": {},
   "source": [
    "\n",
    "### 4.2.1. RFE\n",
    "    \n"
   ]
  },
  {
   "cell_type": "markdown",
   "id": "3fd6d953",
   "metadata": {},
   "source": [
    "#### Logistic Model"
   ]
  },
  {
   "cell_type": "code",
   "execution_count": 93,
   "id": "49212e65",
   "metadata": {},
   "outputs": [
    {
     "name": "stdout",
     "output_type": "stream",
     "text": [
      "Optimum number of features: 6\n",
      "Score with 6 features: 0.896214\n"
     ]
    }
   ],
   "source": [
    "#no of features\n",
    "nof_list=np.arange(1,21)            \n",
    "high_score=0\n",
    "\n",
    "#Variable to store the optimum features\n",
    "nof=0           \n",
    "score_list =[]\n",
    "for n in range(len(nof_list)):\n",
    "    \n",
    "    \n",
    "    model = LogisticRegression()\n",
    "    rfe = RFE(model, nof_list[n])\n",
    "    X_train_rfe = rfe.fit_transform(X_train_num_scaled, y_train)\n",
    "    X_val_rfe = rfe.transform(X_val_num_scaled)\n",
    "    \n",
    "    \n",
    "    \n",
    "    model.fit(X_train_rfe, y_train)\n",
    "    \n",
    "    score = model.score(X_val_rfe, y_val)\n",
    "    score_list.append(score)\n",
    "    \n",
    "    if(score > high_score):\n",
    "        high_score = score\n",
    "        nof = nof_list[n]\n",
    "\n",
    "print(\"Optimum number of features: %d\" %nof)\n",
    "print(\"Score with %d features: %f\" % (nof, high_score))"
   ]
  },
  {
   "cell_type": "code",
   "execution_count": 94,
   "id": "707680f0",
   "metadata": {},
   "outputs": [],
   "source": [
    "model = LogisticRegression()\n",
    "rfe = RFE(estimator = model, n_features_to_select = 6)\n",
    "X_rfe = rfe.fit_transform(X = X_train_num_scaled, y = y_train)"
   ]
  },
  {
   "cell_type": "code",
   "execution_count": 95,
   "id": "8bf45563",
   "metadata": {},
   "outputs": [
    {
     "data": {
      "text/plain": [
       "AccountMng_Pages_only          True\n",
       "FAQ_only                      False\n",
       "Product_Pages_only            False\n",
       "Product_FAQ_Pages             False\n",
       "Product_Account_Pages         False\n",
       "Account_FAQ_Pages             False\n",
       "Goal_Page                      True\n",
       "AccountMng_Pages               True\n",
       "AccountMng_Duration           False\n",
       "FAQ_Pages                     False\n",
       "FAQ_Duration                  False\n",
       "Product_Pages                 False\n",
       "Product_Duration              False\n",
       "GoogleAnalytics_BounceRate    False\n",
       "GoogleAnalytics_ExitRate       True\n",
       "GoogleAnalytics_PageValue      True\n",
       "Total_Pages                   False\n",
       "Total_Duration                False\n",
       "Date_day                      False\n",
       "Date_month                     True\n",
       "dtype: bool"
      ]
     },
     "execution_count": 95,
     "metadata": {},
     "output_type": "execute_result"
    }
   ],
   "source": [
    "rfe.support_\n",
    "selected_features = pd.Series(rfe.support_, index = X_train_num_scaled.columns)\n",
    "selected_features"
   ]
  },
  {
   "cell_type": "markdown",
   "id": "be346278",
   "metadata": {},
   "source": [
    "According to RFE, the numerical variables that we should keep for the final model are `GoogleAnalytics_ExitRate` and `GoogleAnalytics_PageValue`."
   ]
  },
  {
   "cell_type": "markdown",
   "id": "1de6fd69",
   "metadata": {},
   "source": [
    "#### Random Forest"
   ]
  },
  {
   "cell_type": "code",
   "execution_count": 96,
   "id": "69633aee",
   "metadata": {},
   "outputs": [],
   "source": [
    "#model = RandomForestClassifier()\n",
    "\n",
    "#no of features\n",
    "#nof_list=np.arange(1,21)            \n",
    "#high_score=0\n",
    "#Variable to store the optimum features\n",
    "#nof=0           \n",
    "#score_list =[]\n",
    "#for n in range(len(nof_list)):\n",
    "#    rfe = RFE(estimator=model,n_features_to_select=nof_list[n])\n",
    "#    X_train_rfe = rfe.fit_transform(X_train_num_bin,y_train)\n",
    "#    X_val_rfe = rfe.transform(X_val_num_bin)\n",
    "#    model.fit(X_train_rfe, y_train)\n",
    "    \n",
    "#    score = model.score(X_val_rfe, y_val)\n",
    "#    score_list.append(score)\n",
    "    \n",
    "#    if(score>high_score):\n",
    "#        high_score = score\n",
    "#        nof = nof_list[n]\n",
    "#print(\"Optimum number of features: %d\" %nof)\n",
    "#print(\"Score with %d features: %f\" % (nof, high_score))"
   ]
  },
  {
   "cell_type": "code",
   "execution_count": 97,
   "id": "7181bbee",
   "metadata": {},
   "outputs": [],
   "source": [
    "#cols = list(X_train_num_bin.columns)\n",
    "\n",
    "#Initializing RFE model\n",
    "#rfe = RFE(estimator= model, n_features_to_select=nof)             \n",
    "#Transforming data using RFE\n",
    "#X_rfe = rfe.fit_transform(X_train_num_bin,y_train)  \n",
    "#Fitting the data to model\n",
    "#model.fit(X_rfe,y_train)              \n",
    "#temp = pd.Series(rfe.support_,index = cols)\n",
    "#selected_features_rfe = temp[temp==True].index\n",
    "#print(selected_features_rfe)\n",
    "#len(selected_features_rfe)"
   ]
  },
  {
   "cell_type": "markdown",
   "id": "2f114ba3",
   "metadata": {},
   "source": [
    "\n",
    "## 4.3. Embedded Methods\n",
    "    \n"
   ]
  },
  {
   "cell_type": "markdown",
   "id": "34eff22c",
   "metadata": {},
   "source": [
    "\n",
    "### 4.3.1. Lasso Regression\n",
    "    \n"
   ]
  },
  {
   "cell_type": "code",
   "execution_count": 98,
   "id": "9e524df7",
   "metadata": {},
   "outputs": [],
   "source": [
    "def plot_importance(coef,name):\n",
    "    imp_coef = coef.sort_values()\n",
    "    plt.figure(figsize=(8,10))\n",
    "    imp_coef.plot(kind = \"barh\")\n",
    "    plt.title(\"Feature importance using \" + name + \" Model\")\n",
    "    plt.show()"
   ]
  },
  {
   "cell_type": "code",
   "execution_count": 99,
   "id": "4f4a8f1e",
   "metadata": {},
   "outputs": [
    {
     "data": {
      "text/plain": [
       "LassoCV()"
      ]
     },
     "execution_count": 99,
     "metadata": {},
     "output_type": "execute_result"
    }
   ],
   "source": [
    "reg = LassoCV()\n",
    "reg.fit(X_train_num_scaled, y_train)"
   ]
  },
  {
   "cell_type": "code",
   "execution_count": 100,
   "id": "ec2cc41a",
   "metadata": {},
   "outputs": [
    {
     "data": {
      "text/plain": [
       "AccountMng_Pages_only         0.221799\n",
       "FAQ_only                     -0.000000\n",
       "Product_Pages_only           -0.012135\n",
       "Product_FAQ_Pages             0.012931\n",
       "Product_Account_Pages         0.015003\n",
       "Account_FAQ_Pages             0.000000\n",
       "Goal_Page                     0.401108\n",
       "AccountMng_Pages             -0.181615\n",
       "AccountMng_Duration          -0.000000\n",
       "FAQ_Pages                    -0.054472\n",
       "FAQ_Duration                  0.017742\n",
       "Product_Pages                -0.000000\n",
       "Product_Duration              0.079860\n",
       "GoogleAnalytics_BounceRate    0.047599\n",
       "GoogleAnalytics_ExitRate     -0.120405\n",
       "GoogleAnalytics_PageValue     0.816237\n",
       "Total_Pages                  -0.155437\n",
       "Total_Duration                0.000000\n",
       "Date_day                     -0.005157\n",
       "Date_month                    0.080659\n",
       "dtype: float64"
      ]
     },
     "execution_count": 100,
     "metadata": {},
     "output_type": "execute_result"
    }
   ],
   "source": [
    "coef = pd.Series(reg.coef_, index = X_train_num_scaled.columns)\n",
    "coef"
   ]
  },
  {
   "cell_type": "code",
   "execution_count": 101,
   "id": "51b8cee5",
   "metadata": {},
   "outputs": [
    {
     "name": "stdout",
     "output_type": "stream",
     "text": [
      "Lasso picked 15 variables and eliminated the other 5 variables\n"
     ]
    }
   ],
   "source": [
    "print(\"Lasso picked \" + str(sum(coef != 0)) + \" variables and eliminated the other \" +  str(sum(coef == 0)) + \" variables\")"
   ]
  },
  {
   "cell_type": "code",
   "execution_count": 102,
   "id": "5c0c4a8f",
   "metadata": {},
   "outputs": [
    {
     "data": {
      "text/plain": [
       "AccountMng_Pages             -0.181615\n",
       "Total_Pages                  -0.155437\n",
       "GoogleAnalytics_ExitRate     -0.120405\n",
       "FAQ_Pages                    -0.054472\n",
       "Product_Pages_only           -0.012135\n",
       "Date_day                     -0.005157\n",
       "FAQ_only                     -0.000000\n",
       "Account_FAQ_Pages             0.000000\n",
       "Total_Duration                0.000000\n",
       "AccountMng_Duration          -0.000000\n",
       "Product_Pages                -0.000000\n",
       "Product_FAQ_Pages             0.012931\n",
       "Product_Account_Pages         0.015003\n",
       "FAQ_Duration                  0.017742\n",
       "GoogleAnalytics_BounceRate    0.047599\n",
       "Product_Duration              0.079860\n",
       "Date_month                    0.080659\n",
       "AccountMng_Pages_only         0.221799\n",
       "Goal_Page                     0.401108\n",
       "GoogleAnalytics_PageValue     0.816237\n",
       "dtype: float64"
      ]
     },
     "execution_count": 102,
     "metadata": {},
     "output_type": "execute_result"
    }
   ],
   "source": [
    "coef.sort_values()"
   ]
  },
  {
   "cell_type": "code",
   "execution_count": 103,
   "id": "9a063eb4",
   "metadata": {
    "scrolled": true
   },
   "outputs": [
    {
     "data": {
      "image/png": "[encoded data removed]",
      "text/plain": [
       "<Figure size 576x720 with 1 Axes>"
      ]
     },
     "metadata": {},
     "output_type": "display_data"
    }
   ],
   "source": [
    "plot_importance(coef,'Lasso')"
   ]
  },
  {
   "cell_type": "markdown",
   "id": "eece112f",
   "metadata": {},
   "source": [
    "\n",
    "### 4.3.2. Ridge Regression\n",
    "    \n"
   ]
  },
  {
   "cell_type": "code",
   "execution_count": 104,
   "id": "d2d844ae",
   "metadata": {},
   "outputs": [],
   "source": [
    "ridge = RidgeCV()"
   ]
  },
  {
   "cell_type": "code",
   "execution_count": 105,
   "id": "b7f74d89",
   "metadata": {},
   "outputs": [
    {
     "data": {
      "text/plain": [
       "RidgeCV(alphas=array([ 0.1,  1. , 10. ]))"
      ]
     },
     "execution_count": 105,
     "metadata": {},
     "output_type": "execute_result"
    }
   ],
   "source": [
    "ridge.fit(X =X_train_num_scaled, y = y_train)"
   ]
  },
  {
   "cell_type": "code",
   "execution_count": 106,
   "id": "4f780e3e",
   "metadata": {},
   "outputs": [
    {
     "name": "stdout",
     "output_type": "stream",
     "text": [
      "Best alpha using built-in RidgeCV: 1.000000\n"
     ]
    }
   ],
   "source": [
    "print(\"Best alpha using built-in RidgeCV: %f\" % ridge.alpha_)"
   ]
  },
  {
   "cell_type": "code",
   "execution_count": 107,
   "id": "b370ee49",
   "metadata": {},
   "outputs": [
    {
     "name": "stdout",
     "output_type": "stream",
     "text": [
      "Best score using built-in RidgeCV: 0.411929\n"
     ]
    }
   ],
   "source": [
    "print(\"Best score using built-in RidgeCV: %f\" %ridge.score(X_train_num_scaled, y_train))"
   ]
  },
  {
   "cell_type": "code",
   "execution_count": 108,
   "id": "91d1e60a",
   "metadata": {},
   "outputs": [
    {
     "data": {
      "text/plain": [
       "AccountMng_Pages             -0.180925\n",
       "GoogleAnalytics_ExitRate     -0.140743\n",
       "Total_Pages                  -0.122647\n",
       "Product_Pages                -0.114787\n",
       "FAQ_Pages                    -0.097574\n",
       "FAQ_only                     -0.041738\n",
       "AccountMng_Duration          -0.031176\n",
       "Product_Pages_only           -0.014356\n",
       "Date_day                     -0.005951\n",
       "Account_FAQ_Pages             0.000000\n",
       "Product_Account_Pages         0.012735\n",
       "Product_FAQ_Pages             0.015729\n",
       "FAQ_Duration                  0.031268\n",
       "Total_Duration                0.064227\n",
       "GoogleAnalytics_BounceRate    0.066396\n",
       "Product_Duration              0.077742\n",
       "Date_month                    0.081765\n",
       "AccountMng_Pages_only         0.250097\n",
       "Goal_Page                     0.402694\n",
       "GoogleAnalytics_PageValue     0.805805\n",
       "dtype: float64"
      ]
     },
     "execution_count": 108,
     "metadata": {},
     "output_type": "execute_result"
    }
   ],
   "source": [
    "coef_ridge = pd.Series(ridge.coef_, index = X_train_num_scaled.columns)\n",
    "coef_ridge.sort_values()"
   ]
  },
  {
   "cell_type": "code",
   "execution_count": 109,
   "id": "449630b6",
   "metadata": {},
   "outputs": [
    {
     "data": {
      "image/png": "[encoded data removed]",
      "text/plain": [
       "<Figure size 576x720 with 1 Axes>"
      ]
     },
     "metadata": {},
     "output_type": "display_data"
    }
   ],
   "source": [
    "plot_importance(coef_ridge,'Ridge')"
   ]
  },
  {
   "cell_type": "markdown",
   "id": "62ec984f",
   "metadata": {},
   "source": [
    "\n",
    "### 4.3.3. Gini Importance | Entropy Importance \n",
    "    \n"
   ]
  },
  {
   "cell_type": "code",
   "execution_count": 110,
   "id": "651d2b58",
   "metadata": {},
   "outputs": [],
   "source": [
    "gini_importance = DecisionTreeClassifier().fit(X_train_num_bin, y_train).feature_importances_\n",
    "entropy_importance = DecisionTreeClassifier(criterion='entropy').fit(X_train_num_bin, y_train).feature_importances_"
   ]
  },
  {
   "cell_type": "code",
   "execution_count": 111,
   "id": "b6d0a5c3",
   "metadata": {},
   "outputs": [
    {
     "data": {
      "text/plain": [
       "<AxesSubplot:xlabel='Value', ylabel='Col'>"
      ]
     },
     "execution_count": 111,
     "metadata": {},
     "output_type": "execute_result"
    },
    {
     "data": {
      "image/png": "[encoded data removed]",
      "text/plain": [
       "<Figure size 720x1440 with 1 Axes>"
      ]
     },
     "metadata": {},
     "output_type": "display_data"
    }
   ],
   "source": [
    "zippy = pd.DataFrame(zip(gini_importance, entropy_importance), columns = ['gini','entropy'])\n",
    "zippy['col'] = X_train_num_bin.columns\n",
    "tidy = zippy.melt(id_vars='col').rename(columns=str.title)\n",
    "tidy.sort_values(['Value'], ascending = False, inplace = True)\n",
    "\n",
    "plt.figure(figsize=(10,20))\n",
    "sns.barplot(y='Col', x='Value', hue='Variable', data=tidy)"
   ]
  },
  {
   "cell_type": "markdown",
   "id": "db6ddbbf",
   "metadata": {},
   "source": [
    "\n",
    "\n",
    "### 4.3.4. Tree based Classifiers\n",
    "    \n"
   ]
  },
  {
   "cell_type": "code",
   "execution_count": 112,
   "id": "e066a501",
   "metadata": {},
   "outputs": [
    {
     "name": "stdout",
     "output_type": "stream",
     "text": [
      "[1.10233774e-03 3.55869166e-05 1.53826573e-02 3.55996409e-03\n",
      " 8.64889574e-03 0.00000000e+00 2.86399540e-01 4.36792261e-02\n",
      " 4.12087096e-02 1.71868415e-02 1.92814865e-02 5.71316097e-02\n",
      " 5.76441429e-02 5.50405075e-02 6.82115926e-02 1.05855331e-01\n",
      " 5.83558229e-02 5.82080476e-02 5.34377127e-02 4.96299883e-02]\n"
     ]
    },
    {
     "data": {
      "image/png": "[encoded data removed]",
      "text/plain": [
       "<Figure size 432x288 with 1 Axes>"
      ]
     },
     "metadata": {},
     "output_type": "display_data"
    }
   ],
   "source": [
    "model = ExtraTreesClassifier()\n",
    "model.fit(X_train_num_bin, y_train)\n",
    "print(model.feature_importances_) #use inbuilt class feature_importances of tree based classifiers\n",
    "\n",
    "#plot graph of feature importances for better visualization\n",
    "feat_importances = pd.Series(model.feature_importances_, index=X_train_num_bin.columns)\n",
    "feat_importances.nlargest(20).plot(kind='barh')\n",
    "plt.show()"
   ]
  },
  {
   "cell_type": "markdown",
   "id": "5aade66e",
   "metadata": {},
   "source": [
    "\n",
    "\n",
    "### 4.3.5. AdaBoost Feature Importances\n",
    "\n",
    "    \n"
   ]
  },
  {
   "cell_type": "code",
   "execution_count": 113,
   "id": "402af990",
   "metadata": {},
   "outputs": [],
   "source": [
    "ab = AdaBoostClassifier(random_state = 56).fit(X_train_num_bin, y_train)"
   ]
  },
  {
   "cell_type": "code",
   "execution_count": 114,
   "id": "ec8c23e3",
   "metadata": {},
   "outputs": [
    {
     "data": {
      "text/plain": [
       "<AxesSubplot:xlabel='importances', ylabel='features'>"
      ]
     },
     "execution_count": 114,
     "metadata": {},
     "output_type": "execute_result"
    },
    {
     "data": {
      "image/png": "[encoded data removed]",
      "text/plain": [
       "<Figure size 1080x1440 with 1 Axes>"
      ]
     },
     "metadata": {},
     "output_type": "display_data"
    }
   ],
   "source": [
    "plt.figure(figsize=(15,20))\n",
    "importances = ab.feature_importances_\n",
    "features = X_train_num_bin.columns\n",
    "data_tuples = list(zip(importances, features))\n",
    "data_1 = pd.DataFrame(data_tuples, columns = ['importances', 'features'])\n",
    "data_1 = data_1.sort_values('importances', ascending = False)\n",
    "sns.barplot(data_1['importances'], data_1['features'], palette = 'cubehelix', orient = 'h')"
   ]
  },
  {
   "cell_type": "markdown",
   "id": "63b73b74",
   "metadata": {},
   "source": [
    "\n",
    "## Final Insights:\n",
    "    \n"
   ]
  },
  {
   "cell_type": "markdown",
   "id": "cc8e12d2",
   "metadata": {},
   "source": [
    "### Numerical Data\n",
    "\n",
    "<hr>\n",
    "\n",
    "| Predictor | Univariate | Spearman | RFE (logistic) | RFE (random forest) | Lasso | Ridge | ANOVA | Gini | Entropy | Tree based Classifiers | AdaBoost  | What to do? (One possible way to \"solve\") | \n",
    "| --- | --- | --- | --- |--- | --- | --- | --- | --- | --- | --- | --- | --- |\n",
    "| AccountMng_Pages | Keep | Discard | Keep | Keep | Keep | Keep | Keep | Keep? | Keep? | Keep? | Discard  |  Try with and without |\n",
    "| AccountMng_Duration | Keep | Discard | Discard | Keep | Discard | Discard | Discard | Keep? | Keep? | Keep? | Keep? | Discard |\n",
    "| FAQ_Pages | Keep | Discard | Discard | Discard | Keep? | Keep? | Discard | Discard | Discard | Discard | Discard  | Discard |\n",
    "| FAQ_Duration | Keep | Discard | Discard | Discard | Discard | Discard | Discard | Keep? | Keep? | Discard | Discard | Discard |\n",
    "| Product_Pages | Keep | Discard | Discard | Keep | Discard | Keep | Keep | Keep? | Keep? | Keep? | Keep? | Try with and without |\n",
    "| Product_Duration | Keep | Discard | Discard | Keep | Keep? | Keep? | Discard | Keep? | Keep? | Keep? | Keep  | Try With and Without |\n",
    "| GoogleAnalytics_BounceRate | Keep | Discard | Discard | Keep | Keep? | Keep? | Keep | Keep? | Keep? | Keep? | Keep?  | Try With and Without |\n",
    "| GoogleAnalytics_ExitRate | Keep | Discard | Keep | Keep | Keep | Keep | Keep | Keep? | Keep? | Keep? | Keep | Keep |\n",
    "| GoogleAnalytics_PageValue | Keep | Keep | Keep | Keep | Keep | Keep | Keep | Keep | Keep | Keep | Keep | Keep | Keep | Keep| Keep | \n",
    "| Date_month | Keep | Discard | Keep | Keep | Keep? | Keep? | Discard | Keep? | Keep? | Keep? | Keep | Try with and without |\n",
    "| Date_day | Keep | Discard | Discard | Discard | Discard | Discard | Discard | Keep? | Keep? | Keep? | Discard | Discard |\n",
    "| Total_Pages | Keep | Discard | Discard | Keep | Keep | Keep | Keep | Keep? | Keep? | Keep? | Keep | Try with and without |\n",
    "| Total_Duration | Keep | Discard | Discard | Keep | Discard | Keep? | Keep | Keep? | Keep? | Keep? | Keep | Try with and without |\n",
    "| AccountMng_Pages_only | Keep | Discard | Keep | Discard | Keep | Keep | Discard | Discard | Discard | Discard | Discard | Discard |\n",
    "| FAQ_only | Keep | Discard | Discard | Discard | Discard | Discard | Discard | Discard | Discard | Discard | Discard | Discard |\n",
    "| Product_Pages_only | Keep | Discard | Discard | Discard | Discard | Keep | Discard | Discard | Discard | Discard | Discard | Discard |\n",
    "| Product_FAQ_Pages | Keep | Discard | Discard | Discard | Discard | Discard | Discard | Discard | Discard | Discard | Discard | Discard |\n",
    "| Product_Account_Pages | Keep | Discard | Discard | Discard | Discard | Discard | Discard | Discard | Discard | Discard | Discard | Discard |\n",
    "| Account_FAQ_Pages | Discard | Discard | Discard | Discard | Discard | Discard | Discard | Discard | Discard | Discard | Discard | Discard |\n",
    "| Goal_Page | Keep | Keep | Keep | Keep | Keep | Keep | Keep | Discard | Discard | Keep | Discard | Try with and without |\n",
    "\n",
    "\n",
    "<hr>\n",
    "\n",
    "\n",
    "### Categorical Data\n",
    "\n",
    "| Predictor | Chi-Square |\n",
    "| --- | --- |\n",
    "| OS | Keep |\n",
    "| Brower | Discard |\n",
    "| Country | Discard |\n",
    "| Type_of_Traffic | Keep |\n",
    "| Type_of_Visitor | Keep |\n",
    "\n",
    "\n",
    "<hr>"
   ]
  },
  {
   "cell_type": "markdown",
   "id": "dfbe3562",
   "metadata": {},
   "source": [
    "# 5. One Hot Encoder"
   ]
  },
  {
   "cell_type": "code",
   "execution_count": 115,
   "id": "68bf387e",
   "metadata": {},
   "outputs": [
    {
     "data": {
      "text/html": [
       "<div>\n",
       "<style scoped>\n",
       "    .dataframe tbody tr th:only-of-type {\n",
       "        vertical-align: middle;\n",
       "    }\n",
       "\n",
       "    .dataframe tbody tr th {\n",
       "        vertical-align: top;\n",
       "    }\n",
       "\n",
       "    .dataframe thead th {\n",
       "        text-align: right;\n",
       "    }\n",
       "</style>\n",
       "<table border=\"1\" class=\"dataframe\">\n",
       "  <thead>\n",
       "    <tr style=\"text-align: right;\">\n",
       "      <th></th>\n",
       "      <th>AccountMng_Pages</th>\n",
       "      <th>AccountMng_Duration</th>\n",
       "      <th>FAQ_Pages</th>\n",
       "      <th>FAQ_Duration</th>\n",
       "      <th>Product_Pages</th>\n",
       "      <th>Product_Duration</th>\n",
       "      <th>GoogleAnalytics_BounceRate</th>\n",
       "      <th>GoogleAnalytics_ExitRate</th>\n",
       "      <th>GoogleAnalytics_PageValue</th>\n",
       "      <th>Buy</th>\n",
       "      <th>...</th>\n",
       "      <th>x1_3</th>\n",
       "      <th>x1_4</th>\n",
       "      <th>x1_5</th>\n",
       "      <th>x1_6</th>\n",
       "      <th>x1_8</th>\n",
       "      <th>x1_10</th>\n",
       "      <th>x1_11</th>\n",
       "      <th>x1_13</th>\n",
       "      <th>x1_15</th>\n",
       "      <th>x2_Returner</th>\n",
       "    </tr>\n",
       "    <tr>\n",
       "      <th>Access_ID</th>\n",
       "      <th></th>\n",
       "      <th></th>\n",
       "      <th></th>\n",
       "      <th></th>\n",
       "      <th></th>\n",
       "      <th></th>\n",
       "      <th></th>\n",
       "      <th></th>\n",
       "      <th></th>\n",
       "      <th></th>\n",
       "      <th></th>\n",
       "      <th></th>\n",
       "      <th></th>\n",
       "      <th></th>\n",
       "      <th></th>\n",
       "      <th></th>\n",
       "      <th></th>\n",
       "      <th></th>\n",
       "      <th></th>\n",
       "      <th></th>\n",
       "      <th></th>\n",
       "    </tr>\n",
       "  </thead>\n",
       "  <tbody>\n",
       "    <tr>\n",
       "      <th>102863333</th>\n",
       "      <td>0.0</td>\n",
       "      <td>0.0</td>\n",
       "      <td>0.0</td>\n",
       "      <td>0.000000</td>\n",
       "      <td>2.272340</td>\n",
       "      <td>18.511785</td>\n",
       "      <td>0.0000</td>\n",
       "      <td>0.0667</td>\n",
       "      <td>0.000000</td>\n",
       "      <td>0</td>\n",
       "      <td>...</td>\n",
       "      <td>0.0</td>\n",
       "      <td>0.0</td>\n",
       "      <td>0.0</td>\n",
       "      <td>0.0</td>\n",
       "      <td>0.0</td>\n",
       "      <td>0.0</td>\n",
       "      <td>0.0</td>\n",
       "      <td>0.0</td>\n",
       "      <td>0.0</td>\n",
       "      <td>1.0</td>\n",
       "    </tr>\n",
       "    <tr>\n",
       "      <th>103117814</th>\n",
       "      <td>0.0</td>\n",
       "      <td>0.0</td>\n",
       "      <td>0.0</td>\n",
       "      <td>0.000000</td>\n",
       "      <td>17.421277</td>\n",
       "      <td>197.989324</td>\n",
       "      <td>0.0217</td>\n",
       "      <td>0.0449</td>\n",
       "      <td>0.000000</td>\n",
       "      <td>0</td>\n",
       "      <td>...</td>\n",
       "      <td>0.0</td>\n",
       "      <td>0.0</td>\n",
       "      <td>0.0</td>\n",
       "      <td>1.0</td>\n",
       "      <td>0.0</td>\n",
       "      <td>0.0</td>\n",
       "      <td>0.0</td>\n",
       "      <td>0.0</td>\n",
       "      <td>0.0</td>\n",
       "      <td>1.0</td>\n",
       "    </tr>\n",
       "    <tr>\n",
       "      <th>103201891</th>\n",
       "      <td>0.0</td>\n",
       "      <td>0.0</td>\n",
       "      <td>0.0</td>\n",
       "      <td>0.000000</td>\n",
       "      <td>6.059574</td>\n",
       "      <td>27.478431</td>\n",
       "      <td>0.0250</td>\n",
       "      <td>0.0583</td>\n",
       "      <td>0.000000</td>\n",
       "      <td>0</td>\n",
       "      <td>...</td>\n",
       "      <td>0.0</td>\n",
       "      <td>0.0</td>\n",
       "      <td>0.0</td>\n",
       "      <td>0.0</td>\n",
       "      <td>0.0</td>\n",
       "      <td>0.0</td>\n",
       "      <td>0.0</td>\n",
       "      <td>0.0</td>\n",
       "      <td>0.0</td>\n",
       "      <td>1.0</td>\n",
       "    </tr>\n",
       "    <tr>\n",
       "      <th>103226087</th>\n",
       "      <td>0.0</td>\n",
       "      <td>0.0</td>\n",
       "      <td>0.0</td>\n",
       "      <td>0.000000</td>\n",
       "      <td>6.817021</td>\n",
       "      <td>176.078891</td>\n",
       "      <td>0.0000</td>\n",
       "      <td>0.0250</td>\n",
       "      <td>30.319054</td>\n",
       "      <td>1</td>\n",
       "      <td>...</td>\n",
       "      <td>0.0</td>\n",
       "      <td>0.0</td>\n",
       "      <td>0.0</td>\n",
       "      <td>0.0</td>\n",
       "      <td>0.0</td>\n",
       "      <td>0.0</td>\n",
       "      <td>0.0</td>\n",
       "      <td>0.0</td>\n",
       "      <td>0.0</td>\n",
       "      <td>1.0</td>\n",
       "    </tr>\n",
       "    <tr>\n",
       "      <th>103234445</th>\n",
       "      <td>0.0</td>\n",
       "      <td>0.0</td>\n",
       "      <td>1.0</td>\n",
       "      <td>340.979595</td>\n",
       "      <td>27.268085</td>\n",
       "      <td>465.669645</td>\n",
       "      <td>0.0000</td>\n",
       "      <td>0.0093</td>\n",
       "      <td>8.936018</td>\n",
       "      <td>1</td>\n",
       "      <td>...</td>\n",
       "      <td>1.0</td>\n",
       "      <td>0.0</td>\n",
       "      <td>0.0</td>\n",
       "      <td>0.0</td>\n",
       "      <td>0.0</td>\n",
       "      <td>0.0</td>\n",
       "      <td>0.0</td>\n",
       "      <td>0.0</td>\n",
       "      <td>0.0</td>\n",
       "      <td>1.0</td>\n",
       "    </tr>\n",
       "  </tbody>\n",
       "</table>\n",
       "<p>5 rows × 35 columns</p>\n",
       "</div>"
      ],
      "text/plain": [
       "           AccountMng_Pages  AccountMng_Duration  FAQ_Pages  FAQ_Duration  \\\n",
       "Access_ID                                                                   \n",
       "102863333               0.0                  0.0        0.0      0.000000   \n",
       "103117814               0.0                  0.0        0.0      0.000000   \n",
       "103201891               0.0                  0.0        0.0      0.000000   \n",
       "103226087               0.0                  0.0        0.0      0.000000   \n",
       "103234445               0.0                  0.0        1.0    340.979595   \n",
       "\n",
       "           Product_Pages  Product_Duration  GoogleAnalytics_BounceRate  \\\n",
       "Access_ID                                                                \n",
       "102863333       2.272340         18.511785                      0.0000   \n",
       "103117814      17.421277        197.989324                      0.0217   \n",
       "103201891       6.059574         27.478431                      0.0250   \n",
       "103226087       6.817021        176.078891                      0.0000   \n",
       "103234445      27.268085        465.669645                      0.0000   \n",
       "\n",
       "           GoogleAnalytics_ExitRate  GoogleAnalytics_PageValue  Buy  ...  \\\n",
       "Access_ID                                                            ...   \n",
       "102863333                    0.0667                   0.000000    0  ...   \n",
       "103117814                    0.0449                   0.000000    0  ...   \n",
       "103201891                    0.0583                   0.000000    0  ...   \n",
       "103226087                    0.0250                  30.319054    1  ...   \n",
       "103234445                    0.0093                   8.936018    1  ...   \n",
       "\n",
       "           x1_3  x1_4  x1_5  x1_6  x1_8  x1_10  x1_11  x1_13  x1_15  \\\n",
       "Access_ID                                                             \n",
       "102863333   0.0   0.0   0.0   0.0   0.0    0.0    0.0    0.0    0.0   \n",
       "103117814   0.0   0.0   0.0   1.0   0.0    0.0    0.0    0.0    0.0   \n",
       "103201891   0.0   0.0   0.0   0.0   0.0    0.0    0.0    0.0    0.0   \n",
       "103226087   0.0   0.0   0.0   0.0   0.0    0.0    0.0    0.0    0.0   \n",
       "103234445   1.0   0.0   0.0   0.0   0.0    0.0    0.0    0.0    0.0   \n",
       "\n",
       "           x2_Returner  \n",
       "Access_ID               \n",
       "102863333          1.0  \n",
       "103117814          1.0  \n",
       "103201891          1.0  \n",
       "103226087          1.0  \n",
       "103234445          1.0  \n",
       "\n",
       "[5 rows x 35 columns]"
      ]
     },
     "execution_count": 115,
     "metadata": {},
     "output_type": "execute_result"
    }
   ],
   "source": [
    "# transform categorical variables into dummies in the train dataset\n",
    "df_ohc = website_train.copy()\n",
    "\n",
    "ohc = OneHotEncoder(sparse=False, drop=\"first\")\n",
    "ohc_feat = ohc.fit_transform(df_ohc[['OS', 'Type_of_Traffic', 'Type_of_Visitor']])\n",
    "ohc_feat_names = ohc.get_feature_names()\n",
    "ohc_df = pd.DataFrame(ohc_feat, index=df_ohc.index, columns=ohc_feat_names)  # Why the index=df_ohc.index?\n",
    "\n",
    "df_ohc = pd.concat([df_ohc.drop(columns=categorical_features), ohc_df], axis=1)\n",
    "\n",
    "df_ohc.head()"
   ]
  },
  {
   "cell_type": "code",
   "execution_count": 116,
   "id": "747816af",
   "metadata": {},
   "outputs": [
    {
     "data": {
      "text/html": [
       "<div>\n",
       "<style scoped>\n",
       "    .dataframe tbody tr th:only-of-type {\n",
       "        vertical-align: middle;\n",
       "    }\n",
       "\n",
       "    .dataframe tbody tr th {\n",
       "        vertical-align: top;\n",
       "    }\n",
       "\n",
       "    .dataframe thead th {\n",
       "        text-align: right;\n",
       "    }\n",
       "</style>\n",
       "<table border=\"1\" class=\"dataframe\">\n",
       "  <thead>\n",
       "    <tr style=\"text-align: right;\">\n",
       "      <th></th>\n",
       "      <th>AccountMng_Pages</th>\n",
       "      <th>AccountMng_Duration</th>\n",
       "      <th>FAQ_Pages</th>\n",
       "      <th>FAQ_Duration</th>\n",
       "      <th>Product_Pages</th>\n",
       "      <th>Product_Duration</th>\n",
       "      <th>GoogleAnalytics_BounceRate</th>\n",
       "      <th>GoogleAnalytics_ExitRate</th>\n",
       "      <th>GoogleAnalytics_PageValue</th>\n",
       "      <th>Date_month</th>\n",
       "      <th>...</th>\n",
       "      <th>x1_3</th>\n",
       "      <th>x1_4</th>\n",
       "      <th>x1_5</th>\n",
       "      <th>x1_6</th>\n",
       "      <th>x1_8</th>\n",
       "      <th>x1_10</th>\n",
       "      <th>x1_11</th>\n",
       "      <th>x1_13</th>\n",
       "      <th>x1_15</th>\n",
       "      <th>x2_Returner</th>\n",
       "    </tr>\n",
       "    <tr>\n",
       "      <th>Access_ID</th>\n",
       "      <th></th>\n",
       "      <th></th>\n",
       "      <th></th>\n",
       "      <th></th>\n",
       "      <th></th>\n",
       "      <th></th>\n",
       "      <th></th>\n",
       "      <th></th>\n",
       "      <th></th>\n",
       "      <th></th>\n",
       "      <th></th>\n",
       "      <th></th>\n",
       "      <th></th>\n",
       "      <th></th>\n",
       "      <th></th>\n",
       "      <th></th>\n",
       "      <th></th>\n",
       "      <th></th>\n",
       "      <th></th>\n",
       "      <th></th>\n",
       "      <th></th>\n",
       "    </tr>\n",
       "  </thead>\n",
       "  <tbody>\n",
       "    <tr>\n",
       "      <th>798519314</th>\n",
       "      <td>0.0</td>\n",
       "      <td>0.00</td>\n",
       "      <td>0.0</td>\n",
       "      <td>0.000000</td>\n",
       "      <td>86.0</td>\n",
       "      <td>5332.5478</td>\n",
       "      <td>0.0139</td>\n",
       "      <td>0.0654</td>\n",
       "      <td>0.0000</td>\n",
       "      <td>8</td>\n",
       "      <td>...</td>\n",
       "      <td>0.0</td>\n",
       "      <td>0.0</td>\n",
       "      <td>0.0</td>\n",
       "      <td>0.0</td>\n",
       "      <td>0.0</td>\n",
       "      <td>0.0</td>\n",
       "      <td>0.0</td>\n",
       "      <td>0.0</td>\n",
       "      <td>0.0</td>\n",
       "      <td>1.0</td>\n",
       "    </tr>\n",
       "    <tr>\n",
       "      <th>798663101</th>\n",
       "      <td>2.0</td>\n",
       "      <td>37.50</td>\n",
       "      <td>0.0</td>\n",
       "      <td>0.000000</td>\n",
       "      <td>55.0</td>\n",
       "      <td>1420.4725</td>\n",
       "      <td>0.0012</td>\n",
       "      <td>0.0058</td>\n",
       "      <td>0.0000</td>\n",
       "      <td>5</td>\n",
       "      <td>...</td>\n",
       "      <td>0.0</td>\n",
       "      <td>1.0</td>\n",
       "      <td>0.0</td>\n",
       "      <td>0.0</td>\n",
       "      <td>0.0</td>\n",
       "      <td>0.0</td>\n",
       "      <td>0.0</td>\n",
       "      <td>0.0</td>\n",
       "      <td>0.0</td>\n",
       "      <td>1.0</td>\n",
       "    </tr>\n",
       "    <tr>\n",
       "      <th>798663221</th>\n",
       "      <td>0.0</td>\n",
       "      <td>0.00</td>\n",
       "      <td>0.0</td>\n",
       "      <td>0.000000</td>\n",
       "      <td>36.0</td>\n",
       "      <td>788.5000</td>\n",
       "      <td>0.0000</td>\n",
       "      <td>0.0250</td>\n",
       "      <td>0.0000</td>\n",
       "      <td>11</td>\n",
       "      <td>...</td>\n",
       "      <td>1.0</td>\n",
       "      <td>0.0</td>\n",
       "      <td>0.0</td>\n",
       "      <td>0.0</td>\n",
       "      <td>0.0</td>\n",
       "      <td>0.0</td>\n",
       "      <td>0.0</td>\n",
       "      <td>0.0</td>\n",
       "      <td>0.0</td>\n",
       "      <td>1.0</td>\n",
       "    </tr>\n",
       "    <tr>\n",
       "      <th>798760918</th>\n",
       "      <td>0.0</td>\n",
       "      <td>0.00</td>\n",
       "      <td>0.0</td>\n",
       "      <td>0.000000</td>\n",
       "      <td>2.0</td>\n",
       "      <td>689.0000</td>\n",
       "      <td>0.0000</td>\n",
       "      <td>0.1000</td>\n",
       "      <td>0.0000</td>\n",
       "      <td>5</td>\n",
       "      <td>...</td>\n",
       "      <td>0.0</td>\n",
       "      <td>0.0</td>\n",
       "      <td>0.0</td>\n",
       "      <td>0.0</td>\n",
       "      <td>0.0</td>\n",
       "      <td>0.0</td>\n",
       "      <td>0.0</td>\n",
       "      <td>0.0</td>\n",
       "      <td>0.0</td>\n",
       "      <td>0.0</td>\n",
       "    </tr>\n",
       "    <tr>\n",
       "      <th>798856982</th>\n",
       "      <td>12.0</td>\n",
       "      <td>225.25</td>\n",
       "      <td>1.0</td>\n",
       "      <td>34.362377</td>\n",
       "      <td>129.0</td>\n",
       "      <td>3367.0413</td>\n",
       "      <td>0.0014</td>\n",
       "      <td>0.0185</td>\n",
       "      <td>1.0353</td>\n",
       "      <td>11</td>\n",
       "      <td>...</td>\n",
       "      <td>0.0</td>\n",
       "      <td>0.0</td>\n",
       "      <td>0.0</td>\n",
       "      <td>0.0</td>\n",
       "      <td>0.0</td>\n",
       "      <td>1.0</td>\n",
       "      <td>0.0</td>\n",
       "      <td>0.0</td>\n",
       "      <td>0.0</td>\n",
       "      <td>1.0</td>\n",
       "    </tr>\n",
       "  </tbody>\n",
       "</table>\n",
       "<p>5 rows × 34 columns</p>\n",
       "</div>"
      ],
      "text/plain": [
       "           AccountMng_Pages  AccountMng_Duration  FAQ_Pages  FAQ_Duration  \\\n",
       "Access_ID                                                                   \n",
       "798519314               0.0                 0.00        0.0      0.000000   \n",
       "798663101               2.0                37.50        0.0      0.000000   \n",
       "798663221               0.0                 0.00        0.0      0.000000   \n",
       "798760918               0.0                 0.00        0.0      0.000000   \n",
       "798856982              12.0               225.25        1.0     34.362377   \n",
       "\n",
       "           Product_Pages  Product_Duration  GoogleAnalytics_BounceRate  \\\n",
       "Access_ID                                                                \n",
       "798519314           86.0         5332.5478                      0.0139   \n",
       "798663101           55.0         1420.4725                      0.0012   \n",
       "798663221           36.0          788.5000                      0.0000   \n",
       "798760918            2.0          689.0000                      0.0000   \n",
       "798856982          129.0         3367.0413                      0.0014   \n",
       "\n",
       "           GoogleAnalytics_ExitRate  GoogleAnalytics_PageValue  Date_month  \\\n",
       "Access_ID                                                                    \n",
       "798519314                    0.0654                     0.0000           8   \n",
       "798663101                    0.0058                     0.0000           5   \n",
       "798663221                    0.0250                     0.0000          11   \n",
       "798760918                    0.1000                     0.0000           5   \n",
       "798856982                    0.0185                     1.0353          11   \n",
       "\n",
       "           ...  x1_3  x1_4  x1_5  x1_6  x1_8  x1_10  x1_11  x1_13  x1_15  \\\n",
       "Access_ID  ...                                                             \n",
       "798519314  ...   0.0   0.0   0.0   0.0   0.0    0.0    0.0    0.0    0.0   \n",
       "798663101  ...   0.0   1.0   0.0   0.0   0.0    0.0    0.0    0.0    0.0   \n",
       "798663221  ...   1.0   0.0   0.0   0.0   0.0    0.0    0.0    0.0    0.0   \n",
       "798760918  ...   0.0   0.0   0.0   0.0   0.0    0.0    0.0    0.0    0.0   \n",
       "798856982  ...   0.0   0.0   0.0   0.0   0.0    1.0    0.0    0.0    0.0   \n",
       "\n",
       "           x2_Returner  \n",
       "Access_ID               \n",
       "798519314          1.0  \n",
       "798663101          1.0  \n",
       "798663221          1.0  \n",
       "798760918          0.0  \n",
       "798856982          1.0  \n",
       "\n",
       "[5 rows x 34 columns]"
      ]
     },
     "execution_count": 116,
     "metadata": {},
     "output_type": "execute_result"
    }
   ],
   "source": [
    "# # transform categorical variables into dummies in the test dataset\n",
    "df_ohc_t = website_test.copy()\n",
    "\n",
    "ohc = OneHotEncoder(sparse=False, drop=\"first\")\n",
    "ohc_feat = ohc.fit_transform(df_ohc_t[['OS', 'Type_of_Traffic', 'Type_of_Visitor']])\n",
    "ohc_feat_names = ohc.get_feature_names()\n",
    "ohc_df_t = pd.DataFrame(ohc_feat, index=df_ohc_t.index, columns=ohc_feat_names)  # Why the index=df_ohc.index?\n",
    "\n",
    "df_ohc_t = pd.concat([df_ohc_t.drop(columns=categorical_features), ohc_df_t], axis=1)\n",
    "\n",
    "df_ohc_t.head()"
   ]
  },
  {
   "cell_type": "markdown",
   "id": "fa170fd1",
   "metadata": {},
   "source": [
    "\n",
    "# 6. Model Selection\n",
    "    \n"
   ]
  },
  {
   "cell_type": "markdown",
   "id": "75a74a62",
   "metadata": {},
   "source": [
    "\n",
    "### Data Partition\n",
    "    \n"
   ]
  },
  {
   "cell_type": "code",
   "execution_count": 117,
   "id": "8b28ec13",
   "metadata": {},
   "outputs": [],
   "source": [
    "X = df_ohc.drop(\"Buy\", axis = 1)\n",
    "y = df_ohc[\"Buy\"]\n",
    "\n",
    "X_test = df_ohc_t\n",
    "\n",
    "X_train, X_val, y_train, y_val = train_test_split(X, y, test_size = 0.3, random_state = 5, stratify = y, shuffle = True)"
   ]
  },
  {
   "cell_type": "markdown",
   "id": "75d040e1",
   "metadata": {},
   "source": [
    "\n",
    "### Data Scaling\n",
    "    \n"
   ]
  },
  {
   "cell_type": "markdown",
   "id": "d84844ab",
   "metadata": {},
   "source": [
    "\n",
    "### A) MinMax Scaler\n",
    "    \n"
   ]
  },
  {
   "cell_type": "code",
   "execution_count": 118,
   "id": "76c984ba",
   "metadata": {},
   "outputs": [],
   "source": [
    "min_max = MinMaxScaler().fit(X_train)\n",
    "\n",
    "min_max_X_train = pd.DataFrame(min_max.transform(X_train), columns = X_train.columns)\n",
    "min_max_X_val = pd.DataFrame(min_max.transform(X_val), columns = X_val.columns)\n",
    "\n",
    "\n",
    "min_max = MinMaxScaler().fit(X)\n",
    "\n",
    "min_max_X = pd.DataFrame(min_max.transform(X), columns = X.columns)\n",
    "min_max_X_test = pd.DataFrame(min_max.transform(X_test), columns = X_test.columns)"
   ]
  },
  {
   "cell_type": "markdown",
   "id": "cb14da03",
   "metadata": {},
   "source": [
    "\n",
    "### B) Standard Scaler\n",
    "    \n"
   ]
  },
  {
   "cell_type": "code",
   "execution_count": 119,
   "id": "d592e992",
   "metadata": {},
   "outputs": [],
   "source": [
    "std_scaler = StandardScaler().fit(X_train)\n",
    "\n",
    "std_scaler_X_train = pd.DataFrame(std_scaler.transform(X_train), columns = X_train.columns)\n",
    "std_scaler_X_val = pd.DataFrame(std_scaler.transform(X_val), columns = X_val.columns)\n",
    "\n",
    "std_scaler = StandardScaler().fit(X)\n",
    "\n",
    "std_scaler_X = pd.DataFrame(std_scaler.transform(X), columns = X.columns)\n",
    "std_scaler_X_test = pd.DataFrame(std_scaler.transform(X_test), columns = X_test.columns)"
   ]
  },
  {
   "cell_type": "markdown",
   "id": "c12dac9e",
   "metadata": {},
   "source": [
    "\n",
    "\n",
    "### C) Robust Scaler\n",
    "    \n"
   ]
  },
  {
   "cell_type": "code",
   "execution_count": 120,
   "id": "908c0ac4",
   "metadata": {},
   "outputs": [],
   "source": [
    "robust = RobustScaler().fit(X_train)\n",
    "\n",
    "robust_X_train = pd.DataFrame(robust.transform(X_train), columns = X_train.columns)\n",
    "robust_X_val = pd.DataFrame(robust.transform(X_val), columns = X_val.columns)\n",
    "\n",
    "robust = RobustScaler().fit(X)\n",
    "\n",
    "robust_X = pd.DataFrame(robust.transform(X), columns = X.columns)\n",
    "robust_X_test = pd.DataFrame(robust.transform(X_test), columns = X_test.columns)"
   ]
  },
  {
   "cell_type": "markdown",
   "id": "1ab074d1",
   "metadata": {},
   "source": [
    "### Evaluate Model"
   ]
  },
  {
   "cell_type": "code",
   "execution_count": 121,
   "id": "c6e721c1",
   "metadata": {},
   "outputs": [],
   "source": [
    "# function named as evaluate_model that receives as parameters the independent variables, \n",
    "# the dependent variable and the model and returns the f1 score method result\n",
    "\n",
    "def evaluate_model(X,y, model):\n",
    "    predictions = model.predict(X)  # f1_score(y, model.fit_predict(X))\n",
    "    return f1_score(y, predictions)"
   ]
  },
  {
   "cell_type": "markdown",
   "id": "3a75f58a",
   "metadata": {},
   "source": [
    "\n",
    "## 6.1. Logistic Regression"
   ]
  },
  {
   "cell_type": "code",
   "execution_count": 122,
   "id": "7b1f519e",
   "metadata": {},
   "outputs": [],
   "source": [
    "feat = ['AccountMng_Pages', 'GoogleAnalytics_ExitRate', 'GoogleAnalytics_PageValue',\n",
    "       'Date_month', 'AccountMng_Pages_only', 'Goal_Page', 'x0_MacOSX',\n",
    "       'x0_Windows', 'x0_iOS']\n",
    "\n",
    "mm_X_train_l = min_max_X_train[feat]\n",
    "mm_X_val_l = min_max_X_val[feat]\n",
    "mm_X_l = min_max_X[feat]\n",
    "\n",
    "ss_X_train_l = std_scaler_X_train[feat]\n",
    "ss_X_val_l = std_scaler_X_val[feat]\n",
    "ss_X_l = std_scaler_X[feat]\n",
    "\n",
    "r_X_train_l = robust_X_train[feat]\n",
    "r_X_val_l = robust_X_val[feat]\n",
    "\n",
    "ss_X_test_l = std_scaler_X_test[feat]\n",
    "mm_X_test_l = min_max_X_test[feat]"
   ]
  },
  {
   "cell_type": "code",
   "execution_count": 123,
   "id": "a5a23b7b",
   "metadata": {
    "scrolled": true
   },
   "outputs": [
    {
     "name": "stdout",
     "output_type": "stream",
     "text": [
      "Train: 0.6410767696909272\n",
      "Val: 0.6422018348623852\n"
     ]
    }
   ],
   "source": [
    "# with min max scaler\n",
    "\n",
    "mm_l = LogisticRegression().fit(mm_X_train_l, y_train)\n",
    "print('Train: ' + str(evaluate_model(mm_X_train_l, y_train, mm_l)) + '\\n' + 'Val: ' + str(evaluate_model(mm_X_val_l, y_val, mm_l)))"
   ]
  },
  {
   "cell_type": "code",
   "execution_count": 124,
   "id": "d0de940d",
   "metadata": {},
   "outputs": [
    {
     "name": "stdout",
     "output_type": "stream",
     "text": [
      "Train: 0.6429644466700051\n",
      "Val: 0.6473988439306358\n"
     ]
    }
   ],
   "source": [
    "# with standard scaler\n",
    "\n",
    "ss_l = LogisticRegression().fit(ss_X_train_l, y_train)\n",
    "print('Train: ' + str(evaluate_model(ss_X_train_l, y_train, ss_l)) + '\\n' + 'Val: ' + str(evaluate_model(ss_X_val_l, y_val, ss_l)))"
   ]
  },
  {
   "cell_type": "code",
   "execution_count": 125,
   "id": "4a4687d3",
   "metadata": {},
   "outputs": [
    {
     "data": {
      "text/plain": [
       "0.9011181109744157"
      ]
     },
     "execution_count": 125,
     "metadata": {},
     "output_type": "execute_result"
    }
   ],
   "source": [
    "roc_auc_score(y_val, ss_l.predict_proba(ss_X_val_l)[:, 1])"
   ]
  },
  {
   "cell_type": "code",
   "execution_count": 126,
   "id": "b13ab6c9",
   "metadata": {},
   "outputs": [],
   "source": [
    "f1_lr = f1_score(y_val, ss_l.predict(ss_X_val_l))"
   ]
  },
  {
   "cell_type": "code",
   "execution_count": 127,
   "id": "8ae52e02",
   "metadata": {},
   "outputs": [
    {
     "name": "stdout",
     "output_type": "stream",
     "text": [
      "Train: 0.6397984886649873\n",
      "Val: 0.6427745664739885\n"
     ]
    }
   ],
   "source": [
    "# with robust scaler\n",
    "\n",
    "r_l = LogisticRegression().fit(r_X_train_l, y_train)\n",
    "print('Train: ' + str(evaluate_model(r_X_train_l, y_train, r_l)) + '\\n' + 'Val: ' + str(evaluate_model(r_X_val_l, y_val, r_l)))"
   ]
  },
  {
   "cell_type": "markdown",
   "id": "baf2e967",
   "metadata": {},
   "source": [
    "## 6.2. Naive Bayes"
   ]
  },
  {
   "cell_type": "code",
   "execution_count": 128,
   "id": "13988f0c",
   "metadata": {},
   "outputs": [],
   "source": [
    "feat = ['GoogleAnalytics_BounceRate', 'GoogleAnalytics_ExitRate', \n",
    "        'GoogleAnalytics_PageValue', 'Goal_Page', 'x0_MacOSX', 'x0_Windows', \n",
    "        'x0_iOS', 'x2_Returner']\n",
    "\n",
    "X_train_nb = X_train[feat]\n",
    "X_val_nb = X_val[feat]\n",
    "\n",
    "X_nb = X[feat]\n",
    "\n",
    "X_test_nb = X_test[feat]"
   ]
  },
  {
   "cell_type": "code",
   "execution_count": 129,
   "id": "570d3c5d",
   "metadata": {},
   "outputs": [
    {
     "name": "stdout",
     "output_type": "stream",
     "text": [
      "Train: 0.6690590111642742\n",
      "Val: 0.6482504604051565\n"
     ]
    }
   ],
   "source": [
    "# it's not distance based so the data doesn't need to be scaled\n",
    "nb = GaussianNB().fit(X_train_nb, y_train)\n",
    "print('Train: ' + str(evaluate_model(X_train_nb, y_train, nb)) + '\\n' + 'Val: ' + str(evaluate_model(X_val_nb, y_val, nb)))"
   ]
  },
  {
   "cell_type": "code",
   "execution_count": 130,
   "id": "5c05effd",
   "metadata": {},
   "outputs": [
    {
     "data": {
      "text/plain": [
       "0.8819496098286219"
      ]
     },
     "execution_count": 130,
     "metadata": {},
     "output_type": "execute_result"
    }
   ],
   "source": [
    "roc_auc_score(y_val, nb.predict_proba(X_val_nb)[:, 1])"
   ]
  },
  {
   "cell_type": "code",
   "execution_count": 131,
   "id": "32d256ed",
   "metadata": {},
   "outputs": [],
   "source": [
    "f1_nb = f1_score(y_val, nb.predict(X_val_nb))"
   ]
  },
  {
   "cell_type": "markdown",
   "id": "e78f19a4",
   "metadata": {},
   "source": [
    "## 6.3. Instance Based Learning (KN Classifier)"
   ]
  },
  {
   "cell_type": "code",
   "execution_count": 132,
   "id": "bf3c5320",
   "metadata": {},
   "outputs": [],
   "source": [
    "feat = ['Product_Pages', 'GoogleAnalytics_ExitRate', 'GoogleAnalytics_PageValue', 'Date_month',\n",
    "       'Goal_Page']\n",
    "\n",
    "mm_X_train_kn = min_max_X_train[feat]\n",
    "mm_X_val_kn = min_max_X_val[feat]\n",
    "mm_X_kn = min_max_X[feat]\n",
    "\n",
    "ss_X_train_kn = std_scaler_X_train[feat]\n",
    "ss_X_val_kn = std_scaler_X_val[feat]\n",
    "\n",
    "r_X_train_kn = robust_X_train[feat]\n",
    "r_X_val_kn = robust_X_val[feat]\n",
    "\n",
    "mm_X_test_kn = min_max_X_test[feat]"
   ]
  },
  {
   "cell_type": "code",
   "execution_count": 133,
   "id": "75df9413",
   "metadata": {},
   "outputs": [
    {
     "name": "stdout",
     "output_type": "stream",
     "text": [
      "Best number of neighbors: 31\n",
      "Mean f1 score in train with 31 neighbors: 0.674615\n",
      "Mean f1 score in validation with 31 neighbors: 0.652124\n"
     ]
    }
   ],
   "source": [
    "# for min max scaled data\n",
    "# see the number of neighbors that we will use\n",
    "\n",
    "numberK_list=np.arange(1,40)\n",
    "high_score=0\n",
    "nof=0           \n",
    "score_list_train =[]\n",
    "score_list_val =[]\n",
    "for n in numberK_list:\n",
    "    model = KNeighborsClassifier(n_neighbors = n).fit(mm_X_train_kn, y_train)\n",
    "    \n",
    "    y_pred_train = model.predict(mm_X_train_kn)\n",
    "    y_pred_val = model.predict(mm_X_val_kn)\n",
    "    \n",
    "    score_train = f1_score(y_train, y_pred_train)\n",
    "    score_val = f1_score(y_val, y_pred_val)\n",
    "    \n",
    "    score_list_train.append(score_train)\n",
    "    score_list_val.append(score_val)\n",
    "    \n",
    "    if(score_val>high_score):\n",
    "        high_score = score_val\n",
    "        nof = numberK_list[n-1]\n",
    "print(\"Best number of neighbors: %d\" %nof)\n",
    "print(\"Mean f1 score in train with %d neighbors: %f\" % (nof, score_list_train[nof-1]))\n",
    "print(\"Mean f1 score in validation with %d neighbors: %f\" % (nof, high_score))"
   ]
  },
  {
   "cell_type": "code",
   "execution_count": 134,
   "id": "1d982db6",
   "metadata": {},
   "outputs": [
    {
     "name": "stdout",
     "output_type": "stream",
     "text": [
      "Train: 0.674615002483855\n",
      "Val: 0.6521239954075776\n"
     ]
    }
   ],
   "source": [
    "kn_mm = KNeighborsClassifier(n_neighbors = 31).fit(mm_X_train_kn, y_train)\n",
    "print('Train: ' + str(evaluate_model(mm_X_train_kn, y_train, kn_mm)) + '\\n' + 'Val: ' + str(evaluate_model(mm_X_val_kn, y_val, kn_mm)))"
   ]
  },
  {
   "cell_type": "code",
   "execution_count": 135,
   "id": "95b5d9d5",
   "metadata": {},
   "outputs": [
    {
     "data": {
      "text/plain": [
       "0.9195631389537233"
      ]
     },
     "execution_count": 135,
     "metadata": {},
     "output_type": "execute_result"
    }
   ],
   "source": [
    "roc_auc_score(y_val, kn_mm.predict_proba(mm_X_val_kn)[:, 1])"
   ]
  },
  {
   "cell_type": "code",
   "execution_count": 136,
   "id": "c208f0fa",
   "metadata": {},
   "outputs": [],
   "source": [
    "f1_kn = f1_score(y_val, kn_mm.predict(mm_X_val_kn))"
   ]
  },
  {
   "cell_type": "code",
   "execution_count": 137,
   "id": "23c31b6a",
   "metadata": {},
   "outputs": [
    {
     "name": "stdout",
     "output_type": "stream",
     "text": [
      "Best number of neighbors: 25\n",
      "Mean f1 score in train with 25 neighbors: 0.665333\n",
      "Mean f1 score in validation with 25 neighbors: 0.659013\n"
     ]
    }
   ],
   "source": [
    "# for standard scaled data\n",
    "# see the number of neighbors that we will use\n",
    "\n",
    "numberK_list=np.arange(1,40)\n",
    "high_score=0\n",
    "nof=0           \n",
    "score_list_train =[]\n",
    "score_list_val =[]\n",
    "for n in numberK_list:\n",
    "    model = KNeighborsClassifier(n_neighbors = n).fit(ss_X_train_kn, y_train)\n",
    "    \n",
    "    y_pred_train = model.predict(ss_X_train_kn)\n",
    "    y_pred_val = model.predict(ss_X_val_kn)\n",
    "    \n",
    "    score_train = f1_score(y_train, y_pred_train)\n",
    "    score_val = f1_score(y_val, y_pred_val)\n",
    "    \n",
    "    score_list_train.append(score_train)\n",
    "    score_list_val.append(score_val)\n",
    "    \n",
    "    if(score_val>high_score):\n",
    "        high_score = score_val\n",
    "        nof = numberK_list[n-1]\n",
    "print(\"Best number of neighbors: %d\" %nof)\n",
    "print(\"Mean f1 score in train with %d neighbors: %f\" % (nof, score_list_train[nof-1]))\n",
    "print(\"Mean f1 score in validation with %d neighbors: %f\" % (nof, high_score))"
   ]
  },
  {
   "cell_type": "code",
   "execution_count": 138,
   "id": "eb8a5d37",
   "metadata": {},
   "outputs": [
    {
     "name": "stdout",
     "output_type": "stream",
     "text": [
      "Train: 0.6653326663331666\n",
      "Val: 0.6590126291618829\n"
     ]
    }
   ],
   "source": [
    "kn_ss = KNeighborsClassifier(n_neighbors = 25).fit(ss_X_train_kn, y_train)\n",
    "print('Train: ' + str(evaluate_model(ss_X_train_kn, y_train, kn_ss)) + '\\n' + 'Val: ' + str(evaluate_model(ss_X_val_kn, y_val, kn_ss)))"
   ]
  },
  {
   "cell_type": "code",
   "execution_count": 139,
   "id": "6badc648",
   "metadata": {},
   "outputs": [
    {
     "name": "stdout",
     "output_type": "stream",
     "text": [
      "Best number of neighbors: 21\n",
      "Mean f1 score in train with 21 neighbors: 0.651777\n",
      "Mean f1 score in validation with 21 neighbors: 0.657895\n"
     ]
    }
   ],
   "source": [
    "# for robust scaled data\n",
    "# see the number of neighbors that we will use\n",
    "\n",
    "numberK_list=np.arange(1,40)\n",
    "high_score=0\n",
    "nof=0           \n",
    "score_list_train =[]\n",
    "score_list_val =[]\n",
    "for n in numberK_list:\n",
    "    model = KNeighborsClassifier(n_neighbors = n).fit(r_X_train_kn, y_train)\n",
    "    \n",
    "    y_pred_train = model.predict(r_X_train_kn)\n",
    "    y_pred_val = model.predict(r_X_val_kn)\n",
    "    \n",
    "    score_train = f1_score(y_train, y_pred_train)\n",
    "    score_val = f1_score(y_val, y_pred_val)\n",
    "    \n",
    "    score_list_train.append(score_train)\n",
    "    score_list_val.append(score_val)\n",
    "    \n",
    "    if(score_val>high_score):\n",
    "        high_score = score_val\n",
    "        nof = numberK_list[n-1]\n",
    "print(\"Best number of neighbors: %d\" %nof)\n",
    "print(\"Mean f1 score in train with %d neighbors: %f\" % (nof, score_list_train[nof-1]))\n",
    "print(\"Mean f1 score in validation with %d neighbors: %f\" % (nof, high_score))"
   ]
  },
  {
   "cell_type": "code",
   "execution_count": 140,
   "id": "d73af7a5",
   "metadata": {},
   "outputs": [
    {
     "name": "stdout",
     "output_type": "stream",
     "text": [
      "Train: 0.6517766497461929\n",
      "Val: 0.6578947368421052\n"
     ]
    }
   ],
   "source": [
    "kn_r = KNeighborsClassifier(n_neighbors = 21).fit(r_X_train_kn, y_train)\n",
    "print('Train: ' + str(evaluate_model(r_X_train_kn, y_train, kn_r)) + '\\n' + 'Val: ' + str(evaluate_model(r_X_val_kn, y_val, kn_r)))"
   ]
  },
  {
   "cell_type": "markdown",
   "id": "2c7cc3df",
   "metadata": {},
   "source": [
    "## 6.4. Decision Trees Classifier"
   ]
  },
  {
   "cell_type": "code",
   "execution_count": 141,
   "id": "cc393bd5",
   "metadata": {},
   "outputs": [],
   "source": [
    "feat = ['Product_Pages', 'Product_Duration', 'GoogleAnalytics_BounceRate',\n",
    "       'GoogleAnalytics_ExitRate', 'GoogleAnalytics_PageValue', 'Date_month']\n",
    "\n",
    "X_train_dt = X_train[feat]\n",
    "X_val_dt = X_val[feat]"
   ]
  },
  {
   "cell_type": "code",
   "execution_count": 142,
   "id": "6c2ce9b5",
   "metadata": {},
   "outputs": [],
   "source": [
    "dt=DecisionTreeClassifier(random_state = 56,max_leaf_nodes = 2).fit(X_train_dt, y_train)\n"
   ]
  },
  {
   "cell_type": "code",
   "execution_count": 143,
   "id": "a3762d21",
   "metadata": {},
   "outputs": [],
   "source": [
    "dt=DecisionTreeClassifier(random_state = 56, criterion = 'entropy', max_leaf_nodes = 2).fit(X_train_dt, y_train)"
   ]
  },
  {
   "cell_type": "code",
   "execution_count": 144,
   "id": "60499a22",
   "metadata": {},
   "outputs": [
    {
     "name": "stdout",
     "output_type": "stream",
     "text": [
      "Train: 0.6666666666666667\n",
      "Val: 0.6485507246376812\n"
     ]
    }
   ],
   "source": [
    "print('Train: ' + str(evaluate_model(X_train_dt, y_train, dt)) + '\\n' + 'Val: ' + str(evaluate_model(X_val_dt, y_val, dt)))"
   ]
  },
  {
   "cell_type": "code",
   "execution_count": 145,
   "id": "67ba7ab2",
   "metadata": {},
   "outputs": [
    {
     "data": {
      "text/plain": [
       "0.8380605258712412"
      ]
     },
     "execution_count": 145,
     "metadata": {},
     "output_type": "execute_result"
    }
   ],
   "source": [
    "roc_auc_score(y_val, dt.predict_proba(X_val_dt)[:, 1])"
   ]
  },
  {
   "cell_type": "code",
   "execution_count": 146,
   "id": "26ff4481",
   "metadata": {},
   "outputs": [],
   "source": [
    "f1_dt = f1_score(y_val, dt.predict(X_val_dt))"
   ]
  },
  {
   "cell_type": "markdown",
   "id": "35b5f83b",
   "metadata": {},
   "source": [
    "## 6.5. Neural Networks (MLP Classifier)"
   ]
  },
  {
   "cell_type": "code",
   "execution_count": 147,
   "id": "65cfd1bd",
   "metadata": {},
   "outputs": [],
   "source": [
    "feat = ['AccountMng_Pages',\n",
    "       'Product_Duration', \n",
    "       'GoogleAnalytics_ExitRate', 'GoogleAnalytics_PageValue', 'Date_month',\n",
    "       'Goal_Page', 'x0_MacOSX',\n",
    "       'x0_Windows', 'x0_iOS']\n",
    "\n",
    "mm_X_train_nn = min_max_X_train[feat]\n",
    "mm_X_val_nn = min_max_X_val[feat]\n",
    "mm_X_nn = min_max_X[feat]\n",
    "\n",
    "ss_X_train_nn = std_scaler_X_train[feat]\n",
    "ss_X_val_nn = std_scaler_X_val[feat]\n",
    "ss_X_nn = std_scaler_X[feat]\n",
    "\n",
    "r_X_train_nn = robust_X_train[feat]\n",
    "r_X_val_nn = robust_X_val[feat]\n",
    "r_X_nn = robust_X[feat]\n",
    "\n",
    "mm_X_test_nn = min_max_X_test[feat]\n",
    "ss_X_test_nn = std_scaler_X_test[feat]\n",
    "r_X_test_nn = robust_X_test[feat]"
   ]
  },
  {
   "cell_type": "code",
   "execution_count": 148,
   "id": "2a5851ad",
   "metadata": {},
   "outputs": [],
   "source": [
    "nn_mm = MLPClassifier(random_state = 56).fit(mm_X_train_nn, y_train)"
   ]
  },
  {
   "cell_type": "code",
   "execution_count": 149,
   "id": "aef71e9c",
   "metadata": {},
   "outputs": [
    {
     "name": "stdout",
     "output_type": "stream",
     "text": [
      "Train: 0.684971098265896\n",
      "Val: 0.6742081447963801\n"
     ]
    }
   ],
   "source": [
    "print('Train: ' + str(evaluate_model(mm_X_train_nn, y_train, nn_mm)) + '\\n' + 'Val: ' + str(evaluate_model(mm_X_val_nn, y_val, nn_mm)))"
   ]
  },
  {
   "cell_type": "code",
   "execution_count": 150,
   "id": "4e14b51b",
   "metadata": {},
   "outputs": [
    {
     "data": {
      "text/plain": [
       "0.9229545299768188"
      ]
     },
     "execution_count": 150,
     "metadata": {},
     "output_type": "execute_result"
    }
   ],
   "source": [
    "roc_auc_score(y_val, nn_mm.predict_proba(mm_X_val_nn)[:, 1])"
   ]
  },
  {
   "cell_type": "code",
   "execution_count": 151,
   "id": "d460df3f",
   "metadata": {},
   "outputs": [],
   "source": [
    "f1_mlp = f1_score(y_val, nn_mm.predict(mm_X_val_nn))"
   ]
  },
  {
   "cell_type": "code",
   "execution_count": 152,
   "id": "466a5fbe",
   "metadata": {},
   "outputs": [],
   "source": [
    "nn_ss = MLPClassifier(random_state=56).fit(ss_X_train_nn, y_train)"
   ]
  },
  {
   "cell_type": "code",
   "execution_count": 153,
   "id": "13a4f276",
   "metadata": {},
   "outputs": [
    {
     "name": "stdout",
     "output_type": "stream",
     "text": [
      "Train: 0.699853587115666\n",
      "Val: 0.6620370370370371\n"
     ]
    }
   ],
   "source": [
    "print('Train: ' + str(evaluate_model(ss_X_train_nn, y_train, nn_ss)) + '\\n' + 'Val: ' + str(evaluate_model(ss_X_val_nn, y_val, nn_ss)))"
   ]
  },
  {
   "cell_type": "code",
   "execution_count": 154,
   "id": "1fe481cb",
   "metadata": {},
   "outputs": [],
   "source": [
    "nn_r = MLPClassifier(random_state=56).fit(r_X_train_nn, y_train)"
   ]
  },
  {
   "cell_type": "code",
   "execution_count": 155,
   "id": "4161a52d",
   "metadata": {},
   "outputs": [
    {
     "name": "stdout",
     "output_type": "stream",
     "text": [
      "Train: 0.6523605150214593\n",
      "Val: 0.6285714285714287\n"
     ]
    }
   ],
   "source": [
    "print('Train: ' + str(evaluate_model(r_X_train_nn, y_train, nn_r)) + '\\n' + 'Val: ' + str(evaluate_model(r_X_val_nn, y_val, nn_r)))"
   ]
  },
  {
   "cell_type": "markdown",
   "id": "c3d40453",
   "metadata": {},
   "source": [
    "## 6.6. AdaBoost Classifier"
   ]
  },
  {
   "cell_type": "code",
   "execution_count": 156,
   "id": "8e001ce5",
   "metadata": {},
   "outputs": [],
   "source": [
    "feat= ['Product_Duration', 'GoogleAnalytics_BounceRate',\n",
    "       'GoogleAnalytics_ExitRate', 'GoogleAnalytics_PageValue', 'Date_month',\n",
    "       'Total_Pages', 'Total_Duration', 'Goal_Page', 'x0_MacOSX',\n",
    "       'x0_Windows', 'x0_iOS', 'x2_Returner']\n",
    "\n",
    "X_train_ab = X_train[feat]\n",
    "X_val_ab = X_val[feat]\n",
    "\n",
    "X_ab = X[feat]\n",
    "\n",
    "X_test_ab = X_test[feat]"
   ]
  },
  {
   "cell_type": "code",
   "execution_count": 157,
   "id": "432de0ed",
   "metadata": {},
   "outputs": [],
   "source": [
    "ab = AdaBoostClassifier(random_state=56)"
   ]
  },
  {
   "cell_type": "code",
   "execution_count": 158,
   "id": "e4d0e02e",
   "metadata": {},
   "outputs": [],
   "source": [
    "params= {'learning_rate':list(np.linspace(0.1, 0.9, 9, endpoint=True)),\n",
    "         'n_estimators':list(range(1,20))}"
   ]
  },
  {
   "cell_type": "code",
   "execution_count": 159,
   "id": "2d30cf85",
   "metadata": {},
   "outputs": [],
   "source": [
    "#grid_ab = GridSearchCV(estimator = ab, param_grid = params, n_jobs = -1, scoring = 'f1')\n",
    "#grid_ab.fit(X_ab, y)"
   ]
  },
  {
   "cell_type": "code",
   "execution_count": 160,
   "id": "5bd70d30",
   "metadata": {},
   "outputs": [],
   "source": [
    "#grid_ab.best_params_"
   ]
  },
  {
   "cell_type": "code",
   "execution_count": 161,
   "id": "e8a39aa9",
   "metadata": {},
   "outputs": [
    {
     "name": "stdout",
     "output_type": "stream",
     "text": [
      "Train: 0.6672019269369731\n",
      "Val: 0.6494464944649447\n"
     ]
    }
   ],
   "source": [
    "ab = AdaBoostClassifier(n_estimators = 3, learning_rate = 0.1, random_state = 56).fit(X_train_ab, y_train)\n",
    "print('Train: ' + str(evaluate_model(X_train_ab, y_train, ab)) + '\\n' + 'Val: ' + str(evaluate_model(X_val_ab, y_val, ab)))"
   ]
  },
  {
   "cell_type": "code",
   "execution_count": 162,
   "id": "15d16ff8",
   "metadata": {},
   "outputs": [
    {
     "data": {
      "text/plain": [
       "0.8394942055813567"
      ]
     },
     "execution_count": 162,
     "metadata": {},
     "output_type": "execute_result"
    }
   ],
   "source": [
    "roc_auc_score(y_val, ab.predict_proba(X_val_ab)[:, 1])"
   ]
  },
  {
   "cell_type": "code",
   "execution_count": 163,
   "id": "ae98787b",
   "metadata": {},
   "outputs": [],
   "source": [
    "f1_ab = f1_score(y_val, ab.predict(X_val_ab))"
   ]
  },
  {
   "cell_type": "markdown",
   "id": "2a7c89e9",
   "metadata": {},
   "source": [
    "## 6.7. Gradient Boosting"
   ]
  },
  {
   "cell_type": "code",
   "execution_count": 164,
   "id": "eb5ca9c1",
   "metadata": {},
   "outputs": [],
   "source": [
    "feat = ['Product_Pages', 'Product_Duration', 'GoogleAnalytics_BounceRate',\n",
    "       'GoogleAnalytics_ExitRate', 'GoogleAnalytics_PageValue', 'Date_month',\n",
    "       'Total_Pages', 'Total_Duration','x0_MacOSX',\n",
    "       'x0_Windows', 'x0_iOS', 'x1_2', 'x1_3', 'x1_4', 'x1_5', 'x1_6', 'x1_8',\n",
    "       'x1_10', 'x1_11', 'x1_13', 'x1_15', 'x2_Returner']\n",
    "\n",
    "\n",
    "X_train_gb = X_train[feat]\n",
    "X_val_gb = X_val[feat]\n",
    "\n",
    "X_gb = X[feat]\n",
    "\n",
    "X_test_gb = X_test[feat]"
   ]
  },
  {
   "cell_type": "code",
   "execution_count": 165,
   "id": "15daf26e",
   "metadata": {},
   "outputs": [],
   "source": [
    "gb = GradientBoostingClassifier(random_state=56)"
   ]
  },
  {
   "cell_type": "code",
   "execution_count": 166,
   "id": "4da8ea8e",
   "metadata": {},
   "outputs": [],
   "source": [
    "params= {'learning_rate':[0.7, 0.8, 0.9, 1.0],\n",
    "        'n_estimators':[2,5,10,15,20],\n",
    "        'subsample':[0.6,0.8,0.9,1.0],\n",
    "        'max_features':[2,0.5,'sqrt','log2',None],\n",
    "        'min_samples_split':[2,3,4]\n",
    "        }"
   ]
  },
  {
   "cell_type": "code",
   "execution_count": 167,
   "id": "0d2f18ce",
   "metadata": {},
   "outputs": [],
   "source": [
    "#grid_gb = GridSearchCV(estimator = gb, param_grid = params, n_jobs = -1, scoring = 'f1')\n",
    "#grid_gb.fit(X_gb, y)"
   ]
  },
  {
   "cell_type": "code",
   "execution_count": 168,
   "id": "66552556",
   "metadata": {},
   "outputs": [],
   "source": [
    "#grid_gb.best_params_"
   ]
  },
  {
   "cell_type": "code",
   "execution_count": 169,
   "id": "17574438",
   "metadata": {},
   "outputs": [],
   "source": [
    "gb = GradientBoostingClassifier(learning_rate = 0.7, max_features = 0.5, min_samples_split = 2, n_estimators = 2, subsample =0.8, random_state=56).fit(X_train_gb, y_train)"
   ]
  },
  {
   "cell_type": "code",
   "execution_count": 170,
   "id": "205e5d68",
   "metadata": {},
   "outputs": [
    {
     "name": "stdout",
     "output_type": "stream",
     "text": [
      "Train: 0.6802463287541449\n",
      "Val: 0.6415094339622642\n"
     ]
    }
   ],
   "source": [
    "print('Train: ' + str(evaluate_model(X_train_gb, y_train, gb)) + '\\n' + 'Val: ' + str(evaluate_model(X_val_gb, y_val, gb)))"
   ]
  },
  {
   "cell_type": "code",
   "execution_count": 171,
   "id": "5ac1bef4",
   "metadata": {},
   "outputs": [
    {
     "data": {
      "text/plain": [
       "0.9034304833384484"
      ]
     },
     "execution_count": 171,
     "metadata": {},
     "output_type": "execute_result"
    }
   ],
   "source": [
    "roc_auc_score(y_val, gb.predict_proba(X_val_gb)[:, 1])"
   ]
  },
  {
   "cell_type": "code",
   "execution_count": 172,
   "id": "9ed0ae53",
   "metadata": {},
   "outputs": [],
   "source": [
    "f1_gb = f1_score(y_val, gb.predict(X_val_gb))"
   ]
  },
  {
   "cell_type": "markdown",
   "id": "2ea81cd3",
   "metadata": {},
   "source": [
    "## 6.8. Random Forest Classifier"
   ]
  },
  {
   "cell_type": "code",
   "execution_count": 173,
   "id": "08a7c3aa",
   "metadata": {},
   "outputs": [],
   "source": [
    "feat=['Product_Duration', \n",
    "       'GoogleAnalytics_ExitRate', 'GoogleAnalytics_PageValue', 'Date_month',\n",
    "       'Total_Pages', 'Goal_Page', 'x1_2', 'x1_3', 'x1_4', 'x1_5', 'x1_6', 'x1_8',\n",
    "       'x1_10', 'x1_11', 'x1_13', 'x1_15']\n",
    "\n",
    "X_train_rf = X_train[feat]\n",
    "X_val_rf = X_val[feat]\n",
    "X_rf = X[feat]\n",
    "\n",
    "X_test_rf = X_test[feat]"
   ]
  },
  {
   "cell_type": "code",
   "execution_count": 174,
   "id": "4626d9dd",
   "metadata": {},
   "outputs": [],
   "source": [
    "rf = RandomForestClassifier(n_estimators = 40, max_depth = 6,random_state=56).fit(X_train_rf, y_train)"
   ]
  },
  {
   "cell_type": "code",
   "execution_count": 175,
   "id": "e1eadba3",
   "metadata": {},
   "outputs": [
    {
     "name": "stdout",
     "output_type": "stream",
     "text": [
      "Train: 0.701844262295082\n",
      "Val: 0.6778443113772455\n"
     ]
    }
   ],
   "source": [
    "print('Train: ' + str(evaluate_model(X_train_rf, y_train, rf)) + '\\n' + 'Val: ' + str(evaluate_model(X_val_rf, y_val, rf)))"
   ]
  },
  {
   "cell_type": "code",
   "execution_count": 176,
   "id": "520db525",
   "metadata": {},
   "outputs": [
    {
     "data": {
      "text/plain": [
       "0.9266590132993472"
      ]
     },
     "execution_count": 176,
     "metadata": {},
     "output_type": "execute_result"
    }
   ],
   "source": [
    "roc_auc_score(y_val, rf.predict_proba(X_val_rf)[:, 1])"
   ]
  },
  {
   "cell_type": "code",
   "execution_count": 177,
   "id": "a1d43027",
   "metadata": {},
   "outputs": [],
   "source": [
    "f1_rf = f1_score(y_val, rf.predict(X_val_rf))"
   ]
  },
  {
   "cell_type": "markdown",
   "id": "aad6816a",
   "metadata": {},
   "source": [
    "## 6.9. Bagging Classifier"
   ]
  },
  {
   "cell_type": "code",
   "execution_count": 178,
   "id": "ebcd2376",
   "metadata": {},
   "outputs": [],
   "source": [
    "feat = ['Product_Pages', 'GoogleAnalytics_ExitRate', 'GoogleAnalytics_PageValue', 'Date_month',\n",
    "       'Goal_Page']\n",
    "\n",
    "mm_X_train_kn = min_max_X_train[feat]\n",
    "mm_X_val_kn = min_max_X_val[feat]\n",
    "mm_X_kn = min_max_X[feat]\n",
    "\n",
    "mm_X_test_kn = min_max_X_test[feat]"
   ]
  },
  {
   "cell_type": "code",
   "execution_count": 179,
   "id": "aed7d94a",
   "metadata": {},
   "outputs": [],
   "source": [
    "knn = KNeighborsClassifier(n_neighbors = 31)\n"
   ]
  },
  {
   "cell_type": "code",
   "execution_count": 180,
   "id": "c042fdd0",
   "metadata": {},
   "outputs": [],
   "source": [
    "b_knn = BaggingClassifier(base_estimator = knn, random_state=56)"
   ]
  },
  {
   "cell_type": "code",
   "execution_count": 181,
   "id": "6fc78b5b",
   "metadata": {},
   "outputs": [],
   "source": [
    "params= {'bootstrap':[True, False],\n",
    "         'bootstrap_features':[True, False],\n",
    "         'n_estimators':[2,5,10,15,20],\n",
    "         'max_samples':[0.1,0.2,0.4,0.6,0.8,1.0],\n",
    "         'max_features':[0.1,0.2,0.4,0.6,0.8,1.0],\n",
    "         }"
   ]
  },
  {
   "cell_type": "code",
   "execution_count": 182,
   "id": "d3cd3866",
   "metadata": {},
   "outputs": [],
   "source": [
    "#grid_b_knn = GridSearchCV(estimator = b_knn, param_grid = params, n_jobs = -1, scoring = 'f1')\n",
    "#grid_b_knn.fit(mm_X_kn, y)"
   ]
  },
  {
   "cell_type": "code",
   "execution_count": 183,
   "id": "61f8e27e",
   "metadata": {},
   "outputs": [],
   "source": [
    "#grid_b_knn.best_params_"
   ]
  },
  {
   "cell_type": "code",
   "execution_count": 184,
   "id": "ee9842f3",
   "metadata": {},
   "outputs": [
    {
     "name": "stdout",
     "output_type": "stream",
     "text": [
      "Train: 0.6752411575562701\n",
      "Val: 0.6602357984994641\n"
     ]
    }
   ],
   "source": [
    "b_knn = BaggingClassifier(base_estimator = knn, bootstrap = True, bootstrap_features = False, n_estimators = 20, max_samples = 0.2, max_features = 1.0, random_state=56).fit(mm_X_train_kn, y_train)\n",
    "print('Train: ' + str(evaluate_model(mm_X_train_kn, y_train, b_knn)) + '\\n' + 'Val: ' + str(evaluate_model(mm_X_val_kn, y_val, b_knn)))"
   ]
  },
  {
   "cell_type": "code",
   "execution_count": 185,
   "id": "a135008a",
   "metadata": {},
   "outputs": [],
   "source": [
    "feat = ['AccountMng_Pages', 'GoogleAnalytics_ExitRate', 'GoogleAnalytics_PageValue',\n",
    "       'Date_month', 'AccountMng_Pages_only', 'Goal_Page', 'x0_MacOSX',\n",
    "       'x0_Windows', 'x0_iOS']\n",
    "\n",
    "mm_X_train_l = min_max_X_train[feat]\n",
    "mm_X_val_l = min_max_X_val[feat]\n",
    "mm_X_l = min_max_X[feat]\n",
    "\n",
    "mm_X_test_l = min_max_X_test[feat]"
   ]
  },
  {
   "cell_type": "code",
   "execution_count": 186,
   "id": "4593a62b",
   "metadata": {},
   "outputs": [],
   "source": [
    "lr = LogisticRegression()"
   ]
  },
  {
   "cell_type": "code",
   "execution_count": 187,
   "id": "aa2cd069",
   "metadata": {},
   "outputs": [],
   "source": [
    "b_lr = BaggingClassifier(base_estimator = lr, random_state=56)"
   ]
  },
  {
   "cell_type": "code",
   "execution_count": 188,
   "id": "0d6f330d",
   "metadata": {},
   "outputs": [],
   "source": [
    "#grid_b_lr = GridSearchCV(estimator = b_lr, param_grid = params, n_jobs = -1, scoring = 'f1')\n",
    "#grid_b_lr.fit(mm_X_l, y)"
   ]
  },
  {
   "cell_type": "code",
   "execution_count": 189,
   "id": "f99956eb",
   "metadata": {},
   "outputs": [],
   "source": [
    "#grid_b_lr.best_params_"
   ]
  },
  {
   "cell_type": "code",
   "execution_count": 190,
   "id": "4d75675c",
   "metadata": {},
   "outputs": [
    {
     "name": "stdout",
     "output_type": "stream",
     "text": [
      "Train: 0.6639344262295082\n",
      "Val: 0.6483050847457626\n"
     ]
    }
   ],
   "source": [
    "b_lr = BaggingClassifier(base_estimator = lr, bootstrap = False, bootstrap_features = False, n_estimators = 2, max_samples = 0.1, max_features = 0.8, random_state=56).fit(mm_X_train_l, y_train)\n",
    "print('Train: ' + str(evaluate_model(mm_X_train_l, y_train, b_lr)) + '\\n' + 'Val: ' + str(evaluate_model(mm_X_val_l, y_val, b_lr)))"
   ]
  },
  {
   "cell_type": "code",
   "execution_count": 191,
   "id": "7e4254f0",
   "metadata": {},
   "outputs": [],
   "source": [
    "feat=['Product_Duration', \n",
    "       'GoogleAnalytics_ExitRate', 'GoogleAnalytics_PageValue', 'Date_month',\n",
    "       'Total_Pages', 'Goal_Page', 'x1_2', 'x1_3', 'x1_4', 'x1_5', 'x1_6', 'x1_8',\n",
    "       'x1_10', 'x1_11', 'x1_13', 'x1_15']\n",
    "\n",
    "X_train_b_rf = X_train[feat]\n",
    "X_val_b_rf = X_val[feat]\n",
    "X_b_rf = X[feat]\n",
    "\n",
    "X_test_b_rf = X_test[feat]"
   ]
  },
  {
   "cell_type": "code",
   "execution_count": 192,
   "id": "bd010668",
   "metadata": {},
   "outputs": [],
   "source": [
    "rf = RandomForestClassifier(n_estimators = 20, max_depth = 5,random_state=56)"
   ]
  },
  {
   "cell_type": "code",
   "execution_count": 193,
   "id": "70665cf1",
   "metadata": {},
   "outputs": [],
   "source": [
    "b_rf = BaggingClassifier(base_estimator = rf,random_state=56).fit(X_train_b_rf, y_train)"
   ]
  },
  {
   "cell_type": "code",
   "execution_count": 194,
   "id": "ad46600e",
   "metadata": {},
   "outputs": [
    {
     "name": "stdout",
     "output_type": "stream",
     "text": [
      "Train: 0.6850152905198776\n",
      "Val: 0.6810035842293908\n"
     ]
    }
   ],
   "source": [
    "print('Train: ' + str(evaluate_model(X_train_b_rf, y_train, b_rf)) + '\\n' + 'Val: ' + str(evaluate_model(X_val_b_rf, y_val, b_rf)))"
   ]
  },
  {
   "cell_type": "code",
   "execution_count": 195,
   "id": "71497a58",
   "metadata": {},
   "outputs": [
    {
     "data": {
      "text/plain": [
       "0.9273196911176422"
      ]
     },
     "execution_count": 195,
     "metadata": {},
     "output_type": "execute_result"
    }
   ],
   "source": [
    "roc_auc_score(y_val, b_rf.predict_proba(X_val_b_rf)[:, 1])"
   ]
  },
  {
   "cell_type": "code",
   "execution_count": 196,
   "id": "e63ba5fa",
   "metadata": {},
   "outputs": [],
   "source": [
    "f1_bc = f1_score(y_val, b_rf.predict(X_val_b_rf))"
   ]
  },
  {
   "cell_type": "markdown",
   "id": "6d9cc2c0",
   "metadata": {},
   "source": [
    "## 6.10. Stacking Classifier"
   ]
  },
  {
   "cell_type": "code",
   "execution_count": 197,
   "id": "9a54d65d",
   "metadata": {},
   "outputs": [],
   "source": [
    "feat=['Product_Duration', \n",
    "       'GoogleAnalytics_ExitRate', 'GoogleAnalytics_PageValue', 'Date_month',\n",
    "       'Total_Pages', 'Goal_Page', 'x1_2', 'x1_3', 'x1_4', 'x1_5', 'x1_6', 'x1_8',\n",
    "       'x1_10', 'x1_11', 'x1_13', 'x1_15']\n",
    "X_train_sc = X_train[feat]\n",
    "X_val_sc = X_val[feat]\n",
    "\n",
    "X_sc = X[feat]\n",
    "X_test_sc = X_test[feat]"
   ]
  },
  {
   "cell_type": "code",
   "execution_count": 198,
   "id": "03eab4a0",
   "metadata": {},
   "outputs": [
    {
     "name": "stdout",
     "output_type": "stream",
     "text": [
      "Train: 0.6929212362911266\n",
      "Val: 0.6805555555555556\n"
     ]
    }
   ],
   "source": [
    "estimators1 = [('rf', RandomForestClassifier(n_estimators = 100, max_depth = 5,random_state=56)),('nb', GaussianNB())]\n",
    "sc1 = StackingClassifier(estimators=estimators1, final_estimator=RandomForestClassifier(n_estimators = 100, max_depth = 5,random_state=56)).fit(X_train_sc, y_train)\n",
    "\n",
    "print('Train: ' + str(evaluate_model(X_train_sc, y_train, sc1)) + '\\n' + 'Val: ' + str(evaluate_model(X_val_sc, y_val, sc1)))"
   ]
  },
  {
   "cell_type": "code",
   "execution_count": 199,
   "id": "410bd01e",
   "metadata": {},
   "outputs": [
    {
     "name": "stdout",
     "output_type": "stream",
     "text": [
      "Train: 0.6982005141388175\n",
      "Val: 0.6738095238095237\n"
     ]
    }
   ],
   "source": [
    "estimators2 = [('rf', RandomForestClassifier(n_estimators = 40, max_depth = 6,random_state=56)),('nb', GaussianNB())]\n",
    "sc2 = StackingClassifier(estimators=estimators2, final_estimator=RandomForestClassifier(n_estimators = 40, max_depth = 6,random_state=56)).fit(X_train_sc, y_train)\n",
    "\n",
    "print('Train: ' + str(evaluate_model(X_train_sc, y_train, sc2)) + '\\n' + 'Val: ' + str(evaluate_model(X_val_sc, y_val, sc2)))"
   ]
  },
  {
   "cell_type": "code",
   "execution_count": 200,
   "id": "906a8b11",
   "metadata": {},
   "outputs": [
    {
     "data": {
      "text/plain": [
       "0.9246769798444623"
      ]
     },
     "execution_count": 200,
     "metadata": {},
     "output_type": "execute_result"
    }
   ],
   "source": [
    "roc_auc_score(y_val, sc2.predict_proba(X_val_sc)[:, 1])"
   ]
  },
  {
   "cell_type": "code",
   "execution_count": 201,
   "id": "17d19a91",
   "metadata": {},
   "outputs": [],
   "source": [
    "f1_sc = f1_score(y_val, sc2.predict(X_val_sc))"
   ]
  },
  {
   "cell_type": "code",
   "execution_count": 202,
   "id": "166ca8ef",
   "metadata": {},
   "outputs": [
    {
     "name": "stdout",
     "output_type": "stream",
     "text": [
      "Train: 0.7133159268929503\n",
      "Val: 0.6755126658624849\n"
     ]
    }
   ],
   "source": [
    "estimators3 = [('rf', RandomForestClassifier(n_estimators = 40, max_depth = 6,random_state=56)),('gb', GradientBoostingClassifier(random_state=56))]\n",
    "sc3 = StackingClassifier(estimators=estimators3, final_estimator=LogisticRegression()).fit(X_train_sc, y_train)\n",
    "\n",
    "print('Train: ' + str(evaluate_model(X_train_sc, y_train, sc3)) + '\\n' + 'Val: ' + str(evaluate_model(X_val_sc, y_val, sc3)))"
   ]
  },
  {
   "cell_type": "code",
   "execution_count": 203,
   "id": "76d801d8",
   "metadata": {},
   "outputs": [
    {
     "name": "stdout",
     "output_type": "stream",
     "text": [
      "Train: 0.7093198992443325\n",
      "Val: 0.6822977725674091\n"
     ]
    }
   ],
   "source": [
    "estimators4 = [('rf', RandomForestClassifier(n_estimators = 40, max_depth = 5,random_state=56)),('nb', GaussianNB()), ('gb', GradientBoostingClassifier(random_state=56))]\n",
    "sc4 = StackingClassifier(estimators=estimators4, final_estimator= RandomForestClassifier(n_estimators = 40, max_depth = 5,random_state=56)).fit(X_train_sc, y_train)\n",
    "\n",
    "print('Train: ' + str(evaluate_model(X_train_sc, y_train, sc4)) + '\\n' + 'Val: ' + str(evaluate_model(X_val_sc, y_val, sc4)))"
   ]
  },
  {
   "cell_type": "markdown",
   "id": "b8facf55",
   "metadata": {},
   "source": [
    "## 6.11. Voting Classifier"
   ]
  },
  {
   "cell_type": "code",
   "execution_count": 204,
   "id": "d73ce8ed",
   "metadata": {},
   "outputs": [],
   "source": [
    "feat=['Product_Duration', \n",
    "       'GoogleAnalytics_ExitRate', 'GoogleAnalytics_PageValue', 'Date_month',\n",
    "       'Total_Pages', 'Goal_Page', 'x1_2', 'x1_3', 'x1_4', 'x1_5', 'x1_6', 'x1_8',\n",
    "       'x1_10', 'x1_11', 'x1_13', 'x1_15']\n",
    "\n",
    "X_train_v = X_train[feat]\n",
    "X_val_v = X_val[feat]\n",
    "\n",
    "X_v = X[feat]\n",
    "X_test_v = X_test[feat]"
   ]
  },
  {
   "cell_type": "code",
   "execution_count": 205,
   "id": "10aeafa8",
   "metadata": {},
   "outputs": [
    {
     "name": "stdout",
     "output_type": "stream",
     "text": [
      "Train: 0.6795608991113434\n",
      "Val: 0.6583541147132168\n"
     ]
    }
   ],
   "source": [
    "estimators = [('rf', RandomForestClassifier(n_estimators = 40, max_depth = 6,random_state=56)),('nb', GaussianNB())]\n",
    "v1 = VotingClassifier(estimators = estimators).fit(X_train_v, y_train)\n",
    "\n",
    "print('Train: ' + str(evaluate_model(X_train_v, y_train, v1)) + '\\n' + 'Val: ' + str(evaluate_model(X_val_v, y_val, v1)))"
   ]
  },
  {
   "cell_type": "code",
   "execution_count": 206,
   "id": "f65a0da2",
   "metadata": {},
   "outputs": [
    {
     "name": "stdout",
     "output_type": "stream",
     "text": [
      "Train: 0.7040229885057473\n",
      "Val: 0.6696528555431132\n"
     ]
    }
   ],
   "source": [
    "estimators = [('rf', RandomForestClassifier(n_estimators = 40, max_depth = 4,random_state=56)),('nb', GaussianNB()), ('gb', GradientBoostingClassifier(random_state=56))]\n",
    "v2 = VotingClassifier(estimators = estimators).fit(X_train_v, y_train)\n",
    "\n",
    "print('Train: ' + str(evaluate_model(X_train_v, y_train, v2)) + '\\n' + 'Val: ' + str(evaluate_model(X_val_v, y_val, v2)))"
   ]
  },
  {
   "cell_type": "code",
   "execution_count": 207,
   "id": "9f51923f",
   "metadata": {},
   "outputs": [],
   "source": [
    "f1_vc = f1_score(y_val, v2.predict(X_val_v))"
   ]
  },
  {
   "cell_type": "markdown",
   "id": "68eaedc3",
   "metadata": {},
   "source": [
    "## 6.12. Support Vector Machine"
   ]
  },
  {
   "cell_type": "code",
   "execution_count": 208,
   "id": "32ed36dd",
   "metadata": {},
   "outputs": [],
   "source": [
    "feat = ['AccountMng_Pages', \n",
    "       'Product_Pages', 'Product_Duration', 'GoogleAnalytics_BounceRate',\n",
    "       'GoogleAnalytics_ExitRate', 'GoogleAnalytics_PageValue', 'Date_month',\n",
    "       'Total_Pages',  'Goal_Page', 'x0_MacOSX',\n",
    "       'x0_Windows', 'x0_iOS', 'x1_2', 'x1_3', 'x1_4', 'x1_5', 'x1_6', 'x1_8',\n",
    "       'x1_10', 'x1_11', 'x1_13', 'x1_15']\n",
    "\n",
    "mm_X_train_svm = min_max_X_train[feat]\n",
    "mm_X_val_svm = min_max_X_val[feat]\n",
    "\n",
    "ss_X_train_svm = std_scaler_X_train[feat]\n",
    "ss_X_val_svm = std_scaler_X_val[feat]\n",
    "\n",
    "r_X_train_svm = robust_X_train[feat]\n",
    "r_X_val_svm = robust_X_val[feat]"
   ]
  },
  {
   "cell_type": "code",
   "execution_count": 209,
   "id": "44a8840b",
   "metadata": {},
   "outputs": [
    {
     "name": "stdout",
     "output_type": "stream",
     "text": [
      "Train: 0.6785714285714286\n",
      "Val: 0.6496674057649667\n"
     ]
    }
   ],
   "source": [
    "# with min max scaler\n",
    "\n",
    "svc_mm = SVC(random_state=56).fit(mm_X_train_svm, y_train)\n",
    "\n",
    "print('Train: ' + str(evaluate_model(mm_X_train_svm, y_train, svc_mm)) + '\\n' + 'Val: ' + str(evaluate_model(mm_X_val_svm, y_val, svc_mm)))"
   ]
  },
  {
   "cell_type": "code",
   "execution_count": 210,
   "id": "ca6df4eb",
   "metadata": {},
   "outputs": [
    {
     "name": "stdout",
     "output_type": "stream",
     "text": [
      "Train: 0.691721686135094\n",
      "Val: 0.6619385342789598\n"
     ]
    }
   ],
   "source": [
    "# with standard scaler\n",
    "svc_ss = SVC(random_state=56).fit(ss_X_train_svm, y_train)\n",
    "\n",
    "print('Train: ' + str(evaluate_model(ss_X_train_svm, y_train, svc_ss)) + '\\n' + 'Val: ' + str(evaluate_model(ss_X_val_svm, y_val, svc_ss)))"
   ]
  },
  {
   "cell_type": "code",
   "execution_count": 211,
   "id": "8e2fcf0f",
   "metadata": {},
   "outputs": [],
   "source": [
    "f1_svc = f1_score(y_val, svc_ss.predict(ss_X_val_svm))"
   ]
  },
  {
   "cell_type": "code",
   "execution_count": 212,
   "id": "8eb8c659",
   "metadata": {},
   "outputs": [
    {
     "name": "stdout",
     "output_type": "stream",
     "text": [
      "Train: 0.6629834254143646\n",
      "Val: 0.6602972399150744\n"
     ]
    }
   ],
   "source": [
    "# with robust scaler\n",
    "svc_r = SVC(kernel = 'linear', random_state=56).fit(r_X_train_svm, y_train)\n",
    "\n",
    "print('Train: ' + str(evaluate_model(r_X_train_svm, y_train, svc_r)) + '\\n' + 'Val: ' + str(evaluate_model(r_X_val_svm, y_val, svc_r)))"
   ]
  },
  {
   "cell_type": "markdown",
   "id": "5a9c9999",
   "metadata": {},
   "source": [
    "## 6.13. Ridge Classifier"
   ]
  },
  {
   "cell_type": "code",
   "execution_count": 213,
   "id": "048a301d",
   "metadata": {},
   "outputs": [],
   "source": [
    "feat = ['AccountMng_Pages', \n",
    "       'Product_Pages',  'GoogleAnalytics_BounceRate',\n",
    "       'GoogleAnalytics_ExitRate', 'GoogleAnalytics_PageValue', \n",
    "       'Total_Pages', 'Total_Duration', \n",
    "       'Product_Pages_only','Goal_Page', 'x0_MacOSX',\n",
    "       'x0_Windows', 'x0_iOS', 'x1_2', 'x1_3', 'x1_4', 'x1_5', 'x1_6', 'x1_8',\n",
    "       'x1_10', 'x1_11', 'x1_13', 'x1_15', 'x2_Returner']\n",
    "\n",
    "mm_X_train_r = X_train[feat]\n",
    "mm_X_val_r = X_val[feat]\n",
    "\n",
    "ss_X_train_r = std_scaler_X_train[feat]\n",
    "ss_X_val_r = std_scaler_X_val[feat]\n",
    "\n",
    "r_X_train_r = robust_X_train[feat]\n",
    "r_X_val_r = robust_X_val[feat]"
   ]
  },
  {
   "cell_type": "code",
   "execution_count": 214,
   "id": "5528320f",
   "metadata": {},
   "outputs": [
    {
     "name": "stdout",
     "output_type": "stream",
     "text": [
      "Train: 0.653121902874133\n",
      "Val: 0.6506849315068494\n"
     ]
    }
   ],
   "source": [
    "# with min max scaler\n",
    "rc_mm = RidgeClassifier().fit(mm_X_train_r, y_train)\n",
    "\n",
    "print('Train: ' + str(evaluate_model(mm_X_train_r, y_train, rc_mm)) + '\\n' + 'Val: ' + str(evaluate_model(mm_X_val_r, y_val, rc_mm)))"
   ]
  },
  {
   "cell_type": "code",
   "execution_count": 215,
   "id": "e9fbf822",
   "metadata": {},
   "outputs": [],
   "source": [
    "f1_rc = f1_score(y_val, rc_mm.predict(mm_X_val_r))"
   ]
  },
  {
   "cell_type": "code",
   "execution_count": 216,
   "id": "d373cfe9",
   "metadata": {},
   "outputs": [
    {
     "name": "stdout",
     "output_type": "stream",
     "text": [
      "Train: 0.6498015873015873\n",
      "Val: 0.6498277841561424\n"
     ]
    }
   ],
   "source": [
    "# with standard scaler\n",
    "rc_ss = RidgeClassifier().fit(ss_X_train_r, y_train)\n",
    "\n",
    "print('Train: ' + str(evaluate_model(ss_X_train_r, y_train, rc_ss)) + '\\n' + 'Val: ' + str(evaluate_model(ss_X_val_r, y_val, rc_ss)))"
   ]
  },
  {
   "cell_type": "code",
   "execution_count": 217,
   "id": "c0720e57",
   "metadata": {},
   "outputs": [
    {
     "name": "stdout",
     "output_type": "stream",
     "text": [
      "Train: 0.6457399103139013\n",
      "Val: 0.6475315729047071\n"
     ]
    }
   ],
   "source": [
    "# with robust scaler\n",
    "rc_r = RidgeClassifier().fit(r_X_train_r, y_train)\n",
    "\n",
    "print('Train: ' + str(evaluate_model(ss_X_train_r, y_train, rc_r)) + '\\n' + 'Val: ' + str(evaluate_model(r_X_val_r, y_val, rc_r)))"
   ]
  },
  {
   "cell_type": "markdown",
   "id": "393d654a",
   "metadata": {},
   "source": [
    "## 6.14. Passive Aggressive Classifier"
   ]
  },
  {
   "cell_type": "code",
   "execution_count": 218,
   "id": "8eea486a",
   "metadata": {},
   "outputs": [],
   "source": [
    "feat = ['AccountMng_Pages', 'GoogleAnalytics_ExitRate', 'GoogleAnalytics_PageValue', \n",
    "        'Date_month','x0_MacOSX', 'x0_Windows', 'x0_iOS', 'x1_2', 'x1_3', \n",
    "        'x1_4', 'x1_5', 'x1_6', 'x1_8','x1_10', 'x1_11', 'x1_13', 'x1_15',\n",
    "        'x2_Returner']\n",
    "\n",
    "X_train_pa = X_train[feat]\n",
    "X_val_pa = X_val[feat]"
   ]
  },
  {
   "cell_type": "code",
   "execution_count": 219,
   "id": "9b201cbb",
   "metadata": {},
   "outputs": [],
   "source": [
    "pa = PassiveAggressiveClassifier(random_state = 56).fit(X_train_pa, y_train)"
   ]
  },
  {
   "cell_type": "code",
   "execution_count": 220,
   "id": "7026ffce",
   "metadata": {},
   "outputs": [
    {
     "name": "stdout",
     "output_type": "stream",
     "text": [
      "Train: 0.6600896860986547\n",
      "Val: 0.6618257261410788\n"
     ]
    }
   ],
   "source": [
    "print('Train: ' + str(evaluate_model(X_train_pa, y_train, pa)) + '\\n' + 'Val: ' + str(evaluate_model(X_val_pa, y_val, pa)))"
   ]
  },
  {
   "cell_type": "code",
   "execution_count": 221,
   "id": "a0bfeab3",
   "metadata": {},
   "outputs": [],
   "source": [
    "f1_pa = f1_score(y_val, pa.predict(X_val_pa))"
   ]
  },
  {
   "cell_type": "markdown",
   "id": "c6cd1cf6",
   "metadata": {},
   "source": [
    "# 7. Models Comparison"
   ]
  },
  {
   "cell_type": "code",
   "execution_count": 222,
   "id": "841ef8ae",
   "metadata": {},
   "outputs": [
    {
     "data": {
      "image/png": "[encoded data removed]",
      "text/plain": [
       "<Figure size 1080x504 with 1 Axes>"
      ]
     },
     "metadata": {},
     "output_type": "display_data"
    }
   ],
   "source": [
    "f1_scores = [f1_lr, f1_nb, f1_kn, f1_dt, f1_mlp, f1_ab, f1_gb, f1_rf, f1_bc, f1_sc, f1_svc, f1_vc, f1_rc, f1_pa]\n",
    "models = ['LR', 'NB', 'KN', 'DT', 'MLP','AB', 'GB', 'RF', 'BC', 'SC', 'SVC', 'VC', 'RC', 'PA']\n",
    "data_tuples = list(zip(models, f1_scores))\n",
    "data = pd.DataFrame(data_tuples)\n",
    "data = data.sort_values(1)\n",
    "plt.figure(figsize=(15,7))\n",
    "plt.bar(data[0], data[1])\n",
    "plt.xticks(rotation=90)\n",
    "plt.ylim(0.6, 0.7)\n",
    "plt.title('Models Comparison')\n",
    "plt.show()"
   ]
  },
  {
   "cell_type": "markdown",
   "id": "972b7cb8",
   "metadata": {},
   "source": [
    "# 8. Final Model"
   ]
  },
  {
   "cell_type": "code",
   "execution_count": 223,
   "id": "4155a7c1",
   "metadata": {},
   "outputs": [
    {
     "name": "stdout",
     "output_type": "stream",
     "text": [
      "Train: 0.6982005141388175\n",
      "Val: 0.6738095238095237\n"
     ]
    }
   ],
   "source": [
    "estimators = [('rf', RandomForestClassifier(n_estimators = 40, max_depth = 6,random_state=56)),('nb', GaussianNB())]\n",
    "final_model = StackingClassifier(estimators=estimators, final_estimator=RandomForestClassifier(n_estimators = 40, max_depth = 6,random_state=56)).fit(X_train_sc, y_train)\n",
    "\n",
    "print('Train: ' + str(evaluate_model(X_train_sc, y_train, final_model)) + '\\n' + 'Val: ' + str(evaluate_model(X_val_sc, y_val, final_model)))"
   ]
  },
  {
   "cell_type": "code",
   "execution_count": 224,
   "id": "a5c246eb",
   "metadata": {},
   "outputs": [
    {
     "data": {
      "text/plain": [
       "0.7926064226374577"
      ]
     },
     "execution_count": 224,
     "metadata": {},
     "output_type": "execute_result"
    }
   ],
   "source": [
    "roc_auc_score(y_val, final_model.predict(X_val_sc))"
   ]
  },
  {
   "cell_type": "code",
   "execution_count": 225,
   "id": "0ceaa101",
   "metadata": {},
   "outputs": [
    {
     "data": {
      "text/html": [
       "<div>\n",
       "<style scoped>\n",
       "    .dataframe tbody tr th:only-of-type {\n",
       "        vertical-align: middle;\n",
       "    }\n",
       "\n",
       "    .dataframe tbody tr th {\n",
       "        vertical-align: top;\n",
       "    }\n",
       "\n",
       "    .dataframe thead th {\n",
       "        text-align: right;\n",
       "    }\n",
       "</style>\n",
       "<table border=\"1\" class=\"dataframe\">\n",
       "  <thead>\n",
       "    <tr style=\"text-align: right;\">\n",
       "      <th></th>\n",
       "      <th>Buy</th>\n",
       "    </tr>\n",
       "    <tr>\n",
       "      <th>Access_ID</th>\n",
       "      <th></th>\n",
       "    </tr>\n",
       "  </thead>\n",
       "  <tbody>\n",
       "    <tr>\n",
       "      <th>798519314</th>\n",
       "      <td>0</td>\n",
       "    </tr>\n",
       "    <tr>\n",
       "      <th>798663101</th>\n",
       "      <td>0</td>\n",
       "    </tr>\n",
       "    <tr>\n",
       "      <th>798663221</th>\n",
       "      <td>0</td>\n",
       "    </tr>\n",
       "    <tr>\n",
       "      <th>798760918</th>\n",
       "      <td>0</td>\n",
       "    </tr>\n",
       "    <tr>\n",
       "      <th>798856982</th>\n",
       "      <td>1</td>\n",
       "    </tr>\n",
       "    <tr>\n",
       "      <th>...</th>\n",
       "      <td>...</td>\n",
       "    </tr>\n",
       "    <tr>\n",
       "      <th>962042726</th>\n",
       "      <td>0</td>\n",
       "    </tr>\n",
       "    <tr>\n",
       "      <th>962063064</th>\n",
       "      <td>0</td>\n",
       "    </tr>\n",
       "    <tr>\n",
       "      <th>962147749</th>\n",
       "      <td>1</td>\n",
       "    </tr>\n",
       "    <tr>\n",
       "      <th>962182167</th>\n",
       "      <td>0</td>\n",
       "    </tr>\n",
       "    <tr>\n",
       "      <th>962218682</th>\n",
       "      <td>0</td>\n",
       "    </tr>\n",
       "  </tbody>\n",
       "</table>\n",
       "<p>2300 rows × 1 columns</p>\n",
       "</div>"
      ],
      "text/plain": [
       "           Buy\n",
       "Access_ID     \n",
       "798519314    0\n",
       "798663101    0\n",
       "798663221    0\n",
       "798760918    0\n",
       "798856982    1\n",
       "...        ...\n",
       "962042726    0\n",
       "962063064    0\n",
       "962147749    1\n",
       "962182167    0\n",
       "962218682    0\n",
       "\n",
       "[2300 rows x 1 columns]"
      ]
     },
     "execution_count": 225,
     "metadata": {},
     "output_type": "execute_result"
    }
   ],
   "source": [
    "final_model = StackingClassifier(estimators=estimators, final_estimator=RandomForestClassifier(n_estimators = 40, max_depth = 6,random_state=56)).fit(X_sc, y)\n",
    "y_pred = final_model.predict(X_test_sc)\n",
    "kaggle_submission = pd.DataFrame(y_pred, columns = [\"Buy\"], index = X_test.index)\n",
    "kaggle_submission"
   ]
  },
  {
   "cell_type": "code",
   "execution_count": 226,
   "id": "8100a640",
   "metadata": {},
   "outputs": [],
   "source": [
    "#kaggle_submission.to_csv('Group39_Version94.csv')\n",
    "#kaggle: 0.70329"
   ]
  },
  {
   "cell_type": "code",
   "execution_count": 227,
   "id": "612ad8a3",
   "metadata": {
    "scrolled": true
   },
   "outputs": [
    {
     "data": {
      "text/plain": [
       "0    1980\n",
       "1     320\n",
       "Name: Buy, dtype: int64"
      ]
     },
     "execution_count": 227,
     "metadata": {},
     "output_type": "execute_result"
    }
   ],
   "source": [
    "kaggle_submission['Buy'].value_counts()"
   ]
  },
  {
   "cell_type": "code",
   "execution_count": 228,
   "id": "463ad3af",
   "metadata": {},
   "outputs": [
    {
     "data": {
      "text/html": [
       "<div>\n",
       "<style scoped>\n",
       "    .dataframe tbody tr th:only-of-type {\n",
       "        vertical-align: middle;\n",
       "    }\n",
       "\n",
       "    .dataframe tbody tr th {\n",
       "        vertical-align: top;\n",
       "    }\n",
       "\n",
       "    .dataframe thead th {\n",
       "        text-align: right;\n",
       "    }\n",
       "</style>\n",
       "<table border=\"1\" class=\"dataframe\">\n",
       "  <thead>\n",
       "    <tr style=\"text-align: right;\">\n",
       "      <th></th>\n",
       "      <th>Product_Duration</th>\n",
       "      <th>GoogleAnalytics_ExitRate</th>\n",
       "      <th>GoogleAnalytics_PageValue</th>\n",
       "      <th>Date_month</th>\n",
       "      <th>Total_Pages</th>\n",
       "      <th>Goal_Page</th>\n",
       "      <th>x1_2</th>\n",
       "      <th>x1_3</th>\n",
       "      <th>x1_4</th>\n",
       "      <th>x1_5</th>\n",
       "      <th>x1_6</th>\n",
       "      <th>x1_8</th>\n",
       "      <th>x1_10</th>\n",
       "      <th>x1_11</th>\n",
       "      <th>x1_13</th>\n",
       "      <th>x1_15</th>\n",
       "      <th>Buy</th>\n",
       "    </tr>\n",
       "    <tr>\n",
       "      <th>Access_ID</th>\n",
       "      <th></th>\n",
       "      <th></th>\n",
       "      <th></th>\n",
       "      <th></th>\n",
       "      <th></th>\n",
       "      <th></th>\n",
       "      <th></th>\n",
       "      <th></th>\n",
       "      <th></th>\n",
       "      <th></th>\n",
       "      <th></th>\n",
       "      <th></th>\n",
       "      <th></th>\n",
       "      <th></th>\n",
       "      <th></th>\n",
       "      <th></th>\n",
       "      <th></th>\n",
       "    </tr>\n",
       "  </thead>\n",
       "  <tbody>\n",
       "    <tr>\n",
       "      <th>798519314</th>\n",
       "      <td>5332.5478</td>\n",
       "      <td>0.0654</td>\n",
       "      <td>0.0000</td>\n",
       "      <td>8</td>\n",
       "      <td>86.0</td>\n",
       "      <td>0</td>\n",
       "      <td>0.0</td>\n",
       "      <td>0.0</td>\n",
       "      <td>0.0</td>\n",
       "      <td>0.0</td>\n",
       "      <td>0.0</td>\n",
       "      <td>0.0</td>\n",
       "      <td>0.0</td>\n",
       "      <td>0.0</td>\n",
       "      <td>0.0</td>\n",
       "      <td>0.0</td>\n",
       "      <td>0</td>\n",
       "    </tr>\n",
       "    <tr>\n",
       "      <th>798663101</th>\n",
       "      <td>1420.4725</td>\n",
       "      <td>0.0058</td>\n",
       "      <td>0.0000</td>\n",
       "      <td>5</td>\n",
       "      <td>57.0</td>\n",
       "      <td>0</td>\n",
       "      <td>0.0</td>\n",
       "      <td>0.0</td>\n",
       "      <td>1.0</td>\n",
       "      <td>0.0</td>\n",
       "      <td>0.0</td>\n",
       "      <td>0.0</td>\n",
       "      <td>0.0</td>\n",
       "      <td>0.0</td>\n",
       "      <td>0.0</td>\n",
       "      <td>0.0</td>\n",
       "      <td>0</td>\n",
       "    </tr>\n",
       "    <tr>\n",
       "      <th>798663221</th>\n",
       "      <td>788.5000</td>\n",
       "      <td>0.0250</td>\n",
       "      <td>0.0000</td>\n",
       "      <td>11</td>\n",
       "      <td>36.0</td>\n",
       "      <td>0</td>\n",
       "      <td>0.0</td>\n",
       "      <td>1.0</td>\n",
       "      <td>0.0</td>\n",
       "      <td>0.0</td>\n",
       "      <td>0.0</td>\n",
       "      <td>0.0</td>\n",
       "      <td>0.0</td>\n",
       "      <td>0.0</td>\n",
       "      <td>0.0</td>\n",
       "      <td>0.0</td>\n",
       "      <td>0</td>\n",
       "    </tr>\n",
       "    <tr>\n",
       "      <th>798760918</th>\n",
       "      <td>689.0000</td>\n",
       "      <td>0.1000</td>\n",
       "      <td>0.0000</td>\n",
       "      <td>5</td>\n",
       "      <td>2.0</td>\n",
       "      <td>0</td>\n",
       "      <td>1.0</td>\n",
       "      <td>0.0</td>\n",
       "      <td>0.0</td>\n",
       "      <td>0.0</td>\n",
       "      <td>0.0</td>\n",
       "      <td>0.0</td>\n",
       "      <td>0.0</td>\n",
       "      <td>0.0</td>\n",
       "      <td>0.0</td>\n",
       "      <td>0.0</td>\n",
       "      <td>0</td>\n",
       "    </tr>\n",
       "    <tr>\n",
       "      <th>798856982</th>\n",
       "      <td>3367.0413</td>\n",
       "      <td>0.0185</td>\n",
       "      <td>1.0353</td>\n",
       "      <td>11</td>\n",
       "      <td>142.0</td>\n",
       "      <td>1</td>\n",
       "      <td>0.0</td>\n",
       "      <td>0.0</td>\n",
       "      <td>0.0</td>\n",
       "      <td>0.0</td>\n",
       "      <td>0.0</td>\n",
       "      <td>0.0</td>\n",
       "      <td>1.0</td>\n",
       "      <td>0.0</td>\n",
       "      <td>0.0</td>\n",
       "      <td>0.0</td>\n",
       "      <td>1</td>\n",
       "    </tr>\n",
       "  </tbody>\n",
       "</table>\n",
       "</div>"
      ],
      "text/plain": [
       "           Product_Duration  GoogleAnalytics_ExitRate  \\\n",
       "Access_ID                                               \n",
       "798519314         5332.5478                    0.0654   \n",
       "798663101         1420.4725                    0.0058   \n",
       "798663221          788.5000                    0.0250   \n",
       "798760918          689.0000                    0.1000   \n",
       "798856982         3367.0413                    0.0185   \n",
       "\n",
       "           GoogleAnalytics_PageValue  Date_month  Total_Pages  Goal_Page  \\\n",
       "Access_ID                                                                  \n",
       "798519314                     0.0000           8         86.0          0   \n",
       "798663101                     0.0000           5         57.0          0   \n",
       "798663221                     0.0000          11         36.0          0   \n",
       "798760918                     0.0000           5          2.0          0   \n",
       "798856982                     1.0353          11        142.0          1   \n",
       "\n",
       "           x1_2  x1_3  x1_4  x1_5  x1_6  x1_8  x1_10  x1_11  x1_13  x1_15  Buy  \n",
       "Access_ID                                                                       \n",
       "798519314   0.0   0.0   0.0   0.0   0.0   0.0    0.0    0.0    0.0    0.0    0  \n",
       "798663101   0.0   0.0   1.0   0.0   0.0   0.0    0.0    0.0    0.0    0.0    0  \n",
       "798663221   0.0   1.0   0.0   0.0   0.0   0.0    0.0    0.0    0.0    0.0    0  \n",
       "798760918   1.0   0.0   0.0   0.0   0.0   0.0    0.0    0.0    0.0    0.0    0  \n",
       "798856982   0.0   0.0   0.0   0.0   0.0   0.0    1.0    0.0    0.0    0.0    1  "
      ]
     },
     "execution_count": 228,
     "metadata": {},
     "output_type": "execute_result"
    }
   ],
   "source": [
    "test_dataset = pd.concat([X_test_sc, kaggle_submission], axis = 1)\n",
    "test_dataset.head()"
   ]
  },
  {
   "cell_type": "code",
   "execution_count": 229,
   "id": "c6f26cc0",
   "metadata": {},
   "outputs": [
    {
     "data": {
      "text/plain": [
       "Buy\n",
       "0    1023.060893\n",
       "1    2106.399927\n",
       "Name: Product_Duration, dtype: float64"
      ]
     },
     "execution_count": 229,
     "metadata": {},
     "output_type": "execute_result"
    }
   ],
   "source": [
    "test_dataset.groupby('Buy')['Product_Duration'].mean()"
   ]
  },
  {
   "cell_type": "code",
   "execution_count": 230,
   "id": "a42a826e",
   "metadata": {},
   "outputs": [
    {
     "data": {
      "text/plain": [
       "Buy\n",
       "0    0.046607\n",
       "1    0.017617\n",
       "Name: GoogleAnalytics_ExitRate, dtype: float64"
      ]
     },
     "execution_count": 230,
     "metadata": {},
     "output_type": "execute_result"
    }
   ],
   "source": [
    "test_dataset.groupby('Buy')['GoogleAnalytics_ExitRate'].mean()"
   ]
  },
  {
   "cell_type": "code",
   "execution_count": 231,
   "id": "234c11b1",
   "metadata": {},
   "outputs": [
    {
     "data": {
      "text/plain": [
       "Buy\n",
       "0     0.779315\n",
       "1    35.345080\n",
       "Name: GoogleAnalytics_PageValue, dtype: float64"
      ]
     },
     "execution_count": 231,
     "metadata": {},
     "output_type": "execute_result"
    }
   ],
   "source": [
    "test_dataset.groupby('Buy')['GoogleAnalytics_PageValue'].mean()"
   ]
  },
  {
   "cell_type": "code",
   "execution_count": 232,
   "id": "e5900919",
   "metadata": {},
   "outputs": [
    {
     "data": {
      "text/plain": [
       "Buy  Date_month\n",
       "0    2              29\n",
       "     3             319\n",
       "     5             566\n",
       "     6              48\n",
       "     7              85\n",
       "     8              76\n",
       "     9              69\n",
       "     10             94\n",
       "     11            429\n",
       "     12            265\n",
       "1    2               2\n",
       "     3              34\n",
       "     5              66\n",
       "     6               3\n",
       "     7               8\n",
       "     8              10\n",
       "     9              18\n",
       "     10             19\n",
       "     11            114\n",
       "     12             46\n",
       "Name: Date_month, dtype: int64"
      ]
     },
     "execution_count": 232,
     "metadata": {},
     "output_type": "execute_result"
    }
   ],
   "source": [
    "test_dataset.groupby(['Buy','Date_month'])['Date_month'].count()"
   ]
  },
  {
   "cell_type": "code",
   "execution_count": 233,
   "id": "972b897e",
   "metadata": {},
   "outputs": [
    {
     "data": {
      "text/plain": [
       "Buy\n",
       "0    30.682323\n",
       "1    59.596875\n",
       "Name: Total_Pages, dtype: float64"
      ]
     },
     "execution_count": 233,
     "metadata": {},
     "output_type": "execute_result"
    }
   ],
   "source": [
    "test_dataset.groupby('Buy')['Total_Pages'].mean()"
   ]
  },
  {
   "cell_type": "code",
   "execution_count": 234,
   "id": "d85266d6",
   "metadata": {},
   "outputs": [
    {
     "data": {
      "text/plain": [
       "Buy  Goal_Page\n",
       "0    0            1808\n",
       "     1             172\n",
       "1    1             320\n",
       "Name: Goal_Page, dtype: int64"
      ]
     },
     "execution_count": 234,
     "metadata": {},
     "output_type": "execute_result"
    }
   ],
   "source": [
    "test_dataset.groupby(['Buy','Goal_Page'])['Goal_Page'].count()"
   ]
  }
 ],
 "metadata": {
  "kernelspec": {
   "display_name": "Python 3 (ipykernel)",
   "language": "python",
   "name": "python3"
  },
  "language_info": {
   "codemirror_mode": {
    "name": "ipython",
    "version": 3
   },
   "file_extension": ".py",
   "mimetype": "text/x-python",
   "name": "python",
   "nbconvert_exporter": "python",
   "pygments_lexer": "ipython3",
   "version": "3.8.11"
  }
 },
 "nbformat": 4,
 "nbformat_minor": 5
}
